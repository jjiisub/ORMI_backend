{
  "nbformat": 4,
  "nbformat_minor": 0,
  "metadata": {
    "colab": {
      "provenance": []
    },
    "kernelspec": {
      "name": "python3",
      "display_name": "Python 3"
    },
    "language_info": {
      "name": "python"
    }
  },
  "cells": [
    {
      "cell_type": "markdown",
      "source": [
        "# colab 사용법"
      ],
      "metadata": {
        "id": "4I7HMkV9vWAP"
      }
    },
    {
      "cell_type": "markdown",
      "source": [
        "1. **실행 단축키**\n",
        "    1. (필수) `Ctrl(Command)` + `Enter` : 해당 셀 실행\n",
        "    2. `Shift` + `Enter` : 해당 셀 실행 + 커서를 다음 셀로 이동\n",
        "    3. (필수) `Alt(Option)` + `Enter` : 해당 셀 실행 + 코드 불록 하단 추가\n",
        "2. **셀 삽입/삭제 관련 단축키**\n",
        "    1. `Ctrl(Command)` + M A : 코드 셀 위에 삽입\n",
        "    2. `Ctrl(Command)` + M B : 코드 셀 아래 삽입\n",
        "    3. `Ctrl(Command)` + M D : 셀 지우기\n",
        "    4. `Ctrl(Command)` + M Y : 코드 셀로 변경\n",
        "    5. `Ctrl(Command)` + M M : 마크다운 셀로 변경\n",
        "    6. `Ctrl(Command)` + M Z : 실행 취소\n",
        "3. 수정 관련된 단축키\n",
        "    1. `Ctrl(Command)` + `Alt(Option)` + 화살표위아래 : 동시 수정\n",
        "    2. (자주) `Ctrl(Command)` + D : 같은 단어 찾아 동시 수정\n",
        "    3. `Ctrl(Command)` + `Shift` + L : 동일 단어를 전체로 찾아 동시 수정\n",
        "    4. `Alt(Option)` + `Shift` + 화살표위아래 : 해당내용을 위나 아래 복사해서 붙여넣기\n",
        "    5. `Alt(Option)` + 화살표위아래 : 해당 내용을 위나 아래로 보내기\n",
        "    6. (자주) `Ctrl(Command)` + `Alt(Option)` + 화살표위아래 : 위아래 동시 수정\n",
        "    7. (자주) Home, End : 문장의 양 끝\n",
        "    8. (필수) `Ctrl` + `/` : 주석\n",
        "    9. (필수) `Ctrl` + `Del` : 한 줄 지우기\n",
        "    10. (필수) `Tab`, `Ctrl` + `]` : 들여쓰기\n",
        "    11. (필수) `Shift` + `Tab`, `Ctrl` + `[` : 내어쓰기\n",
        "4. 단축키 보기 및 설정\n",
        "    1. `Ctrl(Command)` + M H : 단축키 모음"
      ],
      "metadata": {
        "id": "OLQOYdGgvftw"
      }
    },
    {
      "cell_type": "markdown",
      "source": [
        "# 마크다운"
      ],
      "metadata": {
        "id": "oKZs6rcFx66u"
      }
    },
    {
      "cell_type": "markdown",
      "source": [
        "## 필수 마크다운\n",
        "  ```\n",
        "  # hello\n",
        "  ## hello\n",
        "  ### hello\n",
        "\n",
        "  1. hello\n",
        "  2. hello\n",
        "  3. hello\n",
        "\n",
        "  * hello\n",
        "  * hello\n",
        "  * hello\n",
        "  ```\n",
        "\n",
        "\n"
      ],
      "metadata": {
        "id": "j6Z-ru_OyN0D"
      }
    },
    {
      "cell_type": "markdown",
      "source": [
        "## 선택 마크다운\n",
        "  ```\n",
        "  # h1\n",
        "  ## h2\n",
        "  ### h3\n",
        "  #### h4\n",
        "  ##### h5\n",
        "  ###### h6\n",
        "\n",
        "  ---\n",
        "\n",
        "  1. hello\n",
        "  2. hello\n",
        "  3. hello\n",
        "\n",
        "  * hello\n",
        "  * hello\n",
        "  * hello\n",
        "\n",
        "  - hello\n",
        "  - hello\n",
        "  - hello\n",
        "\n",
        "  __굵게__\n",
        "  **굵게**\n",
        "  _기울여 쓰기_\n",
        "  *기울여 쓰기*\n",
        "  ~취소선~\n",
        "  ~~취소선~~\n",
        "\n",
        "  > 인용문 작성하기\n",
        "  `인라인 코드는 이렇게 작성해요.`\n",
        "\n",
        "  [인라인 링크](https://velog.io/)\n",
        "\n",
        "  ![이미지 설명](이미지 링크)\n",
        "\n",
        "  * table은 직접 만들지 마시고 https://www.tablesgenerator.com/markdown_tables 와 같은 서비스를 이용하세요.\n",
        "  | 1 | 2     | 3 | 4 | 5     |\n",
        "  |---|-------|---|---|-------|\n",
        "  | 1 | hello | 3 | 4 | world |\n",
        "\n",
        "  * [ ] hello\n",
        "  * [X] hello\n",
        "  ```"
      ],
      "metadata": {
        "id": "u9iVTawHWVQP"
      }
    },
    {
      "cell_type": "markdown",
      "source": [
        "# Python"
      ],
      "metadata": {
        "id": "CQ8F1-n34Njg"
      }
    },
    {
      "cell_type": "code",
      "source": [
        "## 행 단위 주석\n",
        "\n",
        "\"\"\"\n",
        "큰 따옴표로 세번 묶거나\n",
        "작은따옴표로 세번 묶으면\n",
        "열단위 주석이 됩니다.\n",
        "\"\"\"\n",
        "\n",
        "'''\n",
        "큰 따옴표로 세번 묶거나\n",
        "작은따옴표로 세번 묶으면\n",
        "열단위 주석이 됩니다.\n",
        "'''"
      ],
      "metadata": {
        "id": "L7Q6gcSZBCUZ"
      },
      "execution_count": null,
      "outputs": []
    },
    {
      "cell_type": "code",
      "source": [
        "data = '''\n",
        "큰 따옴표로 세번 묶거나\n",
        "작은따옴표로 세번 묶으면\n",
        "열단위 주석이 됩니다.\n",
        "'''"
      ],
      "metadata": {
        "id": "Ke_bR4ISBFff"
      },
      "execution_count": null,
      "outputs": []
    },
    {
      "cell_type": "markdown",
      "source": [
        "* Code convention python\n",
        "* https://google.github.io/styleguide/pyguide.html"
      ],
      "metadata": {
        "id": "BVhSmZQV5I6V"
      }
    },
    {
      "cell_type": "code",
      "source": [
        "def connect_to_next_port(self, minimum: int) -> int:\n",
        "    \"\"\"Connects to the next available port.\n",
        "\n",
        "    Args:\n",
        "      minimum: A port value greater or equal to 1024.\n",
        "\n",
        "    Returns:\n",
        "      The new minimum port.\n",
        "\n",
        "    Raises:\n",
        "      ConnectionError: If no available port is found.\n",
        "    \"\"\"\n",
        "    if minimum < 1024:\n",
        "        # Note that this raising of ValueError is not mentioned in the doc\n",
        "        # string's \"Raises:\" section because it is not appropriate to\n",
        "        # guarantee this specific behavioral reaction to API misuse.\n",
        "        raise ValueError(f'Min. port must be at least 1024, not {minimum}.')\n",
        "    port = self._find_next_open_port(minimum)\n",
        "    if port is None:\n",
        "        raise ConnectionError(\n",
        "            f'Could not connect to service on port {minimum} or higher.')\n",
        "    assert port >= minimum, (\n",
        "        f'Unexpected port {port} when minimum was {minimum}.')\n",
        "    return port"
      ],
      "metadata": {
        "id": "VbHc5u7B4qII"
      },
      "execution_count": null,
      "outputs": []
    },
    {
      "cell_type": "code",
      "source": [
        "# 띄어쓰기 4칸 (!= tab)\n",
        "# 탭과 띄어쓰기 4번을 혼용하시면 error가 납니다."
      ],
      "metadata": {
        "id": "l42maz1P6cR7"
      },
      "execution_count": null,
      "outputs": []
    },
    {
      "cell_type": "code",
      "source": [
        "a = 10     #int, 정수형\n",
        "b = 10.1   #float, 실수\n",
        "c = -1\n",
        "d = True   #bool, 논리형(부울형, 참거짓형)\n",
        "e = 'good'\n",
        "f = '10'   #str, 문자열\n",
        "g = 'kim'\n",
        "h = 'honggildong'\n",
        "i = 'example'\n",
        "j = 10 + 2j #complex, 복소수\n",
        "k = 0b110   #int, 2진법 \n",
        "l = 0o56    #int, 8진법\n",
        "m = 0xAC    #int, 16진법\n",
        "\n",
        "##########\n",
        "n = hello # function\n",
        "o = print # bulit-in function\n",
        "p = lambda x:x**2 # function\n",
        "q = int # type\n",
        "r = A # class\n",
        "s = A() # instance\n",
        "##########\n",
        "\n",
        "print(f'type(10) : {type(a)}')\n",
        "print(f'type(10.1) : {type(b)}')\n",
        "print(f'type(-1) : {type(c)}')\n",
        "print(f'type(True) : {type(d)}')\n",
        "print(f'type(\\'good\\') : {type(e)}')\n",
        "print(f'type(\\'good\\'.upper) : {type(e.upper)}')\n",
        "print(f'\\'10\\' + \\'10\\' : {f + f}')\n",
        "print(f'\\'10\\' * 3 : {f * 3}')\n",
        "print(f'\\'hong\\' + \\'gildong\\' : {g + h}')\n",
        "print(f'type(\\'gildong\\') : {type(h)}')\n",
        "print(f'type(\\'gildong100!!\\') : {type(i)}')\n",
        "print(f'type(10 + 2j) : {type(j)}')\n",
        "print(f'type(0b110) : {type(k)}')\n",
        "print(k)\n",
        "print(f'type(0o56) : {type(i)}')\n",
        "print(i)\n",
        "print(f'type(0xAC) : {type(m)}')\n",
        "print(m)\n",
        "print(f'type(def func():...생략...) : {type(n)}')\n",
        "print(f'type(print) : {type(o)}')\n",
        "print(f'type(lambda x:x**2) : {type(p)}')\n",
        "print(f'type(int) : {type(int)}')"
      ],
      "metadata": {
        "id": "9AIAQeSV8EnL"
      },
      "execution_count": null,
      "outputs": []
    },
    {
      "cell_type": "code",
      "source": [
        "# 이스케이프 문자\n",
        "# https://ko.wikipedia.org/wiki/%EC%9D%B4%EC%8A%A4%EC%BC%80%EC%9D%B4%ED%94%84_%EB%AC%B8%EC%9E%90\n",
        "print('hello \\n world')\n",
        "print('hello \\t world')\n",
        "print('hello \\' world')\n",
        "print('hello \\\" world')\n",
        "print('hello \\\\ world')"
      ],
      "metadata": {
        "colab": {
          "base_uri": "https://localhost:8080/"
        },
        "id": "Ip086z2Y9jC0",
        "outputId": "b9077b30-5168-4fca-cc6a-a34f0a0cadeb"
      },
      "execution_count": null,
      "outputs": [
        {
          "output_type": "stream",
          "name": "stdout",
          "text": [
            "hello \n",
            " world\n",
            "hello \t world\n",
            "hello ' world\n",
            "hello \" world\n",
            "hello \\ world\n"
          ]
        }
      ]
    },
    {
      "cell_type": "code",
      "source": [
        "print(r'hello \\n world') #str -> raw\n",
        "print(f'hello \\n world') #앞으로 f-string 기법\n",
        "print('hello world {}'.format(10))"
      ],
      "metadata": {
        "colab": {
          "base_uri": "https://localhost:8080/"
        },
        "id": "0__F2jTw_uLJ",
        "outputId": "1ce0e1e8-5038-453d-9456-d77c7cb5de59"
      },
      "execution_count": null,
      "outputs": [
        {
          "output_type": "stream",
          "name": "stdout",
          "text": [
            "hello \\n world\n",
            "hello \n",
            " world\n",
            "hello world 10\n"
          ]
        }
      ]
    },
    {
      "cell_type": "code",
      "source": [
        "print(2.3e3) # 무리수, 오일러 수(2.718에 수렴, 파이가 3.14인 것처럼)\n",
        "print(2.3E3)\n",
        "\n",
        "2.3 * (10 ** -3)"
      ],
      "metadata": {
        "colab": {
          "base_uri": "https://localhost:8080/"
        },
        "id": "mFgX_9iNEeA_",
        "outputId": "70d08bbe-6e21-44f8-becc-da72a79139c9"
      },
      "execution_count": null,
      "outputs": [
        {
          "output_type": "stream",
          "name": "stdout",
          "text": [
            "2300.0\n",
            "2300.0\n"
          ]
        },
        {
          "output_type": "execute_result",
          "data": {
            "text/plain": [
              "0.0023"
            ]
          },
          "metadata": {},
          "execution_count": 19
        }
      ]
    },
    {
      "cell_type": "code",
      "source": [
        "class A: # 자동차 공장\n",
        "    pass\n",
        "\n",
        "a = A # class\n",
        "b = A() # instance\n",
        "\n",
        "print(type(a))\n",
        "print(type(b))"
      ],
      "metadata": {
        "id": "tzDkhEeJ-3V0"
      },
      "execution_count": null,
      "outputs": []
    },
    {
      "cell_type": "code",
      "source": [
        "# 변수를 처음 만나면 type, di을 해보자\n",
        "# type은 검색 키워드\n",
        "# dir은 속성"
      ],
      "metadata": {
        "id": "g_OefOXh9Evz"
      },
      "execution_count": null,
      "outputs": []
    },
    {
      "cell_type": "code",
      "source": [
        "# 실무에서 자주 사용하는 구문\n",
        "type(10)\n",
        "type(10) == int\n",
        "type(10.1) == float"
      ],
      "metadata": {
        "colab": {
          "base_uri": "https://localhost:8080/"
        },
        "id": "f2SeIPfvFTcu",
        "outputId": "5f924f6f-5c53-454e-ec48-f9f86e4062c1"
      },
      "execution_count": null,
      "outputs": [
        {
          "output_type": "execute_result",
          "data": {
            "text/plain": [
              "True"
            ]
          },
          "metadata": {},
          "execution_count": 25
        }
      ]
    },
    {
      "cell_type": "code",
      "source": [
        "# 위만큼 자주 사용하진 않지만 타입 확인 코드\n",
        "a = 10\n",
        "isinstance(a, int)\n",
        "isinstance(a, float)"
      ],
      "metadata": {
        "colab": {
          "base_uri": "https://localhost:8080/"
        },
        "id": "kyvxj_oWFo5N",
        "outputId": "7988f11a-4826-4d83-c6ce-13c961820578"
      },
      "execution_count": null,
      "outputs": [
        {
          "output_type": "execute_result",
          "data": {
            "text/plain": [
              "False"
            ]
          },
          "metadata": {},
          "execution_count": 29
        }
      ]
    },
    {
      "cell_type": "markdown",
      "source": [
        "## 변수"
      ],
      "metadata": {
        "id": "bowxKjflF_IU"
      }
    },
    {
      "cell_type": "code",
      "source": [
        "# Python은 자체적으로 속도를 높이기 위한 \n",
        "# 여러가지 노력들을 해왔습니다.\n",
        "# (아래 언급한 것 말고도 각각의 자료형에서 메모리를 효율적으로 관리하기 위한 노력들을 말씀드리겠습니다.)\n",
        "# 구버전도 말씀을 드릴 것인데 이유는 여러분이 실무에가서 접할 환경이 최신 버전이 아니기 때문입니다.\n",
        "# 야xx의 경우에는 Django 1.x, python 2.x를 사용하고 있어요. \n",
        "# 대부분의 기업들이 한 번 구축해놓은 시스템은 바꾸기가 쉽지 않습니다.\n",
        "# 그래서 -5 ~ 256은 먼저 메모리에 적재를 합니다."
      ],
      "metadata": {
        "id": "Io1dR_NnGB4E"
      },
      "execution_count": null,
      "outputs": []
    },
    {
      "cell_type": "code",
      "source": [
        "x = 257\n",
        "y = 257\n",
        "id(x), id(y)"
      ],
      "metadata": {
        "colab": {
          "base_uri": "https://localhost:8080/"
        },
        "id": "3On3isZ7INSw",
        "outputId": "ed690053-630f-4742-8226-955a57f06b7a"
      },
      "execution_count": null,
      "outputs": [
        {
          "output_type": "execute_result",
          "data": {
            "text/plain": [
              "(140042473846160, 140042473842736)"
            ]
          },
          "metadata": {},
          "execution_count": 31
        }
      ]
    },
    {
      "cell_type": "code",
      "source": [
        "x = -5\n",
        "y = -5\n",
        "id(x), id(y)"
      ],
      "metadata": {
        "colab": {
          "base_uri": "https://localhost:8080/"
        },
        "id": "z0fO2u-xIVw8",
        "outputId": "e5e9b46e-10c4-4939-a89a-68962408d159"
      },
      "execution_count": null,
      "outputs": [
        {
          "output_type": "execute_result",
          "data": {
            "text/plain": [
              "(140043721392176, 140043721392176)"
            ]
          },
          "metadata": {},
          "execution_count": 33
        }
      ]
    },
    {
      "cell_type": "markdown",
      "source": [
        "* 변수의 타입이란 무엇인가?\n",
        "* 변수의 타입은 왜 있는 것일까?\n",
        "* 어떤 고민을 통해 변수의 속성을 정했을까?"
      ],
      "metadata": {
        "id": "OTjJnDvhI6pm"
      }
    },
    {
      "cell_type": "code",
      "source": [
        "# cpython -> 이어 붙이라고 정의가 되어 있어서\n",
        "# 사회 통념적인 약속 -> 코드로 구현\n",
        "# type, dir\n",
        "# 이러한 약속들은 매직메서드(__init__...)를 통해 정의\n"
      ],
      "metadata": {
        "id": "SH7ROCc4J8Wx"
      },
      "execution_count": null,
      "outputs": []
    },
    {
      "cell_type": "code",
      "source": [
        "int('10')+int('10')"
      ],
      "metadata": {
        "colab": {
          "base_uri": "https://localhost:8080/"
        },
        "id": "AM0NXbv6KMXr",
        "outputId": "8746abac-b534-4a95-ded1-09b8e139a83f"
      },
      "execution_count": null,
      "outputs": [
        {
          "output_type": "execute_result",
          "data": {
            "text/plain": [
              "20"
            ]
          },
          "metadata": {},
          "execution_count": 37
        }
      ]
    },
    {
      "cell_type": "code",
      "source": [
        "# 지금 배우는 포인트는 class가 아님\n",
        "# 약속을 유저가 새로 변경할 수 있다\n",
        "class int(int):\n",
        "  def __add__(self, a):\n",
        "    return 'return'\n",
        "\n",
        "int('10')+int('10')"
      ],
      "metadata": {
        "colab": {
          "base_uri": "https://localhost:8080/",
          "height": 35
        },
        "id": "eD6BDo2EKSq6",
        "outputId": "8180159e-4fbb-416f-9ddb-2d035f70dddb"
      },
      "execution_count": null,
      "outputs": [
        {
          "output_type": "execute_result",
          "data": {
            "text/plain": [
              "'return'"
            ],
            "application/vnd.google.colaboratory.intrinsic+json": {
              "type": "string"
            }
          },
          "metadata": {},
          "execution_count": 41
        }
      ]
    },
    {
      "cell_type": "code",
      "source": [
        "class int(int):\n",
        "  def 제곱(self, a):\n",
        "    return self ** a\n",
        "\n",
        "value = int('10')\n",
        "print(dir(value))"
      ],
      "metadata": {
        "colab": {
          "base_uri": "https://localhost:8080/"
        },
        "id": "y8rDgIB3LeYG",
        "outputId": "4e7e63a1-c585-40fc-c312-7ff05617be31"
      },
      "execution_count": null,
      "outputs": [
        {
          "output_type": "stream",
          "name": "stdout",
          "text": [
            "['__abs__', '__add__', '__and__', '__bool__', '__ceil__', '__class__', '__delattr__', '__dict__', '__dir__', '__divmod__', '__doc__', '__eq__', '__float__', '__floor__', '__floordiv__', '__format__', '__ge__', '__getattribute__', '__getnewargs__', '__gt__', '__hash__', '__index__', '__init__', '__init_subclass__', '__int__', '__invert__', '__le__', '__lshift__', '__lt__', '__mod__', '__module__', '__mul__', '__ne__', '__neg__', '__new__', '__or__', '__pos__', '__pow__', '__radd__', '__rand__', '__rdivmod__', '__reduce__', '__reduce_ex__', '__repr__', '__rfloordiv__', '__rlshift__', '__rmod__', '__rmul__', '__ror__', '__round__', '__rpow__', '__rrshift__', '__rshift__', '__rsub__', '__rtruediv__', '__rxor__', '__setattr__', '__sizeof__', '__str__', '__sub__', '__subclasshook__', '__truediv__', '__trunc__', '__xor__', 'as_integer_ratio', 'bit_count', 'bit_length', 'conjugate', 'denominator', 'from_bytes', 'imag', 'numerator', 'real', 'to_bytes', '제곱']\n"
          ]
        }
      ]
    },
    {
      "cell_type": "code",
      "source": [
        "value.제곱(4)"
      ],
      "metadata": {
        "colab": {
          "base_uri": "https://localhost:8080/"
        },
        "id": "QN63-V7-L4U0",
        "outputId": "b85fb873-6925-4463-a377-fb392ba24ea5"
      },
      "execution_count": null,
      "outputs": [
        {
          "output_type": "execute_result",
          "data": {
            "text/plain": [
              "10000"
            ]
          },
          "metadata": {},
          "execution_count": 46
        }
      ]
    },
    {
      "cell_type": "code",
      "source": [
        "x = 300\n",
        "y = x\n",
        "x = 400\n",
        "print(x, y\u0010\u0010\u0010\u0010\u0010\u0010\u0010\u0010\u0010\u0010\u0010\u0010\u0010\u0010\u0010\u0010\u0010\u0010\u0010\u0010)"
      ],
      "metadata": {
        "colab": {
          "base_uri": "https://localhost:8080/"
        },
        "id": "nDYsQUdwMlD5",
        "outputId": "f593a1de-2487-44f3-acad-8551140be5c6"
      },
      "execution_count": null,
      "outputs": [
        {
          "output_type": "stream",
          "name": "stdout",
          "text": [
            "400 300\n"
          ]
        }
      ]
    },
    {
      "cell_type": "markdown",
      "source": [
        "## 변수의 속성"
      ],
      "metadata": {
        "id": "J-_lujxyNfNF"
      }
    },
    {
      "cell_type": "markdown",
      "source": [
        "* 변수는 주로 스네이크 표기법 사용 (회사 convention 따라야 함)\n",
        "* 영문과 숫자를 사용할 수 있지만, 숫자로  시작하지는 못합니다.\n",
        "* 특수문자는 사용하지 않아요.(언더바(_)는  사용합니다. 스네이크 표기법, 특수문자나  이미중 사용 가능한 것들이 있기는 합니다.  권하지 않습니다.)\n",
        "* 예약어는 사용하지 않습니다.(if, elif, while, for, etc)\n",
        "* 대소문자는 구분합니다.\n",
        "* 언더바로만 사용하거나 언더바로 시작할 수 있습니다.\n",
        "* 대문자로 시작하는 변수를 사용할 수 있지만, 관습적으로 대문자로 시작하는 변수는 Class로 만들기 때문에 소문자로 시작하는 변수를 만들기를 권합니다. Class는 보통 파스칼 표기법을 따릅니다. 다만 회사 컨벤션마다 다릅니다."
      ],
      "metadata": {
        "id": "Cct66OZuN7x8"
      }
    },
    {
      "cell_type": "code",
      "source": [
        "# 스네이크 표기법 (Python)\n",
        "hello_world = 10\n",
        "# 카멜 표기법 (JavaScript)\n",
        "helloWorld = 10\n",
        "# 파스칼 표기법 (class에서 많이 사용)\n",
        "Hello = 10\n"
      ],
      "metadata": {
        "id": "0K_jqCTCgvT6"
      },
      "execution_count": null,
      "outputs": []
    },
    {
      "cell_type": "code",
      "source": [
        "for _ in range(10): # 언더바를 순회 안에서 변수로 사용하지 않을 때\n",
        "  print('hello')"
      ],
      "metadata": {
        "id": "diA5GX3yhMHR"
      },
      "execution_count": null,
      "outputs": []
    },
    {
      "cell_type": "code",
      "source": [
        "# if = 100\n",
        "# print = 100 -> 이후 print로 출력할 수 없음"
      ],
      "metadata": {
        "id": "2LY07ib5g_5s"
      },
      "execution_count": null,
      "outputs": []
    },
    {
      "cell_type": "markdown",
      "source": [
        "## 입력과 출력"
      ],
      "metadata": {
        "id": "DJRYPH_wjmY7"
      }
    },
    {
      "cell_type": "code",
      "source": [
        "x = input()\n",
        "x # 항상 str으로 input"
      ],
      "metadata": {
        "colab": {
          "base_uri": "https://localhost:8080/",
          "height": 52
        },
        "id": "xBDA3r1Ajjot",
        "outputId": "f9639f13-9413-4675-95f3-89e1dcaab3ff"
      },
      "execution_count": null,
      "outputs": [
        {
          "name": "stdout",
          "output_type": "stream",
          "text": [
            "100\n"
          ]
        },
        {
          "output_type": "execute_result",
          "data": {
            "text/plain": [
              "'100'"
            ],
            "application/vnd.google.colaboratory.intrinsic+json": {
              "type": "string"
            }
          },
          "metadata": {},
          "execution_count": 5
        }
      ]
    },
    {
      "cell_type": "code",
      "source": [
        "name = '김김김'\n",
        "age = 20\n",
        "print('1. 제 이름은 김김김입니다. 제 나이는 20입니다.')\n",
        "print('2. 제 이름은 ', name, '입니다. 제 나이는 ', age, '입니다.', sep='')\n",
        "print('3. 제 이름은 %s입니다. 제 나이는 %d입니다.'%(name, age))\n",
        "print('4. 제 이름은 {}입니다. 제 나이는 {}입니다.'.format(name, age))\n",
        "print(f'4. 제 이름은 {name}입니다. 제 나이는 {age}입니다.')\n"
      ],
      "metadata": {
        "colab": {
          "base_uri": "https://localhost:8080/"
        },
        "id": "hXDIfU9jj4Fo",
        "outputId": "d3b23186-dfec-4594-f070-f9aaa1b9de91"
      },
      "execution_count": null,
      "outputs": [
        {
          "output_type": "stream",
          "name": "stdout",
          "text": [
            "1. 제 이름은 김김김입니다. 제 나이는 20입니다.\n",
            "2. 제 이름은 김김김입니다. 제 나이는 20입니다.\n",
            "3. 제 이름은 김김김입니다. 제 나이는 20입니다.\n",
            "4. 제 이름은 김김김입니다. 제 나이는 20입니다.\n",
            "4. 제 이름은 김김김입니다. 제 나이는 20입니다.\n"
          ]
        }
      ]
    },
    {
      "cell_type": "markdown",
      "source": [
        "[포멧코드](https://www.notion.so/paullabworkspace/9fd33417740f4eba8715f5c4a1ed7c7b?v=e01ecdfe2f9448dcaad68b03a38057a5)"
      ],
      "metadata": {
        "id": "e66gaENmmak5"
      }
    },
    {
      "cell_type": "markdown",
      "source": [
        "## Formatting"
      ],
      "metadata": {
        "id": "lkFIKXaam6Ua"
      }
    },
    {
      "cell_type": "code",
      "source": [
        "# 중괄호 안에서 복잡한 연산 권하지 X\n",
        "print(f'{100*10}')\n",
        "# 밖으로 빼는게 간결\n",
        "result = 100*10\n",
        "print(f'{result}')"
      ],
      "metadata": {
        "colab": {
          "base_uri": "https://localhost:8080/"
        },
        "id": "Ugvx-2aDnDwo",
        "outputId": "96f6507a-3f83-49ac-99b1-880642fa739e"
      },
      "execution_count": null,
      "outputs": [
        {
          "output_type": "stream",
          "name": "stdout",
          "text": [
            "1000\n",
            "1000\n"
          ]
        }
      ]
    },
    {
      "cell_type": "code",
      "source": [
        "# 필요에 의해 검색 ㄱㄴ (암기 필요 X)\n",
        "print(f'||{\"Hello\":<10}||')\n",
        "print(f'||{\"Hello\":>10}||')\n",
        "print(f'||{\"Hello\":^10}||')"
      ],
      "metadata": {
        "colab": {
          "base_uri": "https://localhost:8080/"
        },
        "id": "Ew-xNwXfna7o",
        "outputId": "705ecbcc-878d-4392-b20d-84e8739da0cf"
      },
      "execution_count": null,
      "outputs": [
        {
          "output_type": "stream",
          "name": "stdout",
          "text": [
            "||Hello     ||\n",
            "||     Hello||\n",
            "||  Hello   ||\n"
          ]
        }
      ]
    },
    {
      "cell_type": "code",
      "source": [
        "txt = 'hello'\n",
        "i = 10\n",
        "print(f'{txt:>10}')\n",
        "print(f'{txt:>{i}}')"
      ],
      "metadata": {
        "colab": {
          "base_uri": "https://localhost:8080/"
        },
        "id": "kHHwTj32n0tU",
        "outputId": "b3586fd6-c41d-4d8b-c179-ffdd402d9bdf"
      },
      "execution_count": null,
      "outputs": [
        {
          "output_type": "stream",
          "name": "stdout",
          "text": [
            "     hello\n",
            "     hello\n"
          ]
        }
      ]
    },
    {
      "cell_type": "code",
      "source": [
        "print(f'{\"Hello\":_<10}')\n",
        "print(f'{\"Hello\":_>10}')\n",
        "print(f'{\"Hello\":_^10}')"
      ],
      "metadata": {
        "colab": {
          "base_uri": "https://localhost:8080/"
        },
        "id": "Tc_WMmmEoWQX",
        "outputId": "00b66396-8fec-49c8-f5bb-9acea3f9bfbc"
      },
      "execution_count": null,
      "outputs": [
        {
          "output_type": "stream",
          "name": "stdout",
          "text": [
            "Hello_____\n",
            "_____Hello\n",
            "__Hello___\n"
          ]
        }
      ]
    },
    {
      "cell_type": "code",
      "source": [
        "print(f'{0.12345:0.2f}')"
      ],
      "metadata": {
        "colab": {
          "base_uri": "https://localhost:8080/"
        },
        "id": "yxbyuPWzv350",
        "outputId": "a1f03a3a-c232-4c91-f31b-34b4def646ab"
      },
      "execution_count": null,
      "outputs": [
        {
          "output_type": "stream",
          "name": "stdout",
          "text": [
            "0.12\n"
          ]
        }
      ]
    },
    {
      "cell_type": "markdown",
      "source": [
        "## 이전 방식\n",
        "print('나의 이름은 %s입니다'%('한사람'))\n",
        "print('나의 이름은 \"%s\"입니다. 나이는 %d세이고 성별은 %s입니다.'%('한사람',33,'남성'))\n",
        "print('나이는 %d세이고 성별은 %s입니다. 나의 이름은 %s입니다. '%(33,'남성','한사람'))\n",
        "print('나이는 %03d세이고 신장은 %6.2f입니다. 나의 이름은 %s입니다. '%(33,56.789,'한사람'))\n",
        "print('-' * 40)\n",
        "\n",
        "# 파이썬(Python) 3 포맷팅 방식\n",
        "print('나의 이름은 {}입니다'.format('한사람'))\n",
        "print('나의 이름은 {0}입니다. 나이는 {1}세이고 성별은 {2}입니다.'.format('한사람',33,'남성'))\n",
        "print('나이는 {1}세이고 성별은 {2}입니다. 나의 이름은 {0}입니다. '.format('한사람',33,'남성'))\n",
        "print('나이는 {age}세이고 성별은 {gender}입니다. 나의 이름은 {name}입니다. '\n",
        "         .format(name='한사람',age=33,gender='남성'))\n",
        "print('만세삼창 :  {0}!!! {0}!!! {0}!!! '.format('만세'))\n",
        "print('삼삼칠 박수 :  {0}!!! {0}!!! {1}!!! '.format('짝'*3,'짝'*7))\n",
        "print('-' * 40)\n",
        "\n",
        "# 파이썬(Python) 3.6 f-string 방식\n",
        "something = '볼펜'\n",
        "EA = 2\n",
        "one_length = 5.343\n",
        "scale = 'cm'\n",
        "\n",
        "print(f'{something} {EA}개의 길이는 {one_length*EA}{scale} 입니다.')\n",
        "print(f'{something} {EA}개의 길이는 {one_length*EA:.1f}{scale} 입니다.')"
      ],
      "metadata": {
        "id": "rwz3rvLWwtp3"
      }
    },
    {
      "cell_type": "code",
      "source": [
        "print('Python is [{:15}]'.format('good'))\n",
        "print('Python is [{:<15}]'.format('good'))\n",
        "print('Python is [{:>15}]'.format('good'))\n",
        "print('Python is [{:^15}]'.format('good'))\n",
        "print('당신의 나이는 [{:15}]세'.format(22))\n",
        "print('당신의 나이는 [{:<15}]세'.format(22))\n",
        "print('당신의 나이는 [{:>15}]세'.format(22))\n",
        "print('당신의 나이는 [{:<15}]세'.format(22))\n",
        "print('-' * 40)"
      ],
      "metadata": {
        "id": "xiawwGM-wwJc"
      },
      "execution_count": null,
      "outputs": []
    },
    {
      "cell_type": "markdown",
      "source": [
        "## int\n",
        "- 파이썬에서는 숫자를 정수, 실수, 복소수로 나눠 표현\n",
        "- 2진수, 8진수, 16진수는 정수로 표현"
      ],
      "metadata": {
        "id": "LjZ_gDt9ww-1"
      }
    },
    {
      "cell_type": "code",
      "source": [
        "'bit_length' # bit로 바꿀 때 길이\n",
        "'to_bytes' # 저장하는 byte 형태로 숫자를 표현"
      ],
      "metadata": {
        "colab": {
          "base_uri": "https://localhost:8080/",
          "height": 35
        },
        "id": "e3G_zMz3w-bh",
        "outputId": "0e55bdfe-c5b2-46a0-d371-573ae8929a4c"
      },
      "execution_count": null,
      "outputs": [
        {
          "output_type": "execute_result",
          "data": {
            "text/plain": [
              "'to_bytes'"
            ],
            "application/vnd.google.colaboratory.intrinsic+json": {
              "type": "string"
            }
          },
          "metadata": {},
          "execution_count": 47
        }
      ]
    },
    {
      "cell_type": "code",
      "source": [
        "# 1Bit, 0 ~ 1 # bit - 1자리\n",
        "# 1Bytes = 8bit, 00000000 ~ 11111111 # 1byte - 8bit\n",
        "# 1KB (키로바이트) = 1024Bytes\n",
        "# 1MB (메가바이트) = 1024Kb \n",
        "# 1GB (기가바이트) = 1024MB\n",
        "# 1TB (테라바이트) = 1024GB\n",
        "# 1PB (페타바이트) = 1024TB"
      ],
      "metadata": {
        "id": "a0hWdn2fygkG"
      },
      "execution_count": null,
      "outputs": []
    },
    {
      "cell_type": "code",
      "source": [
        "(9).bit_length()"
      ],
      "metadata": {
        "colab": {
          "base_uri": "https://localhost:8080/"
        },
        "id": "yq-uT2pEzlyM",
        "outputId": "c858b12c-1d3f-4d76-c005-a6cb64af4481"
      },
      "execution_count": null,
      "outputs": [
        {
          "output_type": "execute_result",
          "data": {
            "text/plain": [
              "4"
            ]
          },
          "metadata": {},
          "execution_count": 50
        }
      ]
    },
    {
      "cell_type": "code",
      "source": [
        "(2).to_bytes(1, byteorder = 'little', signed=True)\n",
        "(1).to_bytes(1, byteorder = 'little', signed=True)\n",
        "(0).to_bytes(1, byteorder = 'little', signed=True)\n",
        "(-1).to_bytes(1, byteorder = 'little', signed=True)\n",
        "(-2).to_bytes(1, byteorder = 'little', signed=True)    "
      ],
      "metadata": {
        "colab": {
          "base_uri": "https://localhost:8080/"
        },
        "id": "msMhs55izxB0",
        "outputId": "4e2049b7-f324-41e7-c859-88cf01a8acca"
      },
      "execution_count": null,
      "outputs": [
        {
          "output_type": "execute_result",
          "data": {
            "text/plain": [
              "b'\\xfe'"
            ]
          },
          "metadata": {},
          "execution_count": 63
        }
      ]
    },
    {
      "cell_type": "code",
      "source": [
        "# 음수 자체적으로 표현 X -> 2의 보수 사용\n",
        "# 1의 보수를 사용하게 되면 -0이 존재하므로 bit 낭비\n",
        "# 따라서 2의 보수 사용"
      ],
      "metadata": {
        "id": "NzsLYVsu2NHr"
      },
      "execution_count": null,
      "outputs": []
    },
    {
      "cell_type": "code",
      "source": [
        "int('10', 2) # 2진법으로로 10은은??"
      ],
      "metadata": {
        "colab": {
          "base_uri": "https://localhost:8080/"
        },
        "id": "tLM_4SJP2X8s",
        "outputId": "360be280-91b7-4e87-d0fa-ff19409f5fdd"
      },
      "execution_count": null,
      "outputs": [
        {
          "output_type": "execute_result",
          "data": {
            "text/plain": [
              "2"
            ]
          },
          "metadata": {},
          "execution_count": 66
        }
      ]
    },
    {
      "cell_type": "code",
      "source": [
        "print(0b110) # binary\n",
        "print(0o110) # oxta\n",
        "print(0x110) #hexa"
      ],
      "metadata": {
        "colab": {
          "base_uri": "https://localhost:8080/"
        },
        "id": "QsTFT_ka8fV0",
        "outputId": "4df72e78-3f3b-4187-a7a8-588c3c87e43b"
      },
      "execution_count": null,
      "outputs": [
        {
          "output_type": "stream",
          "name": "stdout",
          "text": [
            "6\n",
            "72\n",
            "272\n"
          ]
        }
      ]
    },
    {
      "cell_type": "code",
      "source": [
        "a = 10\n",
        "type(a) == int\n",
        "isinstance(a, int)"
      ],
      "metadata": {
        "colab": {
          "base_uri": "https://localhost:8080/"
        },
        "id": "QqaRGaTy81fK",
        "outputId": "295bee71-fb7e-4656-9a08-63eee2dcdb1d"
      },
      "execution_count": null,
      "outputs": [
        {
          "output_type": "execute_result",
          "data": {
            "text/plain": [
              "True"
            ]
          },
          "metadata": {},
          "execution_count": 76
        }
      ]
    },
    {
      "cell_type": "markdown",
      "source": [
        "## float (실수)"
      ],
      "metadata": {
        "id": "jBY8fsdi9QjC"
      }
    },
    {
      "cell_type": "code",
      "source": [
        "dir(a)"
      ],
      "metadata": {
        "id": "gg8icPju9V5t"
      },
      "execution_count": null,
      "outputs": []
    },
    {
      "cell_type": "code",
      "source": [
        "a = 10\n",
        "b = 10.1\n",
        "print(a + b)"
      ],
      "metadata": {
        "colab": {
          "base_uri": "https://localhost:8080/"
        },
        "id": "qU8mFQYx9bA4",
        "outputId": "e441b9bb-d688-4f8c-9d50-ce2ecab5759a"
      },
      "execution_count": null,
      "outputs": [
        {
          "output_type": "stream",
          "name": "stdout",
          "text": [
            "20.1\n"
          ]
        }
      ]
    },
    {
      "cell_type": "code",
      "source": [
        "# 부동소수점 오차(2진법으로 변환했을 때 0.1이 무한대수가 발생합니다.)\n",
        "0.1 + 0.2 # 대부분의 언어 공통입니다."
      ],
      "metadata": {
        "colab": {
          "base_uri": "https://localhost:8080/"
        },
        "id": "WId-jSSl-G3H",
        "outputId": "f72fe75c-482f-4a19-bb70-eeef6f5d8acc"
      },
      "execution_count": null,
      "outputs": [
        {
          "output_type": "execute_result",
          "data": {
            "text/plain": [
              "0.30000000000000004"
            ]
          },
          "metadata": {},
          "execution_count": 79
        }
      ]
    },
    {
      "cell_type": "code",
      "source": [
        "a = 0.1"
      ],
      "metadata": {
        "id": "1sGyVYp4-M-P"
      },
      "execution_count": null,
      "outputs": []
    },
    {
      "cell_type": "code",
      "source": [
        "a = a + 0.1\n",
        "a"
      ],
      "metadata": {
        "colab": {
          "base_uri": "https://localhost:8080/"
        },
        "id": "rXE1uxSD-dOB",
        "outputId": "954bbd2b-d96a-4128-bbb6-26d0391c5257"
      },
      "execution_count": null,
      "outputs": [
        {
          "output_type": "execute_result",
          "data": {
            "text/plain": [
              "1.0999999999999999"
            ]
          },
          "metadata": {},
          "execution_count": 91
        }
      ]
    },
    {
      "cell_type": "markdown",
      "source": [
        "* https://docs.python.org/ko/3/tutorial/floatingpoint.html\n",
        "* [언어 별 해결책]()\n",
        "* 컴퓨터에서 부동소수점 숫자는 2진 분수로 표현되기에 무한대수가 발생한다.\n",
        "* [무한수가 발생되는 원리](https://www.notion.so/paullabworkspace/5f34f21bf9a34015b170e7afd7da9593)\n"
      ],
      "metadata": {
        "id": "b0yBx0XS-mS2"
      }
    },
    {
      "cell_type": "markdown",
      "source": [
        "## str (문자열)"
      ],
      "metadata": {
        "id": "66DFsW44yTvo"
      }
    },
    {
      "cell_type": "markdown",
      "source": [
        "- 순서가 있는 **시퀀스 자료형**입니다.\n",
        "- 작은 따옴표(' ')나 큰 따옴표(\" \"), 삼중따옴표('''str''', \"\"\"str\"\"\")로 감싸는 것도 가능합니다. (삼중따옴표를 사용할 경우에는 줄단위의 문자열을 나타낼 수 있습니다.)\n",
        "- 작은 따옴표 안에 큰 따옴표, 큰 따옴표 안에 작은 따옴표 사용이 가능합니다.\n",
        "- 이스케이프 문자도 사용이 가능합니다."
      ],
      "metadata": {
        "id": "DjllWXBLymbe"
      }
    },
    {
      "cell_type": "code",
      "source": [
        "s = 'my name is kim'\n",
        "s[0] # 0은 index입니다다. 이렇게게 호출하는는 것을 indexing이라고고 합니다."
      ],
      "metadata": {
        "colab": {
          "base_uri": "https://localhost:8080/",
          "height": 35
        },
        "id": "lqZ-tsnGyool",
        "outputId": "09c740b8-04af-4571-cec2-12db61572167"
      },
      "execution_count": null,
      "outputs": [
        {
          "output_type": "execute_result",
          "data": {
            "text/plain": [
              "'m'"
            ],
            "application/vnd.google.colaboratory.intrinsic+json": {
              "type": "string"
            }
          },
          "metadata": {},
          "execution_count": 1
        }
      ]
    },
    {
      "cell_type": "code",
      "source": [
        "# 문자열의 메서드\n",
        "# 'capitalize','casefold','center','count','encode',\n",
        "# 'endswith','expandtabs','find','format','format_map',\n",
        "# 'index','isalnum','isalpha','isascii','isdecimal','isdigit',\n",
        "# 'isidentifier','islower','isnumeric','isprintable','isspace',\n",
        "# 'istitle','isupper','join','ljust','lower','lstrip',\n",
        "# 'maketrans','partition','removeprefix','removesuffix',\n",
        "# 'replace','rfind','rindex','rjust','rpartition','rsplit',\n",
        "# 'rstrip','split','splitlines','startswith','strip','swapcase',\n",
        "# 'title','translate','upper','zfill'"
      ],
      "metadata": {
        "id": "gK_bH96s0DrC"
      },
      "execution_count": null,
      "outputs": []
    },
    {
      "cell_type": "code",
      "source": [
        "s = 'paullab CEO leehojun'\n",
        "s.lower(), s.upper() \n",
        "# 특히 사용자에게 입력을 받는 경우 lower도 많이 사용합니다."
      ],
      "metadata": {
        "id": "g3F9My7_0pS_"
      },
      "execution_count": null,
      "outputs": []
    },
    {
      "cell_type": "code",
      "source": [
        "# 견고한 코드란?\n",
        "# 시간이 지나도 그대로 사용할 수 있고\n",
        "# error가 예측 가능하게 나는 코드\n",
        "# 네이버에 이미지 슬라이딩 코드\n",
        "# bool(s.find('Z')) => -1은 True이기 때문에 주의가 필요합니다.\n",
        "s.find('Z')"
      ],
      "metadata": {
        "id": "rHITUtce2oZt"
      },
      "execution_count": null,
      "outputs": []
    },
    {
      "cell_type": "code",
      "source": [
        "s = 'paullab CEO leehojun'\n",
        "s.find('C'), s.index('C') # different ERROR return (it could be better to show error)"
      ],
      "metadata": {
        "colab": {
          "base_uri": "https://localhost:8080/"
        },
        "id": "v3oFpnIv1Nl8",
        "outputId": "6ab05aa4-8e45-4d51-b451-f28262e59440"
      },
      "execution_count": null,
      "outputs": [
        {
          "output_type": "execute_result",
          "data": {
            "text/plain": [
              "(8, 8)"
            ]
          },
          "metadata": {},
          "execution_count": 6
        }
      ]
    },
    {
      "cell_type": "code",
      "source": [
        "str([1,2,11,4,111]).count('1')\n",
        "str([1,\n",
        "     2,\n",
        "     3,\n",
        "     4,\n",
        "     5]).count(' ') # list의 콤마 다음에 공백이 없어도 공백으로 인식"
      ],
      "metadata": {
        "colab": {
          "base_uri": "https://localhost:8080/"
        },
        "id": "HvT6aZNt3DsM",
        "outputId": "e3927d1f-7599-4015-f267-7215238eb0f7"
      },
      "execution_count": null,
      "outputs": [
        {
          "output_type": "execute_result",
          "data": {
            "text/plain": [
              "4"
            ]
          },
          "metadata": {},
          "execution_count": 20
        }
      ]
    },
    {
      "cell_type": "markdown",
      "source": [
        "### [strip() 문제 (google 입사 문제)](https://codingdojang.com/scode/393?answer_mode=hide)\n",
        "```python\n",
        "str([i for i in range(1, 10001)]).count('8')\n",
        "```"
      ],
      "metadata": {
        "id": "-LXYN2bd4C8u"
      }
    },
    {
      "cell_type": "markdown",
      "source": [
        "### replace() 문제 (method-chaining)"
      ],
      "metadata": {
        "id": "AHWHTxL-_DZD"
      }
    },
    {
      "cell_type": "code",
      "source": [
        "a = [\"  + +-+ -+-  \",\n",
        "\"  ++ -- +-+  \",\n",
        "\"  ++-+ -+ -  \",\n",
        "\"  + ++-+ -+  \"]\n",
        "b = []\n",
        "for elem in a:\n",
        "  b.append(chr(int(elem.replace('+', '1').replace('-', '0').replace(' ', ''), 2)))\n",
        "print(''.join(b))"
      ],
      "metadata": {
        "id": "h67seQNi3GyM",
        "colab": {
          "base_uri": "https://localhost:8080/"
        },
        "outputId": "1b59ecfb-d868-4216-fe0e-61b3f4e127d0"
      },
      "execution_count": null,
      "outputs": [
        {
          "output_type": "stream",
          "name": "stdout",
          "text": [
            "jeju\n"
          ]
        }
      ]
    },
    {
      "cell_type": "code",
      "source": [
        "# 별 4.5개\n",
        "'paullab CEO leehojun'.split(' ') #문자열을 쪼개어 줍니다.\n",
        "'paullab!CEO!leehojun'.split('!')\n",
        "'paullab,CEO,leehojun'.split(',')"
      ],
      "metadata": {
        "colab": {
          "base_uri": "https://localhost:8080/"
        },
        "id": "R-KDEtLjBDDA",
        "outputId": "44476bd1-75ec-48bb-9bec-db8966b2543f"
      },
      "execution_count": null,
      "outputs": [
        {
          "output_type": "execute_result",
          "data": {
            "text/plain": [
              "['paullab', 'CEO', 'leehojun']"
            ]
          },
          "metadata": {},
          "execution_count": 45
        }
      ]
    },
    {
      "cell_type": "code",
      "source": [
        "규칙테이블 = str.maketrans({'\\n':'', '\\t':''})\n",
        "rule_table = str.maketrans({'l':'1', 'e':'2'})\n",
        "'paullab \\n\\n\\n CEO \\t\\t\\t leehojun'.translate(규칙테이블)"
      ],
      "metadata": {
        "colab": {
          "base_uri": "https://localhost:8080/",
          "height": 35
        },
        "id": "8wXM8vsvCa65",
        "outputId": "29a79343-a4e6-4fe6-a3e7-949f5d795882"
      },
      "execution_count": null,
      "outputs": [
        {
          "output_type": "execute_result",
          "data": {
            "text/plain": [
              "'pau11ab \\n\\n\\n CEO \\t\\t\\t 122hojun'"
            ],
            "application/vnd.google.colaboratory.intrinsic+json": {
              "type": "string"
            }
          },
          "metadata": {},
          "execution_count": 60
        }
      ]
    },
    {
      "cell_type": "markdown",
      "source": [
        "##pep"
      ],
      "metadata": {
        "id": "OBK3PAw8PdtV"
      }
    },
    {
      "cell_type": "code",
      "source": [
        "# aaaaaaaaaaaaaaaaaaaaaaaaaaaaaaaaaaaaaaaaaaaaaaaaaaaaaaaaaaaaaaaaaaaaaaaaaaaaaaaa => 80자\n",
        "# 아아아아아아아아아아아아아아아아아아아아아아아아아아아아아아아아아아아아아아아아아아 => 42자면 한글 넘어갑니다.\n",
        "# line에 딱 맞춰 들어간 것을 볼 수 있습니다. \n",
        "# 강제사항은 아닙니다.\n",
        "# 띄어쓰기 4번도 강제사항은 아닙니다.\n",
        "# pep8, pep 20에 기술되어 있습니다. => pep(Python Enhancement Proposal)란 무엇인가요? 8이란 무엇인가요?\n",
        "# pep8 : Style Guide for Python Code\n",
        "# pep20 : The Zen of Python\n",
        "# https://peps.python.org/"
      ],
      "metadata": {
        "id": "fhGqWpXNPgOT"
      },
      "execution_count": null,
      "outputs": []
    },
    {
      "cell_type": "markdown",
      "source": [
        "## cpython\n",
        "- cpython is the thing that we download from 공식 홈페이지\n",
        "- [cpython 구현 코드](https://github.com/python/cpython)"
      ],
      "metadata": {
        "id": "EsQtnz09Q7YG"
      }
    },
    {
      "cell_type": "markdown",
      "source": [
        "## Indexing and Slicing"
      ],
      "metadata": {
        "id": "rgXVOMOvSfEA"
      }
    },
    {
      "cell_type": "code",
      "source": [
        "# [start:stop:step]\n",
        "a = 'dog cat elephant cow pig warm'\n",
        "a[:]\n",
        "a[:-1]"
      ],
      "metadata": {
        "colab": {
          "base_uri": "https://localhost:8080/",
          "height": 35
        },
        "id": "O6gNftXxSi_z",
        "outputId": "5d2cf751-b39b-4575-a60d-e0e16e005638"
      },
      "execution_count": null,
      "outputs": [
        {
          "output_type": "execute_result",
          "data": {
            "text/plain": [
              "'dog cat elephant cow pig war'"
            ],
            "application/vnd.google.colaboratory.intrinsic+json": {
              "type": "string"
            }
          },
          "metadata": {},
          "execution_count": 64
        }
      ]
    },
    {
      "cell_type": "markdown",
      "source": [
        "## 문자열의 연산"
      ],
      "metadata": {
        "id": "K3EdXfFJUqZe"
      }
    },
    {
      "cell_type": "code",
      "source": [
        "s = 'hello world'\n",
        "dir(s)\n",
        "s + s\n",
        "s * 3"
      ],
      "metadata": {
        "colab": {
          "base_uri": "https://localhost:8080/",
          "height": 35
        },
        "id": "cybe2umJUiZx",
        "outputId": "887ce10e-7543-403d-b602-9ff0ffe35618"
      },
      "execution_count": null,
      "outputs": [
        {
          "output_type": "execute_result",
          "data": {
            "text/plain": [
              "'hello worldhello worldhello world'"
            ],
            "application/vnd.google.colaboratory.intrinsic+json": {
              "type": "string"
            }
          },
          "metadata": {},
          "execution_count": 65
        }
      ]
    },
    {
      "cell_type": "markdown",
      "source": [
        "## Type Conversion (형 변환)"
      ],
      "metadata": {
        "id": "A_AQ5jUaUvE_"
      }
    },
    {
      "cell_type": "markdown",
      "source": [
        "- Type을 변경하는 것"
      ],
      "metadata": {
        "id": "T3FXTRToWLbo"
      }
    },
    {
      "cell_type": "code",
      "source": [
        "x = int(input()) # but could be ERROR when alphbet entered\n",
        "\n",
        "x = input()\n",
        "if x.isdigit():\n",
        "    x = int(x)\n",
        "x + x"
      ],
      "metadata": {
        "colab": {
          "base_uri": "https://localhost:8080/",
          "height": 69
        },
        "id": "RuuJ4utGUylL",
        "outputId": "8cec9ad2-4ad3-43dd-f6e4-c6d01aa7e738"
      },
      "execution_count": null,
      "outputs": [
        {
          "name": "stdout",
          "output_type": "stream",
          "text": [
            "123\n",
            "asdf\n"
          ]
        },
        {
          "output_type": "execute_result",
          "data": {
            "text/plain": [
              "'asdfasdf'"
            ],
            "application/vnd.google.colaboratory.intrinsic+json": {
              "type": "string"
            }
          },
          "metadata": {},
          "execution_count": 66
        }
      ]
    },
    {
      "cell_type": "code",
      "source": [
        "# int('10.1') ERROR --> Cannot change type str type float to int directly\n",
        "float('10.1') # ㄱㄴ"
      ],
      "metadata": {
        "id": "TifOVMJVVdoG"
      },
      "execution_count": null,
      "outputs": []
    },
    {
      "cell_type": "code",
      "source": [
        "def hello():\n",
        "    pass\n",
        "\n",
        "str(type)\n",
        "str(hello)\n",
        "\n",
        "str('123')\n",
        "str(True)\n",
        "str(None)\n",
        "str([1, 2, 3])\n",
        "str({1, 2, 3})\n",
        "str({'one':1, 'two':2})"
      ],
      "metadata": {
        "colab": {
          "base_uri": "https://localhost:8080/",
          "height": 35
        },
        "id": "Z5sXfhX-WnGv",
        "outputId": "ab752f5f-b8e8-4ef2-f906-4e09ca717a38"
      },
      "execution_count": null,
      "outputs": [
        {
          "output_type": "execute_result",
          "data": {
            "text/plain": [
              "\"{'one': 1, 'two': 2}\""
            ],
            "application/vnd.google.colaboratory.intrinsic+json": {
              "type": "string"
            }
          },
          "metadata": {},
          "execution_count": 68
        }
      ]
    },
    {
      "cell_type": "code",
      "source": [
        "# 별 5개\n",
        "bool('')    #False\n",
        "bool(None)\n",
        "bool(0)\n",
        "bool([])\n",
        "bool({})\n",
        "bool('a')   #True\n",
        "bool(-1)\n",
        "bool(100)\n",
        "\n",
        "# 정말 많이 사용하는 코드\n",
        "l = [1, 2, 3]\n",
        "while l:\n",
        "    print(l.pop())"
      ],
      "metadata": {
        "colab": {
          "base_uri": "https://localhost:8080/"
        },
        "id": "cVgXpQe1WuC-",
        "outputId": "a5ef9818-01c4-426b-a065-976e81868e09"
      },
      "execution_count": null,
      "outputs": [
        {
          "output_type": "stream",
          "name": "stdout",
          "text": [
            "3\n",
            "2\n",
            "1\n"
          ]
        }
      ]
    },
    {
      "cell_type": "code",
      "source": [
        "# list로 형변환\n",
        "s = '10'\n",
        "l = list(s)\n",
        "l\n",
        "# tuple로 형변환\n",
        "s = '10'\n",
        "l = tuple(s)\n",
        "l"
      ],
      "metadata": {
        "colab": {
          "base_uri": "https://localhost:8080/"
        },
        "id": "1bWGnK5ops8m",
        "outputId": "a7896b80-398e-4e15-d9c6-0286f08ca6a8"
      },
      "execution_count": null,
      "outputs": [
        {
          "output_type": "execute_result",
          "data": {
            "text/plain": [
              "('1', '0')"
            ]
          },
          "metadata": {},
          "execution_count": 71
        }
      ]
    },
    {
      "cell_type": "code",
      "source": [
        "# dict\n",
        "name = 'leehojun'\n",
        "dict(name)        # error"
      ],
      "metadata": {
        "id": "R4iGeEtwp66K"
      },
      "execution_count": null,
      "outputs": []
    },
    {
      "cell_type": "code",
      "source": [
        "# set\n",
        "name = 'kimleepark'\n",
        "set(name)"
      ],
      "metadata": {
        "colab": {
          "base_uri": "https://localhost:8080/"
        },
        "id": "t2v68KP4qO_r",
        "outputId": "961490f9-b1c5-45a7-cf0f-d37ca5a0ac6c"
      },
      "execution_count": null,
      "outputs": [
        {
          "output_type": "execute_result",
          "data": {
            "text/plain": [
              "{'a', 'e', 'i', 'k', 'l', 'm', 'p', 'r'}"
            ]
          },
          "metadata": {},
          "execution_count": 72
        }
      ]
    },
    {
      "cell_type": "code",
      "source": [
        "num = 1234567890\n",
        "print(list(str(num))[3])"
      ],
      "metadata": {
        "colab": {
          "base_uri": "https://localhost:8080/"
        },
        "id": "tNOvsoiiqdXQ",
        "outputId": "8c9689bc-d9d2-44fe-821f-4e4372156540"
      },
      "execution_count": null,
      "outputs": [
        {
          "output_type": "stream",
          "name": "stdout",
          "text": [
            "4\n"
          ]
        }
      ]
    },
    {
      "cell_type": "markdown",
      "source": [
        "## 산술연산"
      ],
      "metadata": {
        "id": "jNhvo5JPs8lh"
      }
    },
    {
      "cell_type": "code",
      "source": [
        "a = 10\n",
        "b = 3\n",
        "\n",
        "print(f'10 + 3 == {a + b}')\n",
        "print(f'10 - 3 == {a - b}')\n",
        "print(f'10 / 3 == {a / b}')\n",
        "print(f'10 // 3 == {a // b}')     # 몫 (정수)\n",
        "print(f'10 * 3 == {a * b}')\n",
        "print(f'10 ** 3 == {a ** b}')     # 제곱\n",
        "print(f'10 % 3 == {a % b}')       # 나머지"
      ],
      "metadata": {
        "colab": {
          "base_uri": "https://localhost:8080/"
        },
        "id": "H44ytbxas_oo",
        "outputId": "c4f8a4fd-8dba-403a-f993-5aff66cc1181"
      },
      "execution_count": null,
      "outputs": [
        {
          "output_type": "stream",
          "name": "stdout",
          "text": [
            "10 + 3 == 13\n",
            "10 - 3 == 7\n",
            "10 / 3 == 3.3333333333333335\n",
            "10 // 3 == 3\n",
            "10 * 3 == 30\n",
            "10 ** 3 == 1000\n",
            "10 % 3 == 1\n"
          ]
        }
      ]
    },
    {
      "cell_type": "code",
      "source": [
        "# 연산자 우선순위는 and, or, 4칙연산, 제곱 정도만 아셔도 \n",
        "# 코딩하는데 큰 무리가 없습니다.\n",
        "# (모르시면 읽는데 어려움이 생기기도 합니다.)\n",
        "\n",
        "print(3 ** 2 * 3)\n",
        "print(3 * 3 ** 2) # 왜 81이 아니지?\n",
        "# 곱하기 보다 제곱이 우선순위가 더 높습니다.\n",
        "print(3 + 3 * 2) # 3 + 3부터 먼저 하지 않습니다."
      ],
      "metadata": {
        "id": "4-j6QXTptyKq"
      },
      "execution_count": null,
      "outputs": []
    },
    {
      "cell_type": "code",
      "source": [
        "a = 10\n",
        "b = 3\n",
        "\n",
        "print(f'10 > 3 == {a > b}')\n",
        "print(f'10 >= 3 == {a >= b}')\n",
        "print(f'10 < 3 == {a < b}')\n",
        "print(f'10 <= 3 == {a <= b}')\n",
        "print(f'10 == 3 == {a == b}')\n",
        "print(f'10 != 3 == {a != b}')"
      ],
      "metadata": {
        "colab": {
          "base_uri": "https://localhost:8080/"
        },
        "id": "4IQHq1hou68d",
        "outputId": "35721f07-7c24-4b24-8fff-63310e157ca2"
      },
      "execution_count": null,
      "outputs": [
        {
          "output_type": "stream",
          "name": "stdout",
          "text": [
            "10 > 3 == True\n",
            "10 >= 3 == True\n",
            "10 < 3 == False\n",
            "10 <= 3 == False\n",
            "10 == 3 == False\n",
            "10 != 3 == True\n"
          ]
        }
      ]
    },
    {
      "cell_type": "markdown",
      "source": [
        "## 논리연산"
      ],
      "metadata": {
        "id": "rvZo9HWXvqaN"
      }
    },
    {
      "cell_type": "code",
      "source": [
        "# and 는 곱\n",
        "# or 는 합\n",
        "# not은 반대\n",
        "# True 1\n",
        "# False 0\n",
        "# 중요한 포인트는 저렇게 했을 때 언제 True가 되는지 정리하는 것\n",
        "\n",
        "print(True and False)\n",
        "print(True or False)\n",
        "print(True or True)\n",
        "\n",
        "if True and False:\n",
        "    print('hello')\n",
        "\n",
        "if 10 > 3 and 8 % 3 == 0:\n",
        "    print('hello')\n",
        "\n",
        "# and는 언제 True가 되나요?\n",
        "# 모두 True일 때만 True\n",
        "# or는 언제 True가 되나요?\n",
        "# 둘 중에 하나라도 참이라면 True"
      ],
      "metadata": {
        "id": "Fs3d1m-pvIYp",
        "colab": {
          "base_uri": "https://localhost:8080/"
        },
        "outputId": "32a20f5c-c617-4d7d-933b-4ddcde7059e8"
      },
      "execution_count": null,
      "outputs": [
        {
          "output_type": "stream",
          "name": "stdout",
          "text": [
            "False\n",
            "True\n",
            "True\n"
          ]
        }
      ]
    },
    {
      "cell_type": "code",
      "source": [
        "# https://codingdojang.com/scode/350?answer_mode=hide\n",
        "for i in range(101):\n",
        "    if i % 3 == 0 and i % 5 == 0:\n",
        "        print(i)"
      ],
      "metadata": {
        "colab": {
          "base_uri": "https://localhost:8080/"
        },
        "id": "oxbe-8XAw9PF",
        "outputId": "ed1e1083-f663-4165-a83f-87503bfd03ad"
      },
      "execution_count": null,
      "outputs": [
        {
          "output_type": "stream",
          "name": "stdout",
          "text": [
            "0\n",
            "15\n",
            "30\n",
            "45\n",
            "60\n",
            "75\n",
            "90\n"
          ]
        }
      ]
    },
    {
      "cell_type": "code",
      "source": [
        "result = 0\n",
        "for i in range(101):\n",
        "    if i % 3 == 0 or i % 5 == 0:\n",
        "        result += i\n",
        "result"
      ],
      "metadata": {
        "colab": {
          "base_uri": "https://localhost:8080/"
        },
        "id": "hJF3_euGxDQK",
        "outputId": "c3b5c80b-c3dd-4d8a-e1c8-9874c07e7e2f"
      },
      "execution_count": null,
      "outputs": [
        {
          "output_type": "execute_result",
          "data": {
            "text/plain": [
              "2418"
            ]
          },
          "metadata": {},
          "execution_count": 88
        }
      ]
    },
    {
      "cell_type": "code",
      "source": [
        "# False and (___) => 뒷부분 확인하지 않음\n",
        "if False and 1/0:\n",
        "  "
      ],
      "metadata": {
        "colab": {
          "base_uri": "https://localhost:8080/"
        },
        "id": "-6OK1ZJpyn1A",
        "outputId": "f7f9a911-6885-4203-86ce-99df984c90ca"
      },
      "execution_count": null,
      "outputs": [
        {
          "output_type": "stream",
          "name": "stdout",
          "text": [
            "halo\n"
          ]
        }
      ]
    },
    {
      "cell_type": "code",
      "source": [
        "for i in range(101):\n",
        "    if i % 3 == 0 and i % 5 == 0 or i % 2 == 0:\n",
        "        print(i)\n",
        "\n",
        "for i in range(101):\n",
        "    if (i % 3 == 0 and i % 5 == 0) or i % 2 == 0:\n",
        "        print(i)"
      ],
      "metadata": {
        "id": "95tT4nNS3DjM"
      },
      "execution_count": null,
      "outputs": []
    },
    {
      "cell_type": "code",
      "source": [
        "for i in range(101):\n",
        "    if (i % 3 == 0 or i % 5 == 0) and i % 2 == 0:\n",
        "        print(i)\n",
        "\n",
        "for i in range(101):\n",
        "    if i % 3 == 0 or i % 5 == 0 and i % 2 == 0:\n",
        "        print(i)"
      ],
      "metadata": {
        "id": "P1S2WtUb3D-g"
      },
      "execution_count": null,
      "outputs": []
    },
    {
      "cell_type": "markdown",
      "source": [
        "## 비트 연산"
      ],
      "metadata": {
        "id": "qpqApVsD4Sfd"
      }
    },
    {
      "cell_type": "code",
      "source": [
        "9 & 8   # AND\n",
        "9 | 8   # OR\n",
        "9 ^ 8   # XOR\n",
        "~9      # NOT (two's complement)\n",
        "9 << 1  # SHIFT (1001 -> 10010)"
      ],
      "metadata": {
        "colab": {
          "base_uri": "https://localhost:8080/"
        },
        "id": "Uo77roDR4UnL",
        "outputId": "fa527ee6-5605-484f-e57e-58d9e5428a0e"
      },
      "execution_count": null,
      "outputs": [
        {
          "output_type": "execute_result",
          "data": {
            "text/plain": [
              "18"
            ]
          },
          "metadata": {},
          "execution_count": 108
        }
      ]
    },
    {
      "cell_type": "markdown",
      "source": [
        "## 할당연산"
      ],
      "metadata": {
        "id": "Fop2-0HN73iO"
      }
    },
    {
      "cell_type": "code",
      "source": [],
      "metadata": {
        "id": "mRtuectC750F"
      },
      "execution_count": null,
      "outputs": []
    },
    {
      "cell_type": "markdown",
      "source": [
        "## 식별연산자"
      ],
      "metadata": {
        "id": "nHCMNjB-91QW"
      }
    },
    {
      "cell_type": "code",
      "source": [
        "# 앞으로 아래 2개를 활용해서 Python에 \n",
        "# 컨벤션 자료형이 어떻게 구성이되는지 확인해볼겁니다.\n",
        "# id()\n",
        "# is\n",
        "\n",
        "a = [1,2,3]\n",
        "b = [1,2,3]\n",
        "a is b      # False"
      ],
      "metadata": {
        "colab": {
          "base_uri": "https://localhost:8080/"
        },
        "id": "a5txetPh93aG",
        "outputId": "e0ee18ea-341f-49f0-b0ce-cbea5c8eca57"
      },
      "execution_count": null,
      "outputs": [
        {
          "output_type": "execute_result",
          "data": {
            "text/plain": [
              "False"
            ]
          },
          "metadata": {},
          "execution_count": 152
        }
      ]
    },
    {
      "cell_type": "markdown",
      "source": [
        "## Not의 위치"
      ],
      "metadata": {
        "id": "xA5dhueM_Ej2"
      }
    },
    {
      "cell_type": "code",
      "source": [
        "a = 10\n",
        "b = 100\n",
        "a is not b"
      ],
      "metadata": {
        "colab": {
          "base_uri": "https://localhost:8080/"
        },
        "id": "pKf-j9Ae97d-",
        "outputId": "468b090d-00d4-44b3-da18-f0d90606aec3"
      },
      "execution_count": null,
      "outputs": [
        {
          "output_type": "execute_result",
          "data": {
            "text/plain": [
              "True"
            ]
          },
          "metadata": {},
          "execution_count": 109
        }
      ]
    },
    {
      "cell_type": "code",
      "source": [
        "a = 10\n",
        "b = [1, 2, 3]\n",
        "a not in b"
      ],
      "metadata": {
        "colab": {
          "base_uri": "https://localhost:8080/"
        },
        "id": "ILdNICGd_LFr",
        "outputId": "151f2351-7647-4784-9d16-7a84d6f80e0b"
      },
      "execution_count": null,
      "outputs": [
        {
          "output_type": "execute_result",
          "data": {
            "text/plain": [
              "True"
            ]
          },
          "metadata": {},
          "execution_count": 111
        }
      ]
    },
    {
      "cell_type": "markdown",
      "source": [
        "## 멤버연산"
      ],
      "metadata": {
        "id": "BSuNY5WH_h9m"
      }
    },
    {
      "cell_type": "code",
      "source": [
        "'a' in 'helloa world'\n",
        "'a' in 'hello world'\n",
        "'a' in ['a', 'b']\n",
        "'a' in {'a':10, 'b':20}\n",
        "10 in {'a':10, 'b':20}.values()"
      ],
      "metadata": {
        "colab": {
          "base_uri": "https://localhost:8080/"
        },
        "id": "EHqQ-JXT_d1v",
        "outputId": "7016c757-ca08-4ad2-8ffc-65b7e3e4ab12"
      },
      "execution_count": null,
      "outputs": [
        {
          "output_type": "execute_result",
          "data": {
            "text/plain": [
              "True"
            ]
          },
          "metadata": {},
          "execution_count": 115
        }
      ]
    },
    {
      "cell_type": "markdown",
      "source": [
        "## !! CH2 연습문제"
      ],
      "metadata": {
        "id": "YNauCmvkMVPJ"
      }
    },
    {
      "cell_type": "markdown",
      "source": [
        "Q1.\n",
        "F\n",
        "T\n",
        "T\n",
        "T\n",
        "\n",
        "Q2.\n",
        "F\n",
        "\n",
        "Q3.\n",
        "```python\n",
        "c = 1000\n",
        "c // 100\n",
        "```\n",
        "\n",
        "Q4.\n",
        "```python\n",
        "price = int(input('가격을 입력하셈 : '))\n",
        "for elem in [5000, 1000, 500, 100]:\n",
        "  print(f'{elem}원 : {price//elem}')\n",
        "  price %= elem\n",
        "```"
      ],
      "metadata": {
        "id": "i79uzAncDekN"
      }
    },
    {
      "cell_type": "markdown",
      "source": [
        "## 함수"
      ],
      "metadata": {
        "id": "HGjomMRQ8VV4"
      }
    },
    {
      "cell_type": "markdown",
      "source": [
        "1. 코드를 재사용 할 수 있으며, 실수를 줄일 수 있습니다.\n",
        "2. 코드의 구조를 한 눈에 파악할 수 있습니다."
      ],
      "metadata": {
        "id": "jFziDPwf8XOL"
      }
    },
    {
      "cell_type": "code",
      "source": [
        "# 파선아실 --> 파라미터는 선언, 아규먼트는 실제값\n",
        "def function(x, y):\n",
        "    z = x + y\n",
        "    return z\n",
        "print(f'function(5, 7) = {function(5, 7)}')"
      ],
      "metadata": {
        "colab": {
          "base_uri": "https://localhost:8080/"
        },
        "id": "OuRDbxZ1-mtI",
        "outputId": "47f89dd9-2dc3-4bbc-9ea6-369e59ee0861"
      },
      "execution_count": null,
      "outputs": [
        {
          "output_type": "stream",
          "name": "stdout",
          "text": [
            "function(5, 7) = 12\n"
          ]
        }
      ]
    },
    {
      "cell_type": "code",
      "source": [
        "# 같은 코드 1\n",
        "def function(x, y):\n",
        "    z = x + y\n",
        "print(f'function(5, 7) = {function(5, 7)}')"
      ],
      "metadata": {
        "colab": {
          "base_uri": "https://localhost:8080/"
        },
        "id": "9L9WmGIxAd-m",
        "outputId": "5e7606f7-1e6a-4cbe-84ff-c4540b867b5a"
      },
      "execution_count": null,
      "outputs": [
        {
          "output_type": "stream",
          "name": "stdout",
          "text": [
            "function(5, 7) = None\n"
          ]
        }
      ]
    },
    {
      "cell_type": "code",
      "source": [
        "# 같은 코드 2\n",
        "def function(x, y):\n",
        "    z = x + y\n",
        "    return\n",
        "print(f'function(5, 7) = {function(5, 7)}')"
      ],
      "metadata": {
        "colab": {
          "base_uri": "https://localhost:8080/"
        },
        "id": "FirW2-MvAlwG",
        "outputId": "714e5295-36d4-4d6e-c6b3-18e707f03b94"
      },
      "execution_count": null,
      "outputs": [
        {
          "output_type": "stream",
          "name": "stdout",
          "text": [
            "function(5, 7) = None\n"
          ]
        }
      ]
    },
    {
      "cell_type": "code",
      "source": [
        "# 같은 코드 3\n",
        "def function(x, y):\n",
        "    z = x + y\n",
        "    return None\n",
        "print(f'function(5, 7) = {function(5, 7)}')"
      ],
      "metadata": {
        "colab": {
          "base_uri": "https://localhost:8080/"
        },
        "id": "nSdVz4V0AosL",
        "outputId": "c6727ae4-5797-400e-db1f-ed54cd5651ee"
      },
      "execution_count": null,
      "outputs": [
        {
          "output_type": "stream",
          "name": "stdout",
          "text": [
            "function(5, 7) = None\n"
          ]
        }
      ]
    },
    {
      "cell_type": "code",
      "source": [
        "# 함수 연습문제 2\n",
        "def one():\n",
        "    print('one1')\n",
        "    print('one2')\n",
        "    print('one3')\n",
        "    return 100\n",
        "\n",
        "def two():\n",
        "    print('two1')\n",
        "    print('two2')\n",
        "    x = one()\n",
        "    return x + x\n",
        "\n",
        "print(two())\n",
        "\n",
        "# two1\n",
        "# two2\n",
        "# one1\n",
        "# one2\n",
        "# one3\n",
        "# 200"
      ],
      "metadata": {
        "colab": {
          "base_uri": "https://localhost:8080/"
        },
        "id": "IbirqDBeAt3W",
        "outputId": "eca443d8-fd1e-46bb-f8d9-8d5b8b2d6cfe"
      },
      "execution_count": null,
      "outputs": [
        {
          "output_type": "stream",
          "name": "stdout",
          "text": [
            "two1\n",
            "two2\n",
            "one1\n",
            "one2\n",
            "one3\n",
            "200\n"
          ]
        }
      ]
    },
    {
      "cell_type": "code",
      "source": [
        "# 함수 연습문제 3\n",
        "def one(a, b):\n",
        "    print('one1')\n",
        "    print('one2')\n",
        "    print('one3')\n",
        "    return a + b\n",
        "\n",
        "def two(x):\n",
        "    y = 100\n",
        "    print('two1')\n",
        "    print('two2')\n",
        "    x = one(x, y)\n",
        "    return x + x\n",
        "\n",
        "print(two(10))\n"
      ],
      "metadata": {
        "colab": {
          "base_uri": "https://localhost:8080/"
        },
        "id": "pm5gGLSvDzzh",
        "outputId": "87e024a2-2cb6-45cc-e31a-9bfa20c66d69"
      },
      "execution_count": null,
      "outputs": [
        {
          "output_type": "stream",
          "name": "stdout",
          "text": [
            "two1\n",
            "two2\n",
            "one1\n",
            "one2\n",
            "one3\n",
            "220\n"
          ]
        }
      ]
    },
    {
      "cell_type": "code",
      "source": [
        "# 함수란 무엇인가\n",
        "# 함수의 이름은 메모리 상의 code block을 가리키는 변수\n",
        "user_func = print\n",
        "user_func('hello')"
      ],
      "metadata": {
        "colab": {
          "base_uri": "https://localhost:8080/"
        },
        "id": "ZJ7_2bWqD2QP",
        "outputId": "f246b7e2-98d0-4353-8342-d2a6af3dd81a"
      },
      "execution_count": null,
      "outputs": [
        {
          "output_type": "stream",
          "name": "stdout",
          "text": [
            "hello\n"
          ]
        }
      ]
    },
    {
      "cell_type": "markdown",
      "source": [
        "## 함수의 기본 기능"
      ],
      "metadata": {
        "id": "nb70k14iMmIE"
      }
    },
    {
      "cell_type": "code",
      "source": [
        "# return을 빨리 만나게 해주세요.\n",
        "# early return\n",
        "# 조건이 부합하지 않으면 바로 return을 하도록 하는 코딩 패턴\n",
        "# 이렇게 작성함으로써, 가독성이 좋은 코드\n",
        "def custom_sum(x, y):\n",
        "    if type(x) != int and type(x) != float or type(y) != int and type(y) != float:\n",
        "        return '연산할 수 없습니다.'\n",
        "    z = x + y # 100줄이라 가정\n",
        "    return z\n",
        "print(custom_sum(5, 5))"
      ],
      "metadata": {
        "colab": {
          "base_uri": "https://localhost:8080/"
        },
        "id": "qKB_sz6MMjA1",
        "outputId": "ccd871a1-3ee1-4994-e7bf-f24b6ed7f60c"
      },
      "execution_count": null,
      "outputs": [
        {
          "output_type": "stream",
          "name": "stdout",
          "text": [
            "10\n"
          ]
        }
      ]
    },
    {
      "cell_type": "code",
      "source": [
        "# 함수 내 함수, 함수 내 변수는 밖에서 호출 ㅂㄱㄴ\n",
        "# if 실행되면 -> 위에서 이미 다른 함수 정의됨\n",
        "def one():\n",
        "    def two():\n",
        "        print('hello1')\n",
        "    def three():\n",
        "        print('hello2')\n",
        "    two()\n",
        "    three()\n",
        "    return 100\n",
        "\n",
        "print(one())"
      ],
      "metadata": {
        "colab": {
          "base_uri": "https://localhost:8080/"
        },
        "id": "Hgy4ecloQoeV",
        "outputId": "df08faf8-bf62-43dc-a7d7-25e5e17420f8"
      },
      "execution_count": null,
      "outputs": [
        {
          "output_type": "execute_result",
          "data": {
            "text/plain": [
              "100"
            ]
          },
          "metadata": {},
          "execution_count": 24
        }
      ]
    },
    {
      "cell_type": "markdown",
      "source": [
        "## 지역 변수와 전역 변수"
      ],
      "metadata": {
        "id": "3_jOz1ofTDGS"
      }
    },
    {
      "cell_type": "code",
      "source": [
        "# 전역변수 접근은 가능하지만 수정은 ㅂㄱㄴ\n",
        "a = 100\n",
        "def f():\n",
        "  global a\n",
        "  a += 1\n",
        "\n",
        "f()\n",
        "print(a)"
      ],
      "metadata": {
        "colab": {
          "base_uri": "https://localhost:8080/"
        },
        "id": "1UgEvSH3TFm_",
        "outputId": "5ff8cfa8-e0d1-40f3-ee7e-cc3f13a8bedb"
      },
      "execution_count": null,
      "outputs": [
        {
          "output_type": "stream",
          "name": "stdout",
          "text": [
            "101\n"
          ]
        }
      ]
    },
    {
      "cell_type": "code",
      "source": [
        "# 전역변수는 권하지 않음\n",
        "a = 100\n",
        "def f(x):\n",
        "  x += 1\n",
        "  return x\n",
        "\n",
        "a = f(a)\n",
        "print(a)"
      ],
      "metadata": {
        "colab": {
          "base_uri": "https://localhost:8080/"
        },
        "id": "TdfKaM0CXx4h",
        "outputId": "6d1034f5-dca0-4fa3-ba75-d2894d1e53fe"
      },
      "execution_count": null,
      "outputs": [
        {
          "output_type": "stream",
          "name": "stdout",
          "text": [
            "101\n"
          ]
        }
      ]
    },
    {
      "cell_type": "code",
      "source": [
        "a = 100\n",
        "def one():\n",
        "  a = 10\n",
        "  print(a)\n",
        "\n",
        "one()\n",
        "print(a)"
      ],
      "metadata": {
        "colab": {
          "base_uri": "https://localhost:8080/"
        },
        "id": "gthJF6U2X5kS",
        "outputId": "54a780a4-8921-45e1-f0df-3442fcdd33f2"
      },
      "execution_count": null,
      "outputs": [
        {
          "output_type": "stream",
          "name": "stdout",
          "text": [
            "10\n",
            "100\n"
          ]
        }
      ]
    },
    {
      "cell_type": "code",
      "source": [
        "# 어려우신 분들은 pass!\n",
        "# 조금 있다가 요약정리에서도 써드리지 않을 예정입니다.\n",
        "# 자신의 공간에 변수가 선언되어 있지 않으면\n",
        "# 전역까지 찾아 올라갑니다. 전역에도 없으면 error\n",
        "\n",
        "a = 100\n",
        "def one():\n",
        "    a = 10\n",
        "    def two():\n",
        "        def three():\n",
        "            a = 1000\n",
        "            print(a)\n",
        "        three()\n",
        "        print(a)\n",
        "    two()\n",
        "    print(a)\n",
        "\n",
        "one()\n",
        "print(a)"
      ],
      "metadata": {
        "colab": {
          "base_uri": "https://localhost:8080/"
        },
        "id": "mcADU0dJbWaz",
        "outputId": "ab7468ff-53eb-4637-d711-0b06cb19f709"
      },
      "execution_count": null,
      "outputs": [
        {
          "output_type": "stream",
          "name": "stdout",
          "text": [
            "1000\n",
            "10\n",
            "10\n",
            "100\n"
          ]
        }
      ]
    },
    {
      "cell_type": "code",
      "source": [
        "x = 100\n",
        "def outer():\n",
        "    x = 1\n",
        "    def inner():\n",
        "        nonlocal x\n",
        "        x += 1\n",
        "        print(x)\n",
        "    inner()\n",
        "    print(x)\n",
        "\n",
        "outer()\n",
        "print(x)"
      ],
      "metadata": {
        "colab": {
          "base_uri": "https://localhost:8080/"
        },
        "id": "5BOC2HMybWsx",
        "outputId": "ec112278-70d8-44fd-d3e6-7ce9b018016f"
      },
      "execution_count": null,
      "outputs": [
        {
          "output_type": "stream",
          "name": "stdout",
          "text": [
            "2\n",
            "2\n",
            "100\n"
          ]
        }
      ]
    },
    {
      "cell_type": "code",
      "source": [
        "x = 100\n",
        "def outer():\n",
        "    x = 1\n",
        "    def inner():\n",
        "        global x\n",
        "        x += 1\n",
        "        print(x)\n",
        "    inner()\n",
        "    print(x)\n",
        "\n",
        "outer()\n",
        "print(x)"
      ],
      "metadata": {
        "colab": {
          "base_uri": "https://localhost:8080/"
        },
        "id": "cXjMG7mXbZt3",
        "outputId": "6a6501f2-0440-46a2-a5b2-2b8e97436881"
      },
      "execution_count": null,
      "outputs": [
        {
          "output_type": "stream",
          "name": "stdout",
          "text": [
            "101\n",
            "1\n",
            "101\n"
          ]
        }
      ]
    },
    {
      "cell_type": "markdown",
      "source": [
        "## 재귀함수"
      ],
      "metadata": {
        "id": "T_Ja_JU9chFb"
      }
    },
    {
      "cell_type": "markdown",
      "source": [
        "* 재귀 <-> for 문은 대부분 호환이 가능\n",
        "* for 사용을 추천\n",
        "* 어렵고 효율이 안좋음"
      ],
      "metadata": {
        "id": "qtx-SZP6cj60"
      }
    },
    {
      "cell_type": "code",
      "source": [
        "def fact(n):\n",
        "  if n == 1:\n",
        "    return 1\n",
        "  return fact(n-1) * n\n",
        "\n",
        "fact(5)"
      ],
      "metadata": {
        "colab": {
          "base_uri": "https://localhost:8080/"
        },
        "id": "p6fReyuodCCb",
        "outputId": "f20e50da-0213-4d12-fd28-40f3644be65b"
      },
      "execution_count": null,
      "outputs": [
        {
          "output_type": "execute_result",
          "data": {
            "text/plain": [
              "120"
            ]
          },
          "metadata": {},
          "execution_count": 48
        }
      ]
    },
    {
      "cell_type": "code",
      "source": [
        "def fact_for(n):\n",
        "  result = 1\n",
        "  for i in range(n):\n",
        "    result *= i+1\n",
        "  return result\n",
        "\n",
        "fact_for(5)"
      ],
      "metadata": {
        "colab": {
          "base_uri": "https://localhost:8080/"
        },
        "id": "UVN1iyJyefVU",
        "outputId": "0f1800a8-acc5-4672-f959-821eb2638ab4"
      },
      "execution_count": null,
      "outputs": [
        {
          "output_type": "execute_result",
          "data": {
            "text/plain": [
              "120"
            ]
          },
          "metadata": {},
          "execution_count": 51
        }
      ]
    },
    {
      "cell_type": "code",
      "source": [
        "# for로 문자열 거꾸로 출력하기\n",
        "s = 'hello'\n",
        "result = ''\n",
        "\n",
        "for i in s:\n",
        "    result = i + result\n",
        "\n",
        "\n",
        "print(result)\n",
        "'''\n",
        "result = 'h' + ''\n",
        "result = 'e' + 'h'\n",
        "result = 'l' + 'eh'\n",
        "result = 'l' + 'leh'\n",
        "result = 'o' + 'lleh'\n",
        "'''\n",
        "# 실무에서는 이렇게 거꾸로 만들지 않습니다.\n",
        "# 슬라이싱이 일반 for문보다 8배 빠릅니다.\n",
        "# s[::-1] 이렇게 쓰시면 됩니다."
      ],
      "metadata": {
        "colab": {
          "base_uri": "https://localhost:8080/",
          "height": 52
        },
        "id": "6LQYxU6iguoD",
        "outputId": "c3be3112-e953-45e0-908a-13847b04a1f4"
      },
      "execution_count": null,
      "outputs": [
        {
          "output_type": "stream",
          "name": "stdout",
          "text": [
            "olleh\n"
          ]
        },
        {
          "output_type": "execute_result",
          "data": {
            "text/plain": [
              "\"\\nresult = 'h' + ''\\nresult = 'e' + 'h'\\nresult = 'l' + 'eh'\\nresult = 'l' + 'leh'\\nresult = 'o' + 'lleh'\\n\""
            ],
            "application/vnd.google.colaboratory.intrinsic+json": {
              "type": "string"
            }
          },
          "metadata": {},
          "execution_count": 56
        }
      ]
    },
    {
      "cell_type": "code",
      "source": [
        "def reverse(s):\n",
        "    if len(s) == 1:\n",
        "        return s\n",
        "    else:\n",
        "        return reverse(s[1:]) + s[0]\n",
        "\n",
        "reverse('hello')"
      ],
      "metadata": {
        "colab": {
          "base_uri": "https://localhost:8080/",
          "height": 35
        },
        "id": "7FxJsjHoe0dH",
        "outputId": "8023d075-6597-4279-ba13-6eccc360a44a"
      },
      "execution_count": null,
      "outputs": [
        {
          "output_type": "execute_result",
          "data": {
            "text/plain": [
              "'olleh'"
            ],
            "application/vnd.google.colaboratory.intrinsic+json": {
              "type": "string"
            }
          },
          "metadata": {},
          "execution_count": 61
        }
      ]
    },
    {
      "cell_type": "code",
      "source": [
        "# 피보나치\n",
        "# 재귀가 얼마나 비효율적인지 보여드리기 위해서 진행\n",
        "# 1 1 2 3 5 8 13 21\n",
        "\n",
        "curr = 1\n",
        "next = 1\n",
        "for i in range(1, 6):\n",
        "    curr, next = next, curr + next\n",
        "\n",
        "next"
      ],
      "metadata": {
        "id": "mmUSyp7g0uzM"
      },
      "execution_count": null,
      "outputs": []
    },
    {
      "cell_type": "code",
      "source": [
        "from functools import lru_cache\n",
        "\n",
        "@lru_cache(maxsize=None)\n",
        "def fib(num):\n",
        "    if num == 0:\n",
        "        return 0\n",
        "    if num == 1 or num == 2:\n",
        "        return 1\n",
        "    else:\n",
        "        return fib(num-1) + fib(num-2)\n",
        "\n",
        "fib(40)"
      ],
      "metadata": {
        "colab": {
          "base_uri": "https://localhost:8080/"
        },
        "id": "B4EZ_bNi3M7c",
        "outputId": "d8d9637d-6891-4721-9d2f-766062f99fbd"
      },
      "execution_count": null,
      "outputs": [
        {
          "output_type": "execute_result",
          "data": {
            "text/plain": [
              "102334155"
            ]
          },
          "metadata": {},
          "execution_count": 62
        }
      ]
    },
    {
      "cell_type": "markdown",
      "source": [
        "## !! CH3 연습문제"
      ],
      "metadata": {
        "id": "N122OD4178y3"
      }
    },
    {
      "cell_type": "code",
      "source": [
        "# Q1.\n",
        "\n",
        "# I\n",
        "# love\n",
        "# python\n",
        "\n",
        "\n",
        "#Q2.\n",
        "def plus(num1, num2):\n",
        "  return num1+num2\n",
        "\n",
        "def minus(num1, num2):\n",
        "  return num1-num2\n",
        "\n",
        "def multiply(num1, num2):\n",
        "  return num1*num2\n",
        "\n",
        "def divide(num1, num2):\n",
        "  return num1/num2\n",
        "\n",
        "\n",
        "#Q3.\n",
        "def func_sq(x, n):\n",
        "  if n == 1:\n",
        "    return x\n",
        "  return func_sq(x, n-1) * x"
      ],
      "metadata": {
        "id": "uqR8ki7Y8DK-"
      },
      "execution_count": null,
      "outputs": []
    },
    {
      "cell_type": "markdown",
      "source": [
        "## 클로져, 팩토리 함수"
      ],
      "metadata": {
        "id": "XOcEotMQ39p5"
      }
    },
    {
      "cell_type": "code",
      "source": [
        "def 제곱(x):\n",
        "  def 승수(y):\n",
        "    return x ** y\n",
        "  return 승수\n",
        "\n",
        "제곱3 = 제곱(3)\n",
        "제곱3(4)"
      ],
      "metadata": {
        "colab": {
          "base_uri": "https://localhost:8080/"
        },
        "id": "4EQPT26L5TtG",
        "outputId": "fa579aac-7ed6-4394-ece9-29e95a67a376"
      },
      "execution_count": null,
      "outputs": [
        {
          "output_type": "execute_result",
          "data": {
            "text/plain": [
              "81"
            ]
          },
          "metadata": {},
          "execution_count": 78
        }
      ]
    },
    {
      "cell_type": "markdown",
      "source": [
        "## List (리스트)"
      ],
      "metadata": {
        "id": "0ab1rd5E36TF"
      }
    },
    {
      "cell_type": "markdown",
      "source": [
        "- 순서를 가진 데이터들의 집합 (Sequence)\n",
        "- 리스트는 값의 변경\n",
        "- 다차원 리스트 ㄱㄴ\n",
        "- set, dict, tuple을 element로 ㄱㄴ"
      ],
      "metadata": {
        "id": "egteIHCAFnAl"
      }
    },
    {
      "cell_type": "code",
      "source": [
        "l = [1000, 2000, 3000, 1000]\n",
        "id(l[0]), id(l[3])\n",
        "\n",
        "# 컨벤션 자료형 (dict, set, tuple, list)\n",
        "# 같은 값인 경우 같은 주소 (메모리 효율)"
      ],
      "metadata": {
        "colab": {
          "base_uri": "https://localhost:8080/"
        },
        "id": "SxmseGub4AO6",
        "outputId": "171adca7-3ebf-4cbc-bfa8-d16db8532831"
      },
      "execution_count": null,
      "outputs": [
        {
          "output_type": "execute_result",
          "data": {
            "text/plain": [
              "(140423322329520, 140423322329520)"
            ]
          },
          "metadata": {},
          "execution_count": 81
        }
      ]
    },
    {
      "cell_type": "code",
      "source": [
        "data = [[1,2,3], [4,5,6], [7,8,9]]\n",
        "for elem in data:\n",
        "  for i in range(len(elem)):\n",
        "    elem[i] *= 2\n",
        "data"
      ],
      "metadata": {
        "colab": {
          "base_uri": "https://localhost:8080/"
        },
        "id": "PZxTWd3XHHWb",
        "outputId": "045cb379-d79d-4d46-e5fb-a9448bd5cc4c"
      },
      "execution_count": null,
      "outputs": [
        {
          "output_type": "execute_result",
          "data": {
            "text/plain": [
              "[[2, 4, 6], [8, 10, 12], [14, 16, 18]]"
            ]
          },
          "metadata": {},
          "execution_count": 83
        }
      ]
    },
    {
      "cell_type": "code",
      "source": [
        "# 리스트 곱 연산의 경우 조심해야 함\n",
        "x = [[[10] * 3] * 3] * 4\n",
        "x[0][0][0] = 1000\n",
        "x"
      ],
      "metadata": {
        "colab": {
          "base_uri": "https://localhost:8080/"
        },
        "id": "j6QE4IXZJwvz",
        "outputId": "296b6dbc-aacf-438d-a278-39c6ab67cc42"
      },
      "execution_count": null,
      "outputs": [
        {
          "output_type": "execute_result",
          "data": {
            "text/plain": [
              "[[[1000, 10, 10], [1000, 10, 10], [1000, 10, 10]],\n",
              " [[1000, 10, 10], [1000, 10, 10], [1000, 10, 10]],\n",
              " [[1000, 10, 10], [1000, 10, 10], [1000, 10, 10]],\n",
              " [[1000, 10, 10], [1000, 10, 10], [1000, 10, 10]]]"
            ]
          },
          "metadata": {},
          "execution_count": 84
        }
      ]
    },
    {
      "cell_type": "code",
      "source": [
        "[1,2,3] + [1,2,3] # 자주 사용하는 연산"
      ],
      "metadata": {
        "colab": {
          "base_uri": "https://localhost:8080/"
        },
        "id": "AAKzEc2CJ4o9",
        "outputId": "256623d8-d5b2-4d89-e48a-cb9d9909d90b"
      },
      "execution_count": null,
      "outputs": [
        {
          "output_type": "execute_result",
          "data": {
            "text/plain": [
              "[1, 2, 3, 1, 2, 3]"
            ]
          },
          "metadata": {},
          "execution_count": 86
        }
      ]
    },
    {
      "cell_type": "markdown",
      "source": [
        "### List Methods"
      ],
      "metadata": {
        "id": "BUKDGZvsNhCE"
      }
    },
    {
      "cell_type": "code",
      "source": [
        "# 'append', 'clear', 'copy', 'count', 'extend', 'index', \n",
        "# 'insert', 'pop', 'remove', 'reverse', 'sort'"
      ],
      "metadata": {
        "id": "OoWhhWsYNMsr"
      },
      "execution_count": null,
      "outputs": []
    },
    {
      "cell_type": "code",
      "source": [
        "l = [1,2,3]\n",
        "l.append(4)\n",
        "l.extend([1,2,3])\n",
        "l.clear()\n"
      ],
      "metadata": {
        "colab": {
          "base_uri": "https://localhost:8080/"
        },
        "id": "nzwxUwexNo4-",
        "outputId": "6bd31c9f-8e7b-4362-c5e1-7e2560e5cfb0"
      },
      "execution_count": null,
      "outputs": [
        {
          "output_type": "execute_result",
          "data": {
            "text/plain": [
              "([], [1, 2, 3, 4, 1, 2, 3])"
            ]
          },
          "metadata": {},
          "execution_count": 89
        }
      ]
    },
    {
      "cell_type": "code",
      "source": [
        "제주과일가게 = [['바나나', 1000], ['수박', 2000], ['딸기', 3000]]\n",
        "# 서울과일가게 = 제주과일가게[:] # 얕은 복사\n",
        "서울과일가게 = 제주과일가게.copy() # 얕은 복사\n",
        "id(서울과일가게[0]), id(제주과일가게[0])\n",
        "id(서울과일가게[0][0]), id(제주과일가게[0][0])\n",
        "서울과일가게[0][1] = 3000\n",
        "서울과일가게, 제주과일가게"
      ],
      "metadata": {
        "colab": {
          "base_uri": "https://localhost:8080/"
        },
        "id": "cdHVkKwJR8hW",
        "outputId": "a422da09-d714-40fc-a26c-876ecf561305"
      },
      "execution_count": null,
      "outputs": [
        {
          "output_type": "execute_result",
          "data": {
            "text/plain": [
              "([['바나나', 3000], ['수박', 2000], ['딸기', 3000]],\n",
              " [['바나나', 3000], ['수박', 2000], ['딸기', 3000]])"
            ]
          },
          "metadata": {},
          "execution_count": 90
        }
      ]
    },
    {
      "cell_type": "code",
      "source": [
        "l = [1, 2, 3]\n",
        "ll = l[:]\n",
        "l[0] = 1000\n",
        "l, ll"
      ],
      "metadata": {
        "colab": {
          "base_uri": "https://localhost:8080/"
        },
        "id": "hjlMT_aGR9Cv",
        "outputId": "a794e377-039a-4963-8d45-879c4947ea57"
      },
      "execution_count": null,
      "outputs": [
        {
          "output_type": "execute_result",
          "data": {
            "text/plain": [
              "([1000, 2, 3], [1, 2, 3])"
            ]
          },
          "metadata": {},
          "execution_count": 91
        }
      ]
    },
    {
      "cell_type": "code",
      "source": [
        "l = [1, 2, 3]\n",
        "ll = l.copy()\n",
        "l[0] = 1000\n",
        "l, ll"
      ],
      "metadata": {
        "colab": {
          "base_uri": "https://localhost:8080/"
        },
        "id": "U9-wLPZ2SDMG",
        "outputId": "14c8ad6f-440b-4edc-9371-e786b7be0cc3"
      },
      "execution_count": null,
      "outputs": [
        {
          "output_type": "execute_result",
          "data": {
            "text/plain": [
              "([1000, 2, 3], [1, 2, 3])"
            ]
          },
          "metadata": {},
          "execution_count": 92
        }
      ]
    },
    {
      "cell_type": "code",
      "source": [
        "l = [1, 2, 3, 1, 1, 1, 2, 3, 2, 3, 1, 1]\n",
        "l.count(1)"
      ],
      "metadata": {
        "colab": {
          "base_uri": "https://localhost:8080/"
        },
        "id": "xxD2-SSuSI2a",
        "outputId": "a284b782-98d7-491d-a75c-09eddfd3af8c"
      },
      "execution_count": null,
      "outputs": [
        {
          "output_type": "execute_result",
          "data": {
            "text/plain": [
              "6"
            ]
          },
          "metadata": {},
          "execution_count": 94
        }
      ]
    },
    {
      "cell_type": "code",
      "source": [
        "l = [10, 20, 30, 40, 50]\n",
        "l.pop(0) # 많이 사용합니다.\n",
        "l"
      ],
      "metadata": {
        "colab": {
          "base_uri": "https://localhost:8080/"
        },
        "id": "kQcjAT89TB8L",
        "outputId": "2c86838b-c19c-4b0a-8adc-ddfe0fd1c704"
      },
      "execution_count": null,
      "outputs": [
        {
          "output_type": "execute_result",
          "data": {
            "text/plain": [
              "(2, [1, 3, 4])"
            ]
          },
          "metadata": {},
          "execution_count": 96
        }
      ]
    },
    {
      "cell_type": "code",
      "source": [
        "# append : 맨 뒤에 추가\n",
        "# pop : 맨 뒤에서 값을 뽑아내고, index가 들어갈 경우 index에서 뽑습니다.\n",
        "# insert : index에 값을 삽입하고 원래 있던 값을 뒤로 밀어버립니다."
      ],
      "metadata": {
        "id": "3yd75yEDUWSx"
      },
      "execution_count": null,
      "outputs": []
    },
    {
      "cell_type": "code",
      "source": [
        "l = [1, 1, 1, 1]\n",
        "for i in range(len(l)):\n",
        "  print(len(l))   # len(l)이 변하기 때문에 error 발생 ㄱㄴ\n",
        "  l.remove(1)"
      ],
      "metadata": {
        "colab": {
          "base_uri": "https://localhost:8080/"
        },
        "id": "qCxHsx_wUWn5",
        "outputId": "5e21e2c7-890c-4a8c-fb0e-19fcbbf11fb4"
      },
      "execution_count": null,
      "outputs": [
        {
          "output_type": "stream",
          "name": "stdout",
          "text": [
            "4\n",
            "3\n",
            "2\n",
            "1\n"
          ]
        }
      ]
    },
    {
      "cell_type": "code",
      "source": [
        "a = [1,2,3,6,5,4]\n",
        "print(reversed(a)), a"
      ],
      "metadata": {
        "id": "Nn4hvVDsVqmp"
      },
      "execution_count": null,
      "outputs": []
    },
    {
      "cell_type": "code",
      "source": [
        "a = [1,2,3,2,2,2,3,4,5,5,43,2,2,3,4,5,2]\n",
        "\n",
        "list(filter(lambda x : x != 2, a))"
      ],
      "metadata": {
        "colab": {
          "base_uri": "https://localhost:8080/"
        },
        "id": "KCGybRYbGP4N",
        "outputId": "cfb0b624-fbff-48f6-e2aa-c20db2446bb6"
      },
      "execution_count": null,
      "outputs": [
        {
          "output_type": "execute_result",
          "data": {
            "text/plain": [
              "[1, 3, 3, 4, 5, 5, 43, 3, 4, 5]"
            ]
          },
          "metadata": {},
          "execution_count": 8
        }
      ]
    },
    {
      "cell_type": "markdown",
      "source": [
        "### List Methods - sort ***"
      ],
      "metadata": {
        "id": "m4WgABq5H0Un"
      }
    },
    {
      "cell_type": "code",
      "source": [
        "a = [1,5,3,2,1,5,6,6,3,4,5,6,7,3,4,5,2, -1, -12, -2]\n",
        "print(a.sort(reverse=True, key = lambda x : x**2))\n",
        "b = sorted(a)\n",
        "a, b"
      ],
      "metadata": {
        "colab": {
          "base_uri": "https://localhost:8080/"
        },
        "id": "ND1hH8hIHzja",
        "outputId": "fd995545-4e63-48af-8437-4387adefd4fd"
      },
      "execution_count": null,
      "outputs": [
        {
          "output_type": "stream",
          "name": "stdout",
          "text": [
            "None\n"
          ]
        },
        {
          "output_type": "execute_result",
          "data": {
            "text/plain": [
              "([-12, 7, 6, 6, 6, 5, 5, 5, 5, 4, 4, 3, 3, 3, 2, 2, -2, 1, 1, -1],\n",
              " [-12, -2, -1, 1, 1, 2, 2, 3, 3, 3, 4, 4, 5, 5, 5, 5, 6, 6, 6, 7])"
            ]
          },
          "metadata": {},
          "execution_count": 15
        }
      ]
    },
    {
      "cell_type": "code",
      "source": [
        "l = [[1, 10, 'leehojun'], \n",
        "     [20, 30, 'hojun'], \n",
        "     [10, 20, 'weniv'], \n",
        "     [1, 2, 'likelion'], \n",
        "     [55, 11, 'sun']]\n",
        "\n",
        "# 1. 글자 수 대로 정렬해주세요.\n",
        "l1 = sorted(l, key=lambda x : len(x[2]))\n",
        "\n",
        "# 2. 맨 앞에 위치한 숫자대로 정렬해주세요.\n",
        "l2 = sorted(l, key=lambda x : x[0])\n",
        "\n",
        "# 3. 중앙에 위치한 값대로 정렬해주세요.\n",
        "l = [[1, 10, 32], \n",
        "     [20, 30, 11], \n",
        "     [10, 20, 22], \n",
        "     [1, 2, 13], \n",
        "     [55, 11, 44]]\n",
        "\n",
        "l3 = sorted(l, key=lambda x:x[1])\n",
        "\n",
        "# 4. 3개의 전체 합이 작은 순서대로 출력해주세요.\n",
        "l4 = sorted(l, key=lambda x:sum(x))"
      ],
      "metadata": {
        "colab": {
          "base_uri": "https://localhost:8080/"
        },
        "id": "z-pyngXhJfIP",
        "outputId": "53fd2767-f1e4-467a-da7c-d75b8e859359"
      },
      "execution_count": null,
      "outputs": [
        {
          "output_type": "stream",
          "name": "stdout",
          "text": [
            "[[1, 2, 13], [1, 10, 32], [10, 20, 22], [20, 30, 11], [55, 11, 44]]\n"
          ]
        }
      ]
    },
    {
      "cell_type": "code",
      "source": [
        "# https://codingdojang.com/scode/408?answer_mode=hide\n",
        "# 좌표 평면 문제가 나오면 차원 축소나 차원 확대가 가능한 문제인지 확인\n",
        "\n",
        "point = [1, 3, 4, 8, 13, 17, 20]\n",
        "\n",
        "a = sorted(zip(point, point[1:]), key=lambda x:x[1]-x[0])[0]\n",
        "\n",
        "def minus(x):\n",
        "  return x[1]-x[0]\n",
        "\n",
        "b = sorted(zip(point, point[1:]), key=minus)[0]\n",
        "\n",
        "print(a)\n",
        "print(b)"
      ],
      "metadata": {
        "colab": {
          "base_uri": "https://localhost:8080/"
        },
        "id": "CNSr-NHDJqIp",
        "outputId": "b4d59031-6813-46a3-9e48-3e6da34e4c99"
      },
      "execution_count": null,
      "outputs": [
        {
          "output_type": "stream",
          "name": "stdout",
          "text": [
            "(3, 4)\n",
            "(3, 4)\n"
          ]
        }
      ]
    },
    {
      "cell_type": "code",
      "source": [
        "# https://school.programmers.co.kr/learn/courses/30/lessons/120835\n",
        "# 응급도\n",
        "# [3, 76, 24]\n",
        "# 우선순위\n",
        "# [3, 1, 2]\n",
        "\n",
        "l = [3, 76, 24]\n",
        "정렬된값 = sorted(l, reverse=True)\n",
        "정렬된값 # [76, 24, 3]\n",
        "# 우리가 원하는 값 [2, 0, 1]\n",
        "\n",
        "결과값 = [\n",
        "            정렬된값.index(l[0]), \n",
        "            정렬된값.index(l[1]), \n",
        "            정렬된값.index(l[2])\n",
        "        ]\n",
        "결과값"
      ],
      "metadata": {
        "colab": {
          "base_uri": "https://localhost:8080/"
        },
        "id": "RmZLwlc1VmnN",
        "outputId": "e66bb80f-0cdc-4910-b421-effd2f3b097a"
      },
      "execution_count": null,
      "outputs": [
        {
          "output_type": "execute_result",
          "data": {
            "text/plain": [
              "[2, 3, 1]"
            ]
          },
          "metadata": {},
          "execution_count": 34
        }
      ]
    },
    {
      "cell_type": "markdown",
      "source": [
        "### 깊은 복사와 얕은 복사"
      ],
      "metadata": {
        "id": "gt3ZanJjWRee"
      }
    },
    {
      "cell_type": "markdown",
      "source": [
        "* 얕은 복사 -- 1 depth만\n",
        "* 깊은 복사 -- 모든 depth"
      ],
      "metadata": {
        "id": "hvdPBZzMaJak"
      }
    },
    {
      "cell_type": "code",
      "source": [
        "# 아무런 복사도 이뤄지지 않은 상태\n",
        "l = [[1,2,3], [4,5,6]]\n",
        "ll = l\n",
        "ll[0][0] = 10\n",
        "l, ll"
      ],
      "metadata": {
        "colab": {
          "base_uri": "https://localhost:8080/"
        },
        "id": "mBLga40oWTSV",
        "outputId": "e5363be4-687d-49a9-c126-22c416a264fc"
      },
      "execution_count": null,
      "outputs": [
        {
          "output_type": "execute_result",
          "data": {
            "text/plain": [
              "([[10, 2, 3], [4, 5, 6]], [[10, 2, 3], [4, 5, 6]])"
            ]
          },
          "metadata": {},
          "execution_count": 36
        }
      ]
    },
    {
      "cell_type": "code",
      "source": [
        "# 얕은 복사\n",
        "l = [1,2,3,4,5,6]\n",
        "ll = l.copy()\n",
        "ll[0] = 10\n",
        "l, ll"
      ],
      "metadata": {
        "colab": {
          "base_uri": "https://localhost:8080/"
        },
        "id": "obS3bE5iW35k",
        "outputId": "c8023d29-4238-4820-e079-9335785fcccd"
      },
      "execution_count": null,
      "outputs": [
        {
          "output_type": "execute_result",
          "data": {
            "text/plain": [
              "([1, 2, 3, 4, 5, 6], [10, 2, 3, 4, 5, 6])"
            ]
          },
          "metadata": {},
          "execution_count": 39
        }
      ]
    },
    {
      "cell_type": "code",
      "source": [
        "# 얕은 복사\n",
        "l = [[1,2,3], [4,5,6]]\n",
        "ll = l.copy()         # same as l[:]\n",
        "ll[0][0] = 10\n",
        "l, ll"
      ],
      "metadata": {
        "colab": {
          "base_uri": "https://localhost:8080/"
        },
        "id": "q-V00GzrWpzu",
        "outputId": "245c89dc-4b0c-4e13-b128-b513e9aeceba"
      },
      "execution_count": null,
      "outputs": [
        {
          "output_type": "execute_result",
          "data": {
            "text/plain": [
              "([[10, 2, 3], [4, 5, 6]], [[10, 2, 3], [4, 5, 6]])"
            ]
          },
          "metadata": {},
          "execution_count": 38
        }
      ]
    },
    {
      "cell_type": "code",
      "source": [
        "# 깊은 복사\n",
        "import copy\n",
        "\n",
        "l = [[1, 2, 3], [4, 5, 6]]\n",
        "ll = copy.deepcopy(l)\n",
        "ll[0][0] = 10\n",
        "l, ll"
      ],
      "metadata": {
        "colab": {
          "base_uri": "https://localhost:8080/"
        },
        "id": "MhLKNChYZFDo",
        "outputId": "7b2e153f-252f-441d-d66e-9b5629341714"
      },
      "execution_count": null,
      "outputs": [
        {
          "output_type": "execute_result",
          "data": {
            "text/plain": [
              "([[1, 2, 3], [4, 5, 6]], [[10, 2, 3], [4, 5, 6]])"
            ]
          },
          "metadata": {},
          "execution_count": 40
        }
      ]
    },
    {
      "cell_type": "code",
      "source": [
        "# 얕은 복사\n",
        "# 리스트 컴프리헨션은 안배운 내용이니 keep해두시고\n",
        "# for문 배운다음 다시 오셔서 복습하시기를 권해드립니다.\n",
        "l = [[1, 2, 3], [4, 5, 6]]\n",
        "ll = [i for i in l]\n",
        "l[0][0] = 100\n",
        "l, ll"
      ],
      "metadata": {
        "id": "oYsFofilcJjZ"
      },
      "execution_count": null,
      "outputs": []
    },
    {
      "cell_type": "code",
      "source": [
        "# 1단계 깊은 복사\n",
        "# 리스트 컴프리헨션은 안배운 내용이니 keep해두시고\n",
        "# for문 배운다음 다시 오셔서 복습하시기를 권해드립니다.\n",
        "l = [[1, 2, 3], [4, 5, 6]]\n",
        "ll = [i[:] for i in l]\n",
        "l[0][0] = 100\n",
        "l, ll"
      ],
      "metadata": {
        "colab": {
          "base_uri": "https://localhost:8080/"
        },
        "id": "9Vrs6Xz_an-L",
        "outputId": "7eaf403c-4d29-42da-8bbf-b8818dba5926"
      },
      "execution_count": null,
      "outputs": [
        {
          "output_type": "execute_result",
          "data": {
            "text/plain": [
              "([[100, 2, 3], [4, 5, 6]], [[100, 2, 3], [4, 5, 6]])"
            ]
          },
          "metadata": {},
          "execution_count": 42
        }
      ]
    },
    {
      "cell_type": "markdown",
      "source": [
        "### 다차원 리스트"
      ],
      "metadata": {
        "id": "aFQ_UCQ4ceWQ"
      }
    },
    {
      "cell_type": "code",
      "source": [
        "#2차원\n",
        "a = [[1, 2, 3],\n",
        "     [11, 22, 33],\n",
        "     [10, 2000, 30]]\n",
        "max(a)\n",
        "min(a)\n",
        "# sum(a)\n",
        "max(a, key=lambda x:x[1])\n",
        "min(a, key=lambda x:x[1])\n",
        "# sum(a) error\n",
        "sum(a, [])"
      ],
      "metadata": {
        "colab": {
          "base_uri": "https://localhost:8080/"
        },
        "id": "4lnRIQGZcgBR",
        "outputId": "e47e1548-ea0e-4927-8861-57c753bcae05"
      },
      "execution_count": null,
      "outputs": [
        {
          "output_type": "execute_result",
          "data": {
            "text/plain": [
              "[1, 2, 3, 11, 22, 33, 10, 2000, 30]"
            ]
          },
          "metadata": {},
          "execution_count": 45
        }
      ]
    },
    {
      "cell_type": "markdown",
      "source": [
        "### List 순회"
      ],
      "metadata": {
        "id": "E9XVY-mjkcW3"
      }
    },
    {
      "cell_type": "code",
      "source": [
        "#1차원\n",
        "a = [1, 2, 3, 4, 5, 6, 7, 8]\n",
        "\n",
        "# a -> 순회 가능 객체\n",
        "for i in a:\n",
        "     print(i)"
      ],
      "metadata": {
        "colab": {
          "base_uri": "https://localhost:8080/"
        },
        "id": "rwUwg3nUkbPh",
        "outputId": "a232e7df-9451-4fb5-a716-f9b72b60e094"
      },
      "execution_count": null,
      "outputs": [
        {
          "output_type": "stream",
          "name": "stdout",
          "text": [
            "1\n",
            "2\n",
            "3\n",
            "4\n",
            "5\n",
            "6\n",
            "7\n",
            "8\n"
          ]
        }
      ]
    },
    {
      "cell_type": "markdown",
      "source": [
        "## range"
      ],
      "metadata": {
        "id": "k2ee6foQnKj_"
      }
    },
    {
      "cell_type": "code",
      "source": [
        "# range(start, stop, step)\n",
        "# Slicing 과 같은 규칙 (;)\n",
        "# python 2.x version에서는 range가 list -> xrange (ver 2.x) == range (ver 3.x)\n",
        "\n",
        "print(list(range(0, 101, 2))) #짝수\n",
        "print(list(range(1, 101, 2))) #홀수\n",
        "print(list(range(100, 1, -2)))\n",
        "print(sum(list(range(0, 101))))\n",
        "print(sum(range(0, 101))) # 이렇게 형 변환을 하지 않고 sum하시는 것을 권합니다."
      ],
      "metadata": {
        "id": "k6hWUCcMk4_m"
      },
      "execution_count": null,
      "outputs": []
    },
    {
      "cell_type": "markdown",
      "source": [
        "## List Comprehension"
      ],
      "metadata": {
        "id": "mKmiY9EVqKVG"
      }
    },
    {
      "cell_type": "code",
      "source": [
        "l = []\n",
        "for i in range(1, 11):\n",
        "    l.append(i**i)\n",
        "print(l)\n",
        "\n",
        "l = [i**i for i in range(1, 11)]\n",
        "print(l)"
      ],
      "metadata": {
        "colab": {
          "base_uri": "https://localhost:8080/"
        },
        "id": "4_u8riDDpNl6",
        "outputId": "3fab4ffa-793f-4fe3-b260-24555ae4fc4d"
      },
      "execution_count": null,
      "outputs": [
        {
          "output_type": "stream",
          "name": "stdout",
          "text": [
            "[1, 4, 27, 256, 3125, 46656, 823543, 16777216, 387420489, 10000000000]\n",
            "[1, 4, 27, 256, 3125, 46656, 823543, 16777216, 387420489, 10000000000]\n"
          ]
        }
      ]
    },
    {
      "cell_type": "code",
      "source": [
        "l = []\n",
        "for i in range(1, 100):\n",
        "    if i %3 == 0 or i %5 == 0:\n",
        "        l.append(i)\n",
        "\n",
        "[i for i in range(1, 100) if i %3 == 0 or i %5 == 0]"
      ],
      "metadata": {
        "id": "p96s_P5OqyNs"
      },
      "execution_count": null,
      "outputs": []
    },
    {
      "cell_type": "markdown",
      "source": [
        "## Tuple (튜플)"
      ],
      "metadata": {
        "id": "ClFMEP6v9P_q"
      }
    },
    {
      "cell_type": "markdown",
      "source": [
        "- 튜플은 순서가 있는 시퀀스형 자료형입니다.\n",
        "- 참조값은 변경이 불가능(immutable) 합니다.\n",
        "- 다른 자료형을 입력할 수 있으며, 튜플 안에 튜플로 다차원의 튜플을 만드는 것도 가능합니다.\n",
        "- 값의 중복을 허락합니다."
      ],
      "metadata": {
        "id": "2gBhCsan9pVk"
      }
    },
    {
      "cell_type": "code",
      "source": [
        "l = [1, 2, 3]\n",
        "t = (l, 20, 30)\n",
        "print(t)\n",
        "t[0][0] = 1000\n",
        "t"
      ],
      "metadata": {
        "colab": {
          "base_uri": "https://localhost:8080/"
        },
        "id": "aWXfJgiU9Tb1",
        "outputId": "a0322c22-c3d6-434d-e59b-9a56d0c6c6c0"
      },
      "execution_count": null,
      "outputs": [
        {
          "output_type": "stream",
          "name": "stdout",
          "text": [
            "([1, 2, 3], 20, 30)\n"
          ]
        },
        {
          "output_type": "execute_result",
          "data": {
            "text/plain": [
              "([1000, 2, 3], 20, 30)"
            ]
          },
          "metadata": {},
          "execution_count": 55
        }
      ]
    },
    {
      "cell_type": "code",
      "source": [
        "t = tuple('leehojun')\n",
        "t\n",
        "t = tuple()\n",
        "t\n",
        "t = tuple(range(10))\n",
        "t\n",
        "t = (1) \n",
        "t\n",
        "t = (1,) #원소를 하나씩 넣고 싶을 때는 콤마(,)를 사용해줍니다.\n",
        "t"
      ],
      "metadata": {
        "id": "UedHaCo7_PRx"
      },
      "execution_count": null,
      "outputs": []
    },
    {
      "cell_type": "markdown",
      "source": [
        "## Dict (사전)"
      ],
      "metadata": {
        "id": "yuiVoeQ1_pwx"
      }
    },
    {
      "cell_type": "markdown",
      "source": [
        "- 딕셔너리는 순서가 없는 자료형입니다.\n",
        "- 사전형은 Key와 Value 가 하나의 묶음으로 이루어진 자료 체계입니다.\n",
        "- 값의 변경이 가능합니다.\n",
        "- 다른 자료형을 입력할 수 있습니다.\n",
        "- 키의 중복은 허락하지 않고, 값의 중복을 허락합니다.\n"
      ],
      "metadata": {
        "id": "w6QOZ0vI_sqz"
      }
    },
    {
      "cell_type": "code",
      "source": [
        "d = {'one' : '하나', 'two' : '둘', 'three' : '셋'}\n",
        "print(d)\n",
        "print(d['one'])\n",
        "d['two'] = '투'\n",
        "print(d)"
      ],
      "metadata": {
        "colab": {
          "base_uri": "https://localhost:8080/"
        },
        "id": "CAq6-VQT9-t_",
        "outputId": "1fbb7f03-5527-4514-9d05-9632cbe2ea95"
      },
      "execution_count": null,
      "outputs": [
        {
          "output_type": "stream",
          "name": "stdout",
          "text": [
            "{'one': '하나', 'two': '둘', 'three': '셋'}\n",
            "하나\n",
            "{'one': '하나', 'two': '투', 'three': '셋'}\n"
          ]
        }
      ]
    },
    {
      "cell_type": "code",
      "source": [
        "d = {'one' : '하나', 'two' : '둘', 'three' : '셋'}\n",
        "d.items()"
      ],
      "metadata": {
        "colab": {
          "base_uri": "https://localhost:8080/"
        },
        "id": "OurDmah8A8g9",
        "outputId": "ce1073bf-9d54-4c23-e911-b60437ad9c83"
      },
      "execution_count": null,
      "outputs": [
        {
          "output_type": "execute_result",
          "data": {
            "text/plain": [
              "dict_items([('one', '하나'), ('two', '둘'), ('three', '셋')])"
            ]
          },
          "metadata": {},
          "execution_count": 63
        }
      ]
    },
    {
      "cell_type": "markdown",
      "source": [
        "dict와 zip를 사용해서 아래와 같은 형태로 데이터를 만들어주세요. 잘 모르시겠다면 어떻게든 아래와 같은 형태를 만들어주세요.\n",
        "```\n",
        "# 원하는 형태 {'A': [10, 20], 'B': [20, 30], 'C': [30, 40]}\n",
        "```"
      ],
      "metadata": {
        "id": "sWWVsTUTGSEa"
      }
    },
    {
      "cell_type": "code",
      "source": [
        "%%timeit\n",
        "dict(zip('ABC', [list(elem) for elem in zip([10, 20, 30], [20, 30, 40])]))"
      ],
      "metadata": {
        "colab": {
          "base_uri": "https://localhost:8080/"
        },
        "id": "cMo2EIWVCZkr",
        "outputId": "575f7fe3-bd04-4f68-9c41-2ee5906b1dfa"
      },
      "execution_count": null,
      "outputs": [
        {
          "output_type": "stream",
          "name": "stdout",
          "text": [
            "1.48 µs ± 418 ns per loop (mean ± std. dev. of 7 runs, 1000000 loops each)\n"
          ]
        }
      ]
    },
    {
      "cell_type": "code",
      "source": [
        "%%timeit\n",
        "\n",
        "l = [10, 20, 30, 40]\n",
        "dict(zip('ABC', [list(elem) for elem in zip(l, l[1:])]))"
      ],
      "metadata": {
        "colab": {
          "base_uri": "https://localhost:8080/"
        },
        "id": "Xl-USUeWF5Tr",
        "outputId": "50d728c0-d81c-47be-8b32-51d3d45d4ad4"
      },
      "execution_count": null,
      "outputs": [
        {
          "output_type": "stream",
          "name": "stdout",
          "text": [
            "2.53 µs ± 278 ns per loop (mean ± std. dev. of 7 runs, 100000 loops each)\n"
          ]
        }
      ]
    },
    {
      "cell_type": "code",
      "source": [
        "def switch(day):\n",
        "    return {\n",
        "        1 : '월요일',\n",
        "        2 : '화요일',\n",
        "        3 : '수요일',\n",
        "        4 : '목요일',\n",
        "        5 : '금요일',\n",
        "        6 : '토요일',\n",
        "        7 : '일요일',\n",
        "    }[day]\n",
        "\n",
        "switch(7)"
      ],
      "metadata": {
        "colab": {
          "base_uri": "https://localhost:8080/",
          "height": 35
        },
        "id": "OpmLLQFJJOPg",
        "outputId": "673b5061-f3c9-489c-d691-1b6d7f0b5fc0"
      },
      "execution_count": null,
      "outputs": [
        {
          "output_type": "execute_result",
          "data": {
            "text/plain": [
              "'일요일'"
            ],
            "application/vnd.google.colaboratory.intrinsic+json": {
              "type": "string"
            }
          },
          "metadata": {},
          "execution_count": 84
        }
      ]
    },
    {
      "cell_type": "code",
      "source": [
        "argue = 3\n",
        "\n",
        "match argue:\n",
        "    case 0:\n",
        "        print(0)\n",
        "    case 1:\n",
        "        print(1)\n",
        "    case default:\n",
        "        print('wrong input')"
      ],
      "metadata": {
        "colab": {
          "base_uri": "https://localhost:8080/"
        },
        "id": "3TgAqGfTJ0n4",
        "outputId": "75ea068d-c590-4a70-de57-be3ae4fc0d0e"
      },
      "execution_count": null,
      "outputs": [
        {
          "output_type": "stream",
          "name": "stdout",
          "text": [
            "wrong input\n"
          ]
        }
      ]
    },
    {
      "cell_type": "code",
      "source": [
        "{'A': [10, 20], 'B': [20, 30], 'C': [30, 40]}.keys()"
      ],
      "metadata": {
        "colab": {
          "base_uri": "https://localhost:8080/"
        },
        "id": "MZjpX6tPLbkH",
        "outputId": "0724148a-6631-4c99-98f4-c67578d7fbc4"
      },
      "execution_count": null,
      "outputs": [
        {
          "output_type": "execute_result",
          "data": {
            "text/plain": [
              "dict_keys(['A', 'B', 'C'])"
            ]
          },
          "metadata": {},
          "execution_count": 85
        }
      ]
    },
    {
      "cell_type": "code",
      "source": [
        "{'A': [10, 20], 'B': [20, 30], 'C': [30, 40]}.values()"
      ],
      "metadata": {
        "colab": {
          "base_uri": "https://localhost:8080/"
        },
        "id": "INb7E4omLgrc",
        "outputId": "bc22fb46-444c-4975-8065-af1e4a32781d"
      },
      "execution_count": null,
      "outputs": [
        {
          "output_type": "execute_result",
          "data": {
            "text/plain": [
              "dict_values([[10, 20], [20, 30], [30, 40]])"
            ]
          },
          "metadata": {},
          "execution_count": 86
        }
      ]
    },
    {
      "cell_type": "code",
      "source": [
        "{'A': [10, 20], 'B': [20, 30], 'C': [30, 40]}.items()"
      ],
      "metadata": {
        "colab": {
          "base_uri": "https://localhost:8080/"
        },
        "id": "39_WOC8hLh6s",
        "outputId": "d007d0c2-ccfe-4ca8-d6ba-128293a2bb2a"
      },
      "execution_count": null,
      "outputs": [
        {
          "output_type": "execute_result",
          "data": {
            "text/plain": [
              "[dict_items([('A', [10, 20]), ('B', [20, 30]), ('C', [30, 40])])]"
            ]
          },
          "metadata": {},
          "execution_count": 89
        }
      ]
    },
    {
      "cell_type": "code",
      "source": [
        "dict.fromkeys('ABC', [1,2,3])"
      ],
      "metadata": {
        "colab": {
          "base_uri": "https://localhost:8080/"
        },
        "id": "PBcK0iDjLi-q",
        "outputId": "e14117fb-7c63-41b4-8210-daf74ba104a8"
      },
      "execution_count": null,
      "outputs": [
        {
          "output_type": "execute_result",
          "data": {
            "text/plain": [
              "{'A': [1, 2, 3], 'B': [1, 2, 3], 'C': [1, 2, 3]}"
            ]
          },
          "metadata": {},
          "execution_count": 91
        }
      ]
    },
    {
      "cell_type": "code",
      "source": [
        "d = {'one' : '하나', 'two' : '둘', 'three' : '셋'}\n",
        "d.update({'one' : 1, 'two' : 2})\n",
        "d"
      ],
      "metadata": {
        "colab": {
          "base_uri": "https://localhost:8080/"
        },
        "id": "0GeOn1oZM2uj",
        "outputId": "80c4e7c6-d828-4217-f77b-773548cf43be"
      },
      "execution_count": null,
      "outputs": [
        {
          "output_type": "execute_result",
          "data": {
            "text/plain": [
              "{'one': 1, 'two': 2, 'three': '셋'}"
            ]
          },
          "metadata": {},
          "execution_count": 92
        }
      ]
    },
    {
      "cell_type": "markdown",
      "source": [
        "### Dictionary의 순회"
      ],
      "metadata": {
        "id": "7EnlQtGQM6lZ"
      }
    },
    {
      "cell_type": "code",
      "source": [
        "d = {'two' : 2, 'three' : '셋'}\n",
        "for i in d:\n",
        "    print(i)"
      ],
      "metadata": {
        "colab": {
          "base_uri": "https://localhost:8080/"
        },
        "id": "SGWluAqHM4jB",
        "outputId": "63777be1-2ed3-4875-d3ba-07ddc21b0d96"
      },
      "execution_count": null,
      "outputs": [
        {
          "output_type": "stream",
          "name": "stdout",
          "text": [
            "two\n",
            "three\n"
          ]
        }
      ]
    },
    {
      "cell_type": "markdown",
      "source": [
        "### Unpacking"
      ],
      "metadata": {
        "id": "0M9D7hKpNQ4L"
      }
    },
    {
      "cell_type": "code",
      "source": [
        "for i, j in d.items():\n",
        "     print('key = ', f'{i:^10}', 'value = ', f'{j:^10}')\n",
        "\n",
        "print(d.items())"
      ],
      "metadata": {
        "colab": {
          "base_uri": "https://localhost:8080/"
        },
        "id": "DPwAjVfuM_gp",
        "outputId": "40eddd5f-d983-482b-d8c6-a1509802e582"
      },
      "execution_count": null,
      "outputs": [
        {
          "output_type": "stream",
          "name": "stdout",
          "text": [
            "key =     two     value =      2     \n",
            "key =    three    value =      셋     \n",
            "dict_items([('two', 2), ('three', '셋')])\n"
          ]
        }
      ]
    },
    {
      "cell_type": "code",
      "source": [
        "for i, j in [[10, 20], [30, 40], [50, 60]]:\n",
        "    print(i, j)"
      ],
      "metadata": {
        "colab": {
          "base_uri": "https://localhost:8080/"
        },
        "id": "iUEyIDvBNLDm",
        "outputId": "5c05f460-19f8-404c-e837-4991821100e6"
      },
      "execution_count": null,
      "outputs": [
        {
          "output_type": "stream",
          "name": "stdout",
          "text": [
            "10 20\n",
            "30 40\n",
            "50 60\n"
          ]
        }
      ]
    },
    {
      "cell_type": "code",
      "source": [
        "for i, j, k in [[10, 20, [1, 2]], [30, 40, [3, 4]], [50, 60, [5, 6]]]:\n",
        "    print(i, j, k[0], k[1])"
      ],
      "metadata": {
        "colab": {
          "base_uri": "https://localhost:8080/"
        },
        "id": "0r3x1RqEORt0",
        "outputId": "383a03ec-3e22-4945-8313-0b17d4cc1cfe"
      },
      "execution_count": null,
      "outputs": [
        {
          "output_type": "stream",
          "name": "stdout",
          "text": [
            "10 20 1 2\n",
            "30 40 3 4\n",
            "50 60 5 6\n"
          ]
        }
      ]
    },
    {
      "cell_type": "markdown",
      "source": [
        "### max를 이용한 dict 최대 value"
      ],
      "metadata": {
        "id": "0bjj4RaSPV2D"
      }
    },
    {
      "cell_type": "code",
      "source": [
        "d = {\n",
        "    't1' : 10,\n",
        "    't2' : 20,\n",
        "    't3' : 30,\n",
        "    't4' : 11,\n",
        "}\n",
        "\n",
        "max(d, key=lambda x:d[x])\n",
        "max(d, key=d.get)"
      ],
      "metadata": {
        "colab": {
          "base_uri": "https://localhost:8080/",
          "height": 35
        },
        "id": "MQ60wbLWOTRL",
        "outputId": "273d240a-7801-499c-e7e0-0aa10216aad3"
      },
      "execution_count": null,
      "outputs": [
        {
          "output_type": "execute_result",
          "data": {
            "text/plain": [
              "'t3'"
            ],
            "application/vnd.google.colaboratory.intrinsic+json": {
              "type": "string"
            }
          },
          "metadata": {},
          "execution_count": 113
        }
      ]
    },
    {
      "cell_type": "markdown",
      "source": [
        "## Set (집합)"
      ],
      "metadata": {
        "id": "hRu1C6tVQusT"
      }
    },
    {
      "cell_type": "markdown",
      "source": [
        "- 중복 허용 X\n",
        "- 순서 X"
      ],
      "metadata": {
        "id": "NPCANtsSRGdO"
      }
    },
    {
      "cell_type": "code",
      "source": [
        "n = set([1, 1, 2, 2, 3, 3, 4])\n",
        "print(n)"
      ],
      "metadata": {
        "colab": {
          "base_uri": "https://localhost:8080/"
        },
        "id": "VPl3WgkPQxzF",
        "outputId": "8c1ab2f6-f516-46d7-fc22-a1ad42882cd2"
      },
      "execution_count": null,
      "outputs": [
        {
          "output_type": "stream",
          "name": "stdout",
          "text": [
            "{1, 2, 3, 4}\n"
          ]
        }
      ]
    },
    {
      "cell_type": "code",
      "source": [
        "# https://school.programmers.co.kr/learn/courses/30/lessons/120888\n",
        "# my_string        result\n",
        "# \"people\"        \"peol\"\n",
        "\n",
        "def solution(my_string):\n",
        "    return ''.join(sorted(list(set(my_string)), key=lambda x:my_string.index(x)))\n",
        "\n",
        "solution('people')"
      ],
      "metadata": {
        "colab": {
          "base_uri": "https://localhost:8080/",
          "height": 35
        },
        "id": "1xN-2LxMQ1Rv",
        "outputId": "2ecd12ce-c796-4442-861a-3cae74f03fd0"
      },
      "execution_count": null,
      "outputs": [
        {
          "output_type": "execute_result",
          "data": {
            "text/plain": [
              "'peol'"
            ],
            "application/vnd.google.colaboratory.intrinsic+json": {
              "type": "string"
            }
          },
          "metadata": {},
          "execution_count": 121
        }
      ]
    },
    {
      "cell_type": "code",
      "source": [
        "# https://school.programmers.co.kr/learn/courses/30/lessons/120903?language=python3\n",
        "def solution(s1, s2):\n",
        "    return len(set(s1) & set(s2))"
      ],
      "metadata": {
        "id": "we3yjtTGhfG3"
      },
      "execution_count": null,
      "outputs": []
    },
    {
      "cell_type": "code",
      "source": [
        "def solution(my_string):\n",
        "    집합 = set(my_string)\n",
        "    result = ''\n",
        "    for i in my_string:\n",
        "        if i in 집합:\n",
        "            result += i\n",
        "            집합.remove(i)\n",
        "    return result\n",
        "\n",
        "solution('people')"
      ],
      "metadata": {
        "colab": {
          "base_uri": "https://localhost:8080/",
          "height": 35
        },
        "id": "8NQmSQymaAw9",
        "outputId": "3379b193-8e6e-42c9-8daf-4f4fda8dbf83"
      },
      "execution_count": null,
      "outputs": [
        {
          "output_type": "execute_result",
          "data": {
            "text/plain": [
              "'peol'"
            ],
            "application/vnd.google.colaboratory.intrinsic+json": {
              "type": "string"
            }
          },
          "metadata": {},
          "execution_count": 133
        }
      ]
    },
    {
      "cell_type": "code",
      "source": [
        "# 교집합 별 3개\n",
        "a = {1, 2, 3}\n",
        "b = {3, 4, 5}\n",
        "a & b\n",
        "a.intersection(b)"
      ],
      "metadata": {
        "colab": {
          "base_uri": "https://localhost:8080/"
        },
        "id": "zkkQg8OUSqG3",
        "outputId": "be9eebbc-3024-44a3-d8e3-2aa82e4d5e9f"
      },
      "execution_count": null,
      "outputs": [
        {
          "output_type": "execute_result",
          "data": {
            "text/plain": [
              "{3}"
            ]
          },
          "metadata": {},
          "execution_count": 131
        }
      ]
    },
    {
      "cell_type": "code",
      "source": [
        "# 합집합\n",
        "a = {1, 2, 3}\n",
        "b = {3, 4, 5}\n",
        "a | b\n",
        "a.union(b)"
      ],
      "metadata": {
        "colab": {
          "base_uri": "https://localhost:8080/"
        },
        "id": "VdBh39qlX5Sl",
        "outputId": "7fbb91ca-a566-4a71-9063-5e8f26d9d0d6"
      },
      "execution_count": null,
      "outputs": [
        {
          "output_type": "execute_result",
          "data": {
            "text/plain": [
              "{1, 2, 3, 4, 5}"
            ]
          },
          "metadata": {},
          "execution_count": 132
        }
      ]
    },
    {
      "cell_type": "markdown",
      "source": [
        "## !! CH4 연습문제"
      ],
      "metadata": {
        "id": "qmnTOPtte28Q"
      }
    },
    {
      "cell_type": "code",
      "source": [
        "student_score = {\n",
        "\t\t'홍의': 97,\n",
        "\t\t'원희': 60,\n",
        "\t\t'동해': 77,\n",
        "\t\t'변수': 79,\n",
        "\t\t'창현': 89,\n",
        "}\n",
        "\n",
        "total = sum(student_score.values())\n",
        "avg = f'{total/len(student_score.values()):.2f}'\n",
        "\n",
        "\n",
        "max_name = max(student_score, key=lambda x:student_score[x])\n",
        "max_score = max(student_score.values())\n",
        "\n",
        "min_name = min(student_score, key=lambda x:student_score[x])\n",
        "min_score = min(student_score.values())"
      ],
      "metadata": {
        "colab": {
          "base_uri": "https://localhost:8080/"
        },
        "id": "UkPBB3B_X8bF",
        "outputId": "a3cac353-43ad-41a3-ceb5-d2136042ec63"
      },
      "execution_count": null,
      "outputs": [
        {
          "output_type": "stream",
          "name": "stdout",
          "text": [
            "원희 60\n",
            "402 80.40\n"
          ]
        }
      ]
    },
    {
      "cell_type": "code",
      "source": [
        "like = ['볶음밥', '라면', '국수', '파스타', '치킨', '짜장면', '국밥']\n",
        "dislike = ['국밥', '짬뽕', '찜닭', '파스타', '국수', '카레', '덮밥']\n",
        "\n",
        "candi = set(like) - set(dislike)"
      ],
      "metadata": {
        "id": "pJvlJKnkbDrH"
      },
      "execution_count": null,
      "outputs": []
    },
    {
      "cell_type": "markdown",
      "source": [
        "## (QnA) max(student_score, key=student_score.get)"
      ],
      "metadata": {
        "id": "_K1d2oKAvpOt"
      }
    },
    {
      "cell_type": "code",
      "source": [
        "def 함수(x):\n",
        "    return ll[x]\n",
        "l = [2, 4, 5, 3, 6, 0, 7, 1]\n",
        "ll = [10, 20, 30, 40, 50, 60, 70, 80]\n",
        "\n",
        "max(l, key=함수)"
      ],
      "metadata": {
        "colab": {
          "base_uri": "https://localhost:8080/"
        },
        "id": "C_iP9IjWivMs",
        "outputId": "de1c583e-4b5b-4694-cc2b-d974b78ab38c"
      },
      "execution_count": null,
      "outputs": [
        {
          "output_type": "execute_result",
          "data": {
            "text/plain": [
              "7"
            ]
          },
          "metadata": {},
          "execution_count": 7
        }
      ]
    },
    {
      "cell_type": "code",
      "source": [
        "def 함수(x):\n",
        "    return d.get(x)\n",
        "\n",
        "d = {\n",
        "      'test1': 10,\n",
        "      'test2': 20,\n",
        "      'test3': 31,\n",
        "      'test4': 11,\n",
        "}\n",
        "\n",
        "# max(d, key=lambda x: d[x])\n",
        "max(d, key=d.get)"
      ],
      "metadata": {
        "id": "EfXkS9VVlw8o"
      },
      "execution_count": null,
      "outputs": []
    },
    {
      "cell_type": "code",
      "source": [
        "def 함수(x):\n",
        "    return len(x)\n",
        "l = ['a', 'bb', 'ccc', 'dd']\n",
        "\n",
        "max(l, key=함수)\n",
        "max(l, key=len)"
      ],
      "metadata": {
        "colab": {
          "base_uri": "https://localhost:8080/",
          "height": 35
        },
        "id": "ahHln9henTiA",
        "outputId": "3a40a42a-d3ca-4b75-dbc1-1d0dcf0a83b0"
      },
      "execution_count": null,
      "outputs": [
        {
          "output_type": "execute_result",
          "data": {
            "text/plain": [
              "'ccc'"
            ],
            "application/vnd.google.colaboratory.intrinsic+json": {
              "type": "string"
            }
          },
          "metadata": {},
          "execution_count": 8
        }
      ]
    },
    {
      "cell_type": "code",
      "source": [
        "def 함수(x):\n",
        "    return d.get(x)\n",
        "\n",
        "수학 = {\n",
        "    '학생1': 10,\n",
        "    '학생2': 20,\n",
        "    '학생3': 31,\n",
        "    '학생4': 11,\n",
        "}\n",
        "\n",
        "과학 = {\n",
        "    '학생1': 11,\n",
        "    '학생2': 17,\n",
        "    '학생3': 13,\n",
        "    '학생4': 11,\n",
        "    '학생5': 25,\n",
        "    '학생6': 100,\n",
        "}\n",
        "\n",
        "수학점수가가장큰사람 = max(수학, key=수학.get)\n",
        "과학점수가가장큰사람 = max(과학, key=과학.get)\n",
        "max(수학, key=과학.get)\n",
        "sorted(수학, key=과학.get, reverse=True)"
      ],
      "metadata": {
        "colab": {
          "base_uri": "https://localhost:8080/"
        },
        "id": "etdEd0LKnwRC",
        "outputId": "b2d1b1b8-61be-4e13-b6f2-19321be87630"
      },
      "execution_count": null,
      "outputs": [
        {
          "output_type": "execute_result",
          "data": {
            "text/plain": [
              "['학생2', '학생3', '학생1', '학생4']"
            ]
          },
          "metadata": {},
          "execution_count": 13
        }
      ]
    },
    {
      "cell_type": "markdown",
      "source": [
        "## (QnA) 함수의 arguement 순서"
      ],
      "metadata": {
        "id": "Fq7uNu0jp-6B"
      }
    },
    {
      "cell_type": "code",
      "source": [
        "def f(a, b, c):\n",
        "    print(a, b, c)\n",
        "\n",
        "# f() # error\n",
        "# f(100, 10) # error\n",
        "f(a=100, b=200, c=300)\n",
        "f(c=300, a=100, b=200) #실무에서 이렇게 순서를 바꿔서 넣지 않고 보통 순서를 지켜줍니다.\n",
        "\n",
        "# 실무에서 언제 사용이 될까요?\n",
        "# 파라미터, 아규먼츠가 매우 많을 때\n",
        "# 이런 함수가 나오면 이 함수가 무엇을 뜻하는 것일까요?\n",
        "# addNewControl(\"Title\", 20, 50, 100, 50, 200, 300, 150)\n",
        "# addNewControl(title=\"Title\", height=20, width=50, textlen = 100, ...)\n",
        "# 어? 컨트롤 박스를 만드는 구나..."
      ],
      "metadata": {
        "colab": {
          "base_uri": "https://localhost:8080/"
        },
        "id": "E5iNQ-Q1osp1",
        "outputId": "a2a4d1a1-8c15-4adb-a27f-878ad875d562"
      },
      "execution_count": null,
      "outputs": [
        {
          "output_type": "stream",
          "name": "stdout",
          "text": [
            "1 2 3\n",
            "1 2 3\n"
          ]
        }
      ]
    },
    {
      "cell_type": "code",
      "source": [
        "def f(a=10, b=20, c): # c만 default value를 안주게 되면 error, 순서대로 안주어야 합니다.\n",
        "    print(a, b, c)\n",
        "\n",
        "# f() # error\n",
        "# f(100, 10) # error\n",
        "# f(a=100, b=200, c=300) # error\n",
        "# f(c=300, a=100, b=200) # error"
      ],
      "metadata": {
        "id": "guPBY4i_rp-p"
      },
      "execution_count": null,
      "outputs": []
    },
    {
      "cell_type": "code",
      "source": [
        "def f(a, b=20, c=10): # 순서대로 안주어야 하기 때문에 a에 값을 넣지 않았습니다.\n",
        "    print(a, b, c)\n",
        "\n",
        "# f() # error\n",
        "f(100, 10)\n",
        "f(a=100, b=200, c=300)\n",
        "f(c=300, a=100, b=200)"
      ],
      "metadata": {
        "colab": {
          "base_uri": "https://localhost:8080/"
        },
        "id": "RK1yzMz3rJ5y",
        "outputId": "937ee761-e771-4cee-eba3-54081d101441"
      },
      "execution_count": null,
      "outputs": [
        {
          "output_type": "stream",
          "name": "stdout",
          "text": [
            "100 10 10\n",
            "100 200 300\n",
            "100 200 300\n"
          ]
        }
      ]
    },
    {
      "cell_type": "markdown",
      "source": [
        "## (QnA) zip, map이 한 번 순회 이후 멈추는 이유"
      ],
      "metadata": {
        "id": "dpZ54MG3vNHa"
      }
    },
    {
      "cell_type": "code",
      "source": [
        "a = [1, 2, 3]\n",
        "b = ['a', 'b', 'c']\n",
        "\n",
        "z = zip(a, b)\n",
        "print(list(z)) # [(1, 'a'), (2, 'b'), (3, 'c')]\n",
        "\n",
        "# zip 객체는 한 번 사용되었으므로 빈 리스트가 반환됩니다.\n",
        "print(list(z)) # []"
      ],
      "metadata": {
        "colab": {
          "base_uri": "https://localhost:8080/"
        },
        "id": "iavfhEezsHvL",
        "outputId": "aba68dac-1311-42fc-ec77-dba62f28a5dd"
      },
      "execution_count": null,
      "outputs": [
        {
          "output_type": "stream",
          "name": "stdout",
          "text": [
            "[(1, 'a'), (2, 'b'), (3, 'c')]\n",
            "[]\n"
          ]
        }
      ]
    },
    {
      "cell_type": "code",
      "source": [
        "li = [1, 2, 3]\n",
        "st = ['a', 'b', 'c']\n",
        "z = zip(li, st)\n",
        "\n",
        "for i in z:\n",
        "    print(i)\n",
        "\n",
        "for i in z:\n",
        "    print(i)"
      ],
      "metadata": {
        "colab": {
          "base_uri": "https://localhost:8080/"
        },
        "id": "uXjej8qaveQj",
        "outputId": "40f8fb8c-ffa3-43e8-a339-9eec1521efa0"
      },
      "execution_count": null,
      "outputs": [
        {
          "output_type": "stream",
          "name": "stdout",
          "text": [
            "(1, 'a')\n",
            "(2, 'b')\n",
            "(3, 'c')\n"
          ]
        }
      ]
    },
    {
      "cell_type": "code",
      "source": [
        "li = [1, 2, 3]\n",
        "st = ['a', 'b', 'c']\n",
        "i = iter(zip(li, st))\n",
        "next(i)\n",
        "next(i)\n",
        "next(i)\n",
        "#next(i) ERROR # StopIteration"
      ],
      "metadata": {
        "id": "YaZEDFDxv7Ma"
      },
      "execution_count": null,
      "outputs": []
    },
    {
      "cell_type": "markdown",
      "source": [
        "## 조건문"
      ],
      "metadata": {
        "id": "0_S2C9EGxbXu"
      }
    },
    {
      "cell_type": "markdown",
      "source": [
        "- if, elif, else, continue, break"
      ],
      "metadata": {
        "id": "l6DuarWuxgAU"
      }
    },
    {
      "cell_type": "code",
      "source": [
        "score = 81\n",
        "money = 0\n",
        "\n",
        "if score >= 90: # 만약에 조건이 참이라면\n",
        "    print('mom : i\\'m so happy!')\n",
        "    money += 1000000\n",
        "elif score >= 80: # 그렇지 않고 만약에 조건이 참이라면\n",
        "    print('mom : i\\'m happy!')\n",
        "    money += 100000\n",
        "elif score >= 70: # '그렇지 않고 만약에'에서 '그렇지 않고'가 만족이 안되기 때문에 실행하지 못합니다.\n",
        "    print('mom : i\\'m so...!')\n",
        "    money += 10000\n",
        "elif score >= 60:\n",
        "    print('mom : i\\'m so...!')\n",
        "    money += 1000\n",
        "else:\n",
        "    print('mom : i\\'m...!')\n",
        "print(money)\n",
        "# if, elif, else 구문은 함께 썼다면 한 덩어리가 되어\n",
        "# 하나만 실행이 되고 나머지는 실행이 되지 않습니다."
      ],
      "metadata": {
        "colab": {
          "base_uri": "https://localhost:8080/"
        },
        "id": "yQ0cWpO10Z1-",
        "outputId": "0c9eb42f-4c32-4305-c97b-c3d439f49b88"
      },
      "execution_count": null,
      "outputs": [
        {
          "output_type": "stream",
          "name": "stdout",
          "text": [
            "mom : i'm happy!\n",
            "100000\n"
          ]
        }
      ]
    },
    {
      "cell_type": "code",
      "source": [
        "x = 2\n",
        "if x > 1  and x < 10:\n",
        "    print('True')"
      ],
      "metadata": {
        "colab": {
          "base_uri": "https://localhost:8080/"
        },
        "id": "1w4X_g3u0U_i",
        "outputId": "50a77e39-32b7-4cd6-c880-b5686d747619"
      },
      "execution_count": null,
      "outputs": [
        {
          "output_type": "stream",
          "name": "stdout",
          "text": [
            "True\n"
          ]
        }
      ]
    },
    {
      "cell_type": "code",
      "source": [
        "def f():\n",
        "    return False # True와 False로 바꿔보세요.\n",
        "\n",
        "if f():\n",
        "    print('hello')\n",
        "    print('one')\n",
        "print('two')"
      ],
      "metadata": {
        "colab": {
          "base_uri": "https://localhost:8080/"
        },
        "id": "RPEW4NOEv9OT",
        "outputId": "09addd85-b7d6-4baa-9cd3-ff67e0c0f28c"
      },
      "execution_count": null,
      "outputs": [
        {
          "output_type": "stream",
          "name": "stdout",
          "text": [
            "two\n"
          ]
        }
      ]
    },
    {
      "cell_type": "code",
      "source": [
        "if '': # [], {}, '' 는 모두 False 취급 합니다.\n",
        "    print('hello')\n",
        "    print('one')\n",
        "print('two')"
      ],
      "metadata": {
        "colab": {
          "base_uri": "https://localhost:8080/"
        },
        "id": "TmRk3RGV0jba",
        "outputId": "19a06ae0-5039-4319-de1c-1728ee7584eb"
      },
      "execution_count": null,
      "outputs": [
        {
          "output_type": "stream",
          "name": "stdout",
          "text": [
            "two\n"
          ]
        }
      ]
    },
    {
      "cell_type": "code",
      "source": [
        "if ' ': # 공백이 있는 것입니다.\n",
        "    print('hello')\n",
        "    print('one')\n",
        "print('two')"
      ],
      "metadata": {
        "colab": {
          "base_uri": "https://localhost:8080/"
        },
        "id": "wqHOJLOe03Yg",
        "outputId": "3701cd0a-6faa-4a48-fbb9-7e886de7de1f"
      },
      "execution_count": null,
      "outputs": [
        {
          "output_type": "stream",
          "name": "stdout",
          "text": [
            "hello\n",
            "one\n",
            "two\n"
          ]
        }
      ]
    },
    {
      "cell_type": "code",
      "source": [
        "if [                    ]:\n",
        "    print('hello')\n",
        "    print('one')\n",
        "print('two')"
      ],
      "metadata": {
        "colab": {
          "base_uri": "https://localhost:8080/"
        },
        "id": "LSSu7MkP07JL",
        "outputId": "c5546b20-eff9-432e-9547-9aa9cb4878bf"
      },
      "execution_count": null,
      "outputs": [
        {
          "output_type": "stream",
          "name": "stdout",
          "text": [
            "two\n"
          ]
        }
      ]
    },
    {
      "cell_type": "markdown",
      "source": [
        "## if 심화"
      ],
      "metadata": {
        "id": "bQIBkzDF6Rsq"
      }
    },
    {
      "cell_type": "code",
      "source": [
        "if 1 > 5: print('hello')\n",
        "elif 1 > 5: print('world')\n",
        "else: print('hello world')"
      ],
      "metadata": {
        "colab": {
          "base_uri": "https://localhost:8080/"
        },
        "id": "J8jdsgNF0_3P",
        "outputId": "fac9f661-a475-4454-e9c9-b634656def18"
      },
      "execution_count": null,
      "outputs": [
        {
          "output_type": "stream",
          "name": "stdout",
          "text": [
            "hello world\n"
          ]
        }
      ]
    },
    {
      "cell_type": "code",
      "source": [
        "# 3항 연산자는 가독성을 해치지 않는선에서 많이 사용\n",
        "print('one') if 5 > 1 else print('two')"
      ],
      "metadata": {
        "colab": {
          "base_uri": "https://localhost:8080/"
        },
        "id": "tAAeT_pd9JgW",
        "outputId": "9671889c-a436-4683-e5d7-03a71e7ad6b7"
      },
      "execution_count": null,
      "outputs": [
        {
          "output_type": "stream",
          "name": "stdout",
          "text": [
            "one\n"
          ]
        }
      ]
    },
    {
      "cell_type": "code",
      "source": [
        "# 할당이나 return에서 많이 사용\n",
        "# 할당이나 return을 할 때 어떤 조건을 달고 싶을 때\n",
        "y = 100\n",
        "x = 'one' if y > 80 else None\n",
        "print(x)"
      ],
      "metadata": {
        "colab": {
          "base_uri": "https://localhost:8080/"
        },
        "id": "CzvkB9Yp9dHa",
        "outputId": "c0892695-fe6f-4982-d75d-ce17b0c2ae35"
      },
      "execution_count": null,
      "outputs": [
        {
          "output_type": "stream",
          "name": "stdout",
          "text": [
            "one\n"
          ]
        }
      ]
    },
    {
      "cell_type": "code",
      "source": [
        "def f(y):\n",
        "    if y > 80:\n",
        "        x = 'one'\n",
        "    else:\n",
        "        x = None\n",
        "    return x\n",
        "\n",
        "print(f(100))\n",
        "print(f(30))"
      ],
      "metadata": {
        "colab": {
          "base_uri": "https://localhost:8080/"
        },
        "id": "iXyGa4L-_lqb",
        "outputId": "24ac2df6-7b40-4711-d706-9ae10038876f"
      },
      "execution_count": null,
      "outputs": [
        {
          "output_type": "stream",
          "name": "stdout",
          "text": [
            "one\n",
            "None\n"
          ]
        }
      ]
    },
    {
      "cell_type": "code",
      "source": [
        "def f(y):\n",
        "    if y > 80:\n",
        "        return 'one'\n",
        "    return None\n",
        "\n",
        "print(f(100))\n",
        "print(f(30))"
      ],
      "metadata": {
        "colab": {
          "base_uri": "https://localhost:8080/"
        },
        "id": "M1BiC6H5_nl9",
        "outputId": "166bfea0-34b2-4038-81b3-5a153cb22d1c"
      },
      "execution_count": null,
      "outputs": [
        {
          "output_type": "stream",
          "name": "stdout",
          "text": [
            "one\n",
            "None\n"
          ]
        }
      ]
    },
    {
      "cell_type": "code",
      "source": [
        "def f(y):\n",
        "    return 'one' if y > 80 else None\n",
        "\n",
        "print(f(100))\n",
        "print(f(30))"
      ],
      "metadata": {
        "colab": {
          "base_uri": "https://localhost:8080/"
        },
        "id": "hb-46U-w_pex",
        "outputId": "b6e88886-cc0a-41ce-aa74-a5b29dcb7de9"
      },
      "execution_count": null,
      "outputs": [
        {
          "output_type": "stream",
          "name": "stdout",
          "text": [
            "one\n",
            "None\n"
          ]
        }
      ]
    },
    {
      "cell_type": "code",
      "source": [
        "l = [1,2,3]\n",
        "if list((filter(lambda x: type(x)==str, l))): print('hi')"
      ],
      "metadata": {
        "id": "OaeHKySl_siO"
      },
      "execution_count": null,
      "outputs": []
    },
    {
      "cell_type": "code",
      "source": [
        "def custom_sum(x):\n",
        "    return sum(x) if len(list(filter(lambda x:type(x)==int, x))) == len(x) else float('inf')\n",
        "\n",
        "custom_sum([1, 2, 3, 4, 5, 6]) # 21\n",
        "custom_sum([1, 2, 3, 4, '5', 6]) # float('inf')"
      ],
      "metadata": {
        "colab": {
          "base_uri": "https://localhost:8080/"
        },
        "id": "CJyd-kl6CRAc",
        "outputId": "0acafb4d-3ea8-4ef6-c190-2461b8e27936"
      },
      "execution_count": null,
      "outputs": [
        {
          "output_type": "execute_result",
          "data": {
            "text/plain": [
              "inf"
            ]
          },
          "metadata": {},
          "execution_count": 61
        }
      ]
    },
    {
      "cell_type": "code",
      "source": [
        "x = 9\n",
        "홀짝여부 = '짝수' if not (x%2) else '홀수'\n",
        "홀짝여부"
      ],
      "metadata": {
        "colab": {
          "base_uri": "https://localhost:8080/",
          "height": 35
        },
        "id": "CCSx63FaB65Y",
        "outputId": "9fce6fed-290e-4d79-8939-41558e6a67eb"
      },
      "execution_count": null,
      "outputs": [
        {
          "output_type": "execute_result",
          "data": {
            "text/plain": [
              "'홀수'"
            ],
            "application/vnd.google.colaboratory.intrinsic+json": {
              "type": "string"
            }
          },
          "metadata": {},
          "execution_count": 68
        }
      ]
    },
    {
      "cell_type": "code",
      "source": [
        "# 3항 연산자의 중첩\n",
        "# '조건1이 True일 때' if '조건1' else '조건1일 False이고 조건2가 True일 때' if '조건2' else '조건1, 조건2가 False일 때'"
      ],
      "metadata": {
        "id": "LW3GobR0CRc-"
      },
      "execution_count": null,
      "outputs": []
    },
    {
      "cell_type": "code",
      "source": [
        "x = 12\n",
        "if x%2==0:\n",
        "    a = '2k'\n",
        "elif x%3==0:\n",
        "    a = '3k'\n",
        "else:\n",
        "    a = 'nothing'\n",
        "print(a)\n",
        "\n",
        "a = '2k' if x%2==0 else '3k' if x%3==0 else 'nothing'\n",
        "print(a)"
      ],
      "metadata": {
        "id": "i6F78_htEoWv"
      },
      "execution_count": null,
      "outputs": []
    },
    {
      "cell_type": "markdown",
      "source": [
        "## For문"
      ],
      "metadata": {
        "id": "jgHV-159GM3o"
      }
    },
    {
      "cell_type": "code",
      "source": [
        "# for 변수 in 순회가능객체\n",
        "# 순회가능객체 != 시퀀스형자료형"
      ],
      "metadata": {
        "id": "ZYJMULgOFkOF"
      },
      "execution_count": null,
      "outputs": []
    },
    {
      "cell_type": "code",
      "source": [
        "# 순회가능객체 : range, enumerate, zip, map, sorted, reversed, ..."
      ],
      "metadata": {
        "id": "U0Uhvw05GplE"
      },
      "execution_count": null,
      "outputs": []
    },
    {
      "cell_type": "code",
      "source": [
        "언어순위 = ['Python', 'JavaScript', 'JAVA', 'Ruby']\n",
        "for i in 언어순위:\n",
        "    print(i)"
      ],
      "metadata": {
        "colab": {
          "base_uri": "https://localhost:8080/"
        },
        "id": "_sVxW5DkHqO8",
        "outputId": "fdcbcf9f-9917-4c45-f30b-a0fbd7799357"
      },
      "execution_count": null,
      "outputs": [
        {
          "output_type": "stream",
          "name": "stdout",
          "text": [
            "Python\n",
            "JavaScript\n",
            "JAVA\n",
            "Ruby\n"
          ]
        }
      ]
    },
    {
      "cell_type": "code",
      "source": [
        "언어순위 = ['Python', 'JavaScript', 'JAVA', 'Ruby']\n",
        "for i in enumerate(언어순위):\n",
        "    print(i)"
      ],
      "metadata": {
        "colab": {
          "base_uri": "https://localhost:8080/"
        },
        "id": "6IujBwIWH4KO",
        "outputId": "df1b8069-83f1-477b-a0cb-92983a4c405e"
      },
      "execution_count": null,
      "outputs": [
        {
          "output_type": "stream",
          "name": "stdout",
          "text": [
            "(0, 'Python')\n",
            "(1, 'JavaScript')\n",
            "(2, 'JAVA')\n",
            "(3, 'Ruby')\n"
          ]
        }
      ]
    },
    {
      "cell_type": "code",
      "source": [
        "언어순위 = ['Python', 'JavaScript', 'JAVA', 'Ruby']\n",
        "for i in enumerate(언어순위, 1):\n",
        "    print(i)"
      ],
      "metadata": {
        "colab": {
          "base_uri": "https://localhost:8080/"
        },
        "id": "oIjHkKeOH4vA",
        "outputId": "9d195cac-f437-4e80-90b1-2713a0274c5a"
      },
      "execution_count": null,
      "outputs": [
        {
          "output_type": "stream",
          "name": "stdout",
          "text": [
            "(1, 'Python')\n",
            "(2, 'JavaScript')\n",
            "(3, 'JAVA')\n",
            "(4, 'Ruby')\n"
          ]
        }
      ]
    },
    {
      "cell_type": "code",
      "source": [
        "언어순위 = ['Python', 'JavaScript', 'JAVA', 'Ruby']\n",
        "for i, j in enumerate(언어순위, 101):\n",
        "    print(i, j)"
      ],
      "metadata": {
        "colab": {
          "base_uri": "https://localhost:8080/"
        },
        "id": "JNtHaVTzH7-Y",
        "outputId": "5dc9545e-281f-45dd-acff-2dd3241c06c2"
      },
      "execution_count": null,
      "outputs": [
        {
          "output_type": "stream",
          "name": "stdout",
          "text": [
            "101 Python\n",
            "102 JavaScript\n",
            "103 JAVA\n",
            "104 Ruby\n"
          ]
        }
      ]
    },
    {
      "cell_type": "code",
      "source": [
        "listx= [100,200,300,400]\n",
        "strx= 'abcd'\n",
        "dictx = {'one':1, 'two':2}\n",
        "\n",
        "listxlter = iter(listx)\n",
        "strxlter= iter(strx)\n",
        "dictxlter= iter(dictx)\n",
        "\n",
        "# 시퀀스형 자료형에만 next가 되는 것이 아니고 \n",
        "# next 다음 순회 값을 지정할 뿐입니다.\n",
        "print(next(listxlter), next(listxlter), next(listxlter), next(listxlter))\n",
        "print(next(strxlter), next(strxlter), next(strxlter), next(strxlter))\n",
        "print(next(dictxlter), next(dictxlter))"
      ],
      "metadata": {
        "colab": {
          "base_uri": "https://localhost:8080/"
        },
        "id": "reEH81t9w4Gv",
        "outputId": "a608a858-e5ed-4c45-81e3-b4b0e9589067"
      },
      "execution_count": null,
      "outputs": [
        {
          "output_type": "stream",
          "name": "stdout",
          "text": [
            "100 200 300 400\n",
            "a b c d\n",
            "one two\n"
          ]
        }
      ]
    },
    {
      "cell_type": "code",
      "source": [
        "a = [1,2,3]\n",
        "b = 'abc'\n",
        "c = {'one':1, 'two':2, 'three':3}\n",
        "\n",
        "a_i = iter(a)\n",
        "print(next(a_i),next(a_i),next(a_i))\n",
        "b_i = iter(b)\n",
        "print(next(b_i),next(b_i),next(b_i))\n",
        "c_i = iter(c)\n",
        "print(next(c_i),next(c_i),next(c_i))"
      ],
      "metadata": {
        "colab": {
          "base_uri": "https://localhost:8080/"
        },
        "id": "mr2JQw_CV-oG",
        "outputId": "cd5af9d7-e318-43e3-a58d-432615383668"
      },
      "execution_count": null,
      "outputs": [
        {
          "output_type": "stream",
          "name": "stdout",
          "text": [
            "1 2 3\n",
            "a b c\n",
            "one two three\n"
          ]
        }
      ]
    },
    {
      "cell_type": "code",
      "source": [
        "# 실행과 동시에 정지를 눌러주세요.\n",
        "# 무한반복입니다.\n",
        "l = [1]\n",
        "for i in l:\n",
        "    l.append(i+1)\n",
        "    print(i)"
      ],
      "metadata": {
        "id": "mMv71F808huk"
      },
      "execution_count": null,
      "outputs": []
    },
    {
      "cell_type": "markdown",
      "source": [
        "## break과 continue"
      ],
      "metadata": {
        "id": "MBwZ4pSw3VQm"
      }
    },
    {
      "cell_type": "code",
      "source": [
        "# 모든 for가 중단이 되는 것은 아님\n",
        "# 자신을 감싸고 있는 단일 반복문만 탈출\n",
        "for i in range(10):\n",
        "    print('----------------')\n",
        "    print(i)\n",
        "    for j in range(10):\n",
        "        print(i, j)\n",
        "        if i == 5:\n",
        "            break"
      ],
      "metadata": {
        "id": "T1PxT79e2Qu1"
      },
      "execution_count": null,
      "outputs": []
    },
    {
      "cell_type": "markdown",
      "source": [
        "## for 문과 else 구문"
      ],
      "metadata": {
        "id": "rNnnwg6E6QMi"
      }
    },
    {
      "cell_type": "code",
      "source": [
        "# 다른 언어에서는 이 구문이 작동하지 않음\n",
        "# 반복문 + else구문은\n",
        "# 반복문이 break을 쓰지 않고 정상 종료되었을 때\n",
        "# else 구문이 실행됩니다.\n",
        "\n",
        "for i in range(10):\n",
        "    if i == 5:\n",
        "        pass\n",
        "    if i == 8:\n",
        "        print('break')\n",
        "        break\n",
        "else:\n",
        "    print('정상종료!')"
      ],
      "metadata": {
        "colab": {
          "base_uri": "https://localhost:8080/"
        },
        "id": "rgmW4i2u4QLs",
        "outputId": "87d0061b-ed0c-4878-811a-f1d9a856500f"
      },
      "execution_count": null,
      "outputs": [
        {
          "output_type": "stream",
          "name": "stdout",
          "text": [
            "break\n"
          ]
        }
      ]
    },
    {
      "cell_type": "markdown",
      "source": [
        "## 리스트 표현식 (list comprehension)"
      ],
      "metadata": {
        "id": "MaoS1fvW7ucC"
      }
    },
    {
      "cell_type": "code",
      "source": [
        "# for 문 보다 가독성 + 속도효율성 up\n",
        "l = []\n",
        "for i in range(10):\n",
        "    if i % 2 == 0:\n",
        "        l.append(i)\n",
        "print(l)\n",
        "\n",
        "[i for i in range(10) if i%2==0]"
      ],
      "metadata": {
        "colab": {
          "base_uri": "https://localhost:8080/"
        },
        "id": "kD6sVd5x7QUu",
        "outputId": "7440e57f-ec7f-47aa-a1be-914457f4fbe1"
      },
      "execution_count": null,
      "outputs": [
        {
          "output_type": "stream",
          "name": "stdout",
          "text": [
            "[0, 2, 4, 6, 8]\n"
          ]
        },
        {
          "output_type": "execute_result",
          "data": {
            "text/plain": [
              "[0, 2, 4, 6, 8]"
            ]
          },
          "metadata": {},
          "execution_count": 10
        }
      ]
    },
    {
      "cell_type": "code",
      "source": [
        "l = ['aa', 'abc', 'bbb', 'ccc', 'aba']\n",
        "[i for i in l if 'a' in i]"
      ],
      "metadata": {
        "colab": {
          "base_uri": "https://localhost:8080/"
        },
        "id": "J4RlBvst-UZi",
        "outputId": "03a0b415-a9d5-419f-953a-a48e2fe62faf"
      },
      "execution_count": null,
      "outputs": [
        {
          "output_type": "execute_result",
          "data": {
            "text/plain": [
              "['aa', 'abc', 'aba']"
            ]
          },
          "metadata": {},
          "execution_count": 14
        }
      ]
    },
    {
      "cell_type": "code",
      "source": [
        "[i for i in range(10) if i%2==0 or i%3==0]"
      ],
      "metadata": {
        "colab": {
          "base_uri": "https://localhost:8080/"
        },
        "id": "wYa7y9-O-3e4",
        "outputId": "6278eba6-4fb0-40e1-d666-8d3fc194a86c"
      },
      "execution_count": null,
      "outputs": [
        {
          "output_type": "execute_result",
          "data": {
            "text/plain": [
              "[0, 2, 3, 4, 6, 8, 9]"
            ]
          },
          "metadata": {},
          "execution_count": 16
        }
      ]
    },
    {
      "cell_type": "code",
      "source": [
        "# 구구단\n",
        "[f'{i} * {j} = {i*j:>3}' for i in range(2, 10) for j in range(1, 10)]"
      ],
      "metadata": {
        "id": "YoOOQCOnCUSC"
      },
      "execution_count": null,
      "outputs": []
    },
    {
      "cell_type": "code",
      "source": [
        "# 별찍기\n",
        "num = int(input())\n",
        "\n",
        "for elem in ['*'*i for i in range(1, num)]:\n",
        "    print(elem)\n",
        "\n",
        "for elem in ['*'*i for i in range(num-2, 0, -1)]:\n",
        "    print(elem)"
      ],
      "metadata": {
        "colab": {
          "base_uri": "https://localhost:8080/"
        },
        "id": "9BPnCFn7DDdY",
        "outputId": "2bb93a3a-07a9-4246-c7c9-754f94e58139"
      },
      "execution_count": null,
      "outputs": [
        {
          "output_type": "stream",
          "name": "stdout",
          "text": [
            "5\n",
            "*\n",
            "**\n",
            "***\n",
            "****\n",
            "***\n",
            "**\n",
            "*\n"
          ]
        }
      ]
    },
    {
      "cell_type": "markdown",
      "source": [
        "## 다중인자 리스트 순회"
      ],
      "metadata": {
        "id": "a9_leSk3Fe2z"
      }
    },
    {
      "cell_type": "code",
      "source": [
        "skill = [\n",
        "        ('고기잡이', 100),\n",
        "        ('고기팔기', 120),\n",
        "        ('낚시', 5),\n",
        "        ('통발', 5),\n",
        "        ('큰그물', 5)\n",
        "]\n",
        "\n",
        "for i,j in skill:\n",
        "    print(i,j)"
      ],
      "metadata": {
        "colab": {
          "base_uri": "https://localhost:8080/"
        },
        "id": "DlF-ipH0FclN",
        "outputId": "36a9aca6-7a71-40a1-d988-01a86cbdd541"
      },
      "execution_count": null,
      "outputs": [
        {
          "output_type": "stream",
          "name": "stdout",
          "text": [
            "고기잡이 100\n",
            "고기팔기 120\n",
            "낚시 5\n",
            "통발 5\n",
            "큰그물 5\n"
          ]
        }
      ]
    },
    {
      "cell_type": "code",
      "source": [
        "skill = [\n",
        "        ('고기잡이', [1, 100]),\n",
        "        ('고기팔기', [1, 100]),\n",
        "        ('낚시', [2, 100]),\n",
        "        ('통발', [2, 100]),\n",
        "        ('큰그물', [2, 100])\n",
        "]\n",
        "\n",
        "for i, [x, y] in skill:\n",
        "    print(i, x, y)"
      ],
      "metadata": {
        "colab": {
          "base_uri": "https://localhost:8080/"
        },
        "id": "40pxCMakHLwt",
        "outputId": "36456827-90db-4782-b778-e4a9e4a3602a"
      },
      "execution_count": null,
      "outputs": [
        {
          "output_type": "stream",
          "name": "stdout",
          "text": [
            "고기잡이 1 100\n",
            "고기팔기 1 100\n",
            "낚시 2 100\n",
            "통발 2 100\n",
            "큰그물 2 100\n"
          ]
        }
      ]
    },
    {
      "cell_type": "code",
      "source": [
        "# 문제\n",
        "# data는 다음과 같은 데이터가 있습니다.\n",
        "# 각각 skill 이름, skill 제한 레벨, skill 포인트, skill 등급입니다.\n",
        "# 아래와 같이 출력해주세요.\n",
        "data = [\n",
        "        ('고기잡이', (1, 100, 'S')),\n",
        "        ('고기팔기', (1, 100, 'A')),\n",
        "        ('낚시', (2, 100, 'A')),\n",
        "        ('통발', (2, 100, 'B')),\n",
        "        ('큰그물', (2, 100, 'S'))\n",
        "]\n",
        "\n",
        "# 출력값\n",
        "# 아래와 같은 형식으로 총 5개 출력해야 합니다.\n",
        "# '축하합니다. S등급에 skill 고기잡이를 습득하셨습니다! \n",
        "#  해당 스킬은 레벨 제한 1에 스필 포인트 100입니다.'"
      ],
      "metadata": {
        "id": "wmOHVGqqH_xq"
      },
      "execution_count": null,
      "outputs": []
    },
    {
      "cell_type": "code",
      "source": [
        "for name, (lv, pnt, cls) in data:\n",
        "    print(f'축하합니다. {cls}등급에 skill {name:>4} 을/를 습득하셨습니다!\\n해당 스킬은 레벨 제한 {lv}에 스킬 포인트 {pnt}입니다')"
      ],
      "metadata": {
        "colab": {
          "base_uri": "https://localhost:8080/"
        },
        "id": "BjA-uppkIuE2",
        "outputId": "5e6d565f-5231-464a-8750-594a6d7cbcb6"
      },
      "execution_count": null,
      "outputs": [
        {
          "output_type": "stream",
          "name": "stdout",
          "text": [
            "축하합니다. S등급에 skill 고기잡이 을/를 습득하셨습니다!\n",
            "해당 스킬은 레벨 제한 1에 스킬 포인트 100입니다\n",
            "축하합니다. A등급에 skill 고기팔기 을/를 습득하셨습니다!\n",
            "해당 스킬은 레벨 제한 1에 스킬 포인트 100입니다\n",
            "축하합니다. A등급에 skill   낚시 을/를 습득하셨습니다!\n",
            "해당 스킬은 레벨 제한 2에 스킬 포인트 100입니다\n",
            "축하합니다. B등급에 skill   통발 을/를 습득하셨습니다!\n",
            "해당 스킬은 레벨 제한 2에 스킬 포인트 100입니다\n",
            "축하합니다. S등급에 skill  큰그물 을/를 습득하셨습니다!\n",
            "해당 스킬은 레벨 제한 2에 스킬 포인트 100입니다\n"
          ]
        }
      ]
    },
    {
      "cell_type": "markdown",
      "source": [
        "## while문"
      ],
      "metadata": {
        "id": "rwAu42aYMNfo"
      }
    },
    {
      "cell_type": "code",
      "source": [
        "a = 1\n",
        "while a < 10 :\n",
        "    print(a)\n",
        "    a += 1 "
      ],
      "metadata": {
        "colab": {
          "base_uri": "https://localhost:8080/"
        },
        "id": "nqHBDuMVMG9r",
        "outputId": "e67b1cee-a17e-427e-de9b-ebf92caae337"
      },
      "execution_count": null,
      "outputs": [
        {
          "output_type": "stream",
          "name": "stdout",
          "text": [
            "1\n",
            "2\n",
            "3\n",
            "4\n",
            "5\n",
            "6\n",
            "7\n",
            "8\n",
            "9\n"
          ]
        }
      ]
    },
    {
      "cell_type": "code",
      "source": [
        "# while 특정요소:\n",
        "#     특정요소 값 꺼내는 문법\n",
        "#     특정요소가 모두 없어질 때까지\n",
        "\n",
        "l = [1, 2, 3]\n",
        "while l:\n",
        "    print(l.pop())"
      ],
      "metadata": {
        "colab": {
          "base_uri": "https://localhost:8080/"
        },
        "id": "yDCdfiNSMdEy",
        "outputId": "f6f7b166-561d-43da-dee5-e6b862aa5be6"
      },
      "execution_count": null,
      "outputs": [
        {
          "output_type": "stream",
          "name": "stdout",
          "text": [
            "3\n",
            "2\n",
            "1\n"
          ]
        }
      ]
    },
    {
      "cell_type": "code",
      "source": [
        "# 이러한 무한반복은 메모리를 모두 소진합니다.\n",
        "# 서버가 뻗을 수도 있습니다.\n",
        "while True:\n",
        "    user_input = input('$')\n",
        "    split_data = user_input.split(' ')\n",
        "    if split_data[0] == 'mkdir':\n",
        "        print(f'{split_data[1]} 폴더가 생성되었습니다!')\n",
        "    elif split_data[0] == 'rmdir':\n",
        "        print(f'{split_data[1]} 폴더가 삭제되었습니다!')\n",
        "    elif split_data[0] == 'exit':\n",
        "        print('프로그램을 종료합니다.')\n",
        "        break"
      ],
      "metadata": {
        "colab": {
          "base_uri": "https://localhost:8080/"
        },
        "id": "Bx0WjAtLPoYH",
        "outputId": "575f271d-e605-4ecf-d0b9-bfd8f724152b"
      },
      "execution_count": null,
      "outputs": [
        {
          "output_type": "stream",
          "name": "stdout",
          "text": [
            "$exit\n",
            "프로그램을 종료합니다.\n"
          ]
        }
      ]
    },
    {
      "cell_type": "code",
      "source": [
        "import random\n",
        "# up down game\n",
        "\n",
        "result = random.randint(1, 100)\n",
        "\n",
        "while True:\n",
        "    user_input = int(input())\n",
        "    if user_input > result:\n",
        "        print('down')\n",
        "    elif user_input < result:\n",
        "        print('up')\n",
        "    else:\n",
        "        print('맞췄습니다!')\n",
        "        print('프로그램을 종료합니다.')\n",
        "        break"
      ],
      "metadata": {
        "colab": {
          "base_uri": "https://localhost:8080/"
        },
        "id": "TQfPL_4PR1Ey",
        "outputId": "c4224b2a-91ce-4567-9404-9683ad218635"
      },
      "execution_count": null,
      "outputs": [
        {
          "output_type": "stream",
          "name": "stdout",
          "text": [
            "40\n",
            "down\n",
            "30\n",
            "down\n",
            "20\n",
            "down\n",
            "10\n",
            "up\n",
            "15\n",
            "up\n",
            "18\n",
            "맞췄습니다!\n",
            "프로그램을 종료합니다.\n"
          ]
        }
      ]
    },
    {
      "cell_type": "code",
      "source": [
        "count = 0\n",
        "while True:\n",
        "    print(count)\n",
        "    if count == 5:\n",
        "        break\n",
        "    count += 1\n",
        "print('end')"
      ],
      "metadata": {
        "colab": {
          "base_uri": "https://localhost:8080/"
        },
        "id": "PBjLnVfxU1QM",
        "outputId": "1287295d-2520-4f7c-f07a-4472f3aa2e7c"
      },
      "execution_count": null,
      "outputs": [
        {
          "output_type": "stream",
          "name": "stdout",
          "text": [
            "0\n",
            "1\n",
            "2\n",
            "3\n",
            "4\n",
            "5\n",
            "end\n"
          ]
        }
      ]
    },
    {
      "cell_type": "code",
      "source": [
        "# 다른 언어에서는 이 구문이 작동되지 않습니다.\n",
        "i = 0\n",
        "while i < 10:\n",
        "    if i == 5:\n",
        "        break\n",
        "    i += 1\n",
        "else:\n",
        "    print('정상종료!')"
      ],
      "metadata": {
        "id": "gvNJTbZeU1za"
      },
      "execution_count": null,
      "outputs": []
    },
    {
      "cell_type": "code",
      "source": [
        "i = 0\n",
        "while i < 10:\n",
        "    i += 1\n",
        "else:\n",
        "    print('정상종료!')"
      ],
      "metadata": {
        "colab": {
          "base_uri": "https://localhost:8080/"
        },
        "id": "Ds1HHjsjVqlL",
        "outputId": "5c518458-42c3-4647-b5b3-3736d0a6016c"
      },
      "execution_count": null,
      "outputs": [
        {
          "output_type": "stream",
          "name": "stdout",
          "text": [
            "정상종료!\n"
          ]
        }
      ]
    },
    {
      "cell_type": "code",
      "source": [
        "# https://school.programmers.co.kr/learn/courses/30/lessons/120871\n",
        "# while문을 이용한 풀이\n",
        "\n",
        "def solution(n):\n",
        "    count10 = 0\n",
        "    count3 = 0\n",
        "    while count10 < n:\n",
        "        count10 += 1\n",
        "        count3 += 1\n",
        "        while count3 % 3 == 0 or '3' in str(count3):\n",
        "            count3 += 1\n",
        "    return count3"
      ],
      "metadata": {
        "id": "V0axRCcluScC"
      },
      "execution_count": null,
      "outputs": []
    },
    {
      "cell_type": "code",
      "source": [
        "def solution(n):\n",
        "    return [i for i in range(1, 1001) if i % 3 != 0 and not('3' in str(i))][n-1]"
      ],
      "metadata": {
        "colab": {
          "base_uri": "https://localhost:8080/"
        },
        "id": "PO2PrsndueKQ",
        "outputId": "0aa5e8e9-7db7-4c4c-b499-116fcbf72e3c"
      },
      "execution_count": null,
      "outputs": [
        {
          "output_type": "execute_result",
          "data": {
            "text/plain": [
              "76"
            ]
          },
          "metadata": {},
          "execution_count": 96
        }
      ]
    },
    {
      "cell_type": "markdown",
      "source": [
        "## !!CH5 연습문제 (json gen)"
      ],
      "metadata": {
        "id": "OSIfLCnkXiKE"
      }
    },
    {
      "cell_type": "code",
      "source": [
        "data = [\n",
        "{\n",
        "\"_id\": \"6019fd4354979ca26b8f91dc\",\n",
        "\"age\": 26,\n",
        "\"eyeColor\": \"green\",\n",
        "\"name\": \"Bender Allen\",\n",
        "\"gender\": \"male\"\n",
        "},\n",
        "{\n",
        "\"_id\": \"6019fd43db2951868889a0b4\",\n",
        "\"age\": 27,\n",
        "\"eyeColor\": \"blue\",\n",
        "\"name\": \"Jacobs Golden\",\n",
        "\"gender\": \"male\"\n",
        "},\n",
        "{\n",
        "\"_id\": \"6019fd438c0bf8e775c28536\",\n",
        "\"age\": 27,\n",
        "\"eyeColor\": \"brown\",\n",
        "\"name\": \"Grimes Oneal\",\n",
        "\"gender\": \"male\"\n",
        "},\n",
        "{\n",
        "\"_id\": \"6019fd43b68a7fd8b081ab26\",\n",
        "\"age\": 40,\n",
        "\"eyeColor\": \"blue\",\n",
        "\"name\": \"Melissa Joyce\",\n",
        "\"gender\": \"female\"\n",
        "},\n",
        "{\n",
        "\"_id\": \"6019fd436c1edc4757aabb9d\",\n",
        "\"age\": 32,\n",
        "\"eyeColor\": \"blue\",\n",
        "\"name\": \"Malone Bush\",\n",
        "\"gender\": \"male\"\n",
        "},\n",
        "{\n",
        "\"_id\": \"6019fd438eaf753918f55226\",\n",
        "\"age\": 34,\n",
        "\"eyeColor\": \"green\",\n",
        "\"name\": \"Davenport Hyde\",\n",
        "\"gender\": \"male\"\n",
        "},\n",
        "{\n",
        "\"_id\": \"6019fd43c35929ff95004109\",\n",
        "\"age\": 20,\n",
        "\"eyeColor\": \"blue\",\n",
        "\"name\": \"Shauna Blevins\",\n",
        "\"gender\": \"female\"\n",
        "}\n",
        "]"
      ],
      "metadata": {
        "id": "PfUXNzbNFqix"
      },
      "execution_count": null,
      "outputs": []
    },
    {
      "cell_type": "code",
      "source": [
        "# sol1\n",
        "a1 = sum([elem['age'] for elem in data]) / len(data)\n",
        "\n",
        "# sol2\n",
        "a2 = sum(map(lambda x:x['age'], data))/len(data)\n",
        "\n",
        "# sol3\n",
        "s = 0\n",
        "for elem in data:\n",
        "    s += elem['age']\n",
        "a3 = f'{s/len(data):.2f}'\n",
        "\n",
        "print(a1, a2, a3)"
      ],
      "metadata": {
        "colab": {
          "base_uri": "https://localhost:8080/"
        },
        "id": "uORtFzW7F6uP",
        "outputId": "b5f893d1-1a52-41f0-9d5e-b70253bd0e07"
      },
      "execution_count": null,
      "outputs": [
        {
          "output_type": "stream",
          "name": "stdout",
          "text": [
            "29.428571428571427 29.428571428571427 29.43\n"
          ]
        }
      ]
    },
    {
      "cell_type": "code",
      "source": [
        "gender = [elem['gender'] for elem in data]          # sol1\n",
        "gender = list(map(lambda x:x['gender'], data))      # sol2\n",
        "\n",
        "male = gender.count('male')\n",
        "female = gender.count('female')\n",
        "print(f'{male/len(gender)*100:.2f} : {female/len(gender)*100:.2f}')\n",
        "\n",
        "list(filter(lambda x: x == 'male', gender))"
      ],
      "metadata": {
        "colab": {
          "base_uri": "https://localhost:8080/"
        },
        "id": "A_m4EpcrGjX_",
        "outputId": "fe3111f8-87f5-4657-e5b1-6ae203049f4d"
      },
      "execution_count": null,
      "outputs": [
        {
          "output_type": "stream",
          "name": "stdout",
          "text": [
            "71.43 : 28.57\n"
          ]
        },
        {
          "output_type": "execute_result",
          "data": {
            "text/plain": [
              "['male', 'male', 'male', 'male', 'male']"
            ]
          },
          "metadata": {},
          "execution_count": 125
        }
      ]
    },
    {
      "cell_type": "code",
      "source": [
        "import matplotlib.pyplot as plt\n",
        "\n",
        "labels = ['Male', 'Female']\n",
        "sizes = [male, female]\n",
        "\n",
        "plt.pie(sizes, labels=labels, autopct='%.2f%%', explode=[0.02, 0.02])\n",
        "plt.show()"
      ],
      "metadata": {
        "colab": {
          "base_uri": "https://localhost:8080/",
          "height": 406
        },
        "id": "ckmGoCSQHsFr",
        "outputId": "fe0c28ad-1898-424d-c82d-07d6ccfda96c"
      },
      "execution_count": null,
      "outputs": [
        {
          "output_type": "display_data",
          "data": {
            "text/plain": [
              "<Figure size 640x480 with 1 Axes>"
            ],
            "image/png": "[encoded data removed]"
          },
          "metadata": {}
        }
      ]
    },
    {
      "cell_type": "markdown",
      "source": [
        "## !!CH6 연습문제"
      ],
      "metadata": {
        "id": "4Hi9Jm2BX8ZT"
      }
    },
    {
      "cell_type": "code",
      "source": [
        "class Person:\n",
        "\tdef work(self):\n",
        "\t\t\tprint('열심히 일하자')\n",
        "\n",
        "class Cook(Person):\n",
        "\tdef __init__(self, menu):\n",
        "\t\t\tself.menu = menu\n",
        "\t\t\tprint('주방장이 될꺼야!')\n",
        "\n",
        "\tdef work(self):\n",
        "\t\t\tprint(f'{self.menu}를 만들자')\n",
        "\n",
        "class Developer(Person):\n",
        "\tdef __init__(self, language):\n",
        "\t\t\tself.language = language\n",
        "\t\t\tprint('CTO가 될꺼야!')\n",
        "\n",
        "\tdef work(self):\n",
        "\t\t\tprint(f'{self.language} 코드를 짜보자')"
      ],
      "metadata": {
        "id": "dM-lnVFoYCga"
      },
      "execution_count": null,
      "outputs": []
    },
    {
      "cell_type": "code",
      "source": [
        "person = Person()\n",
        "cook = Cook('pizza')\n",
        "developer = Developer('python')\n",
        "\n",
        "person.work()\n",
        "cook.work()\n",
        "developer.work()"
      ],
      "metadata": {
        "colab": {
          "base_uri": "https://localhost:8080/"
        },
        "id": "4LoTGDQ3ZLrj",
        "outputId": "fbba7085-1023-4f31-9b0a-8a0641de1be7"
      },
      "execution_count": null,
      "outputs": [
        {
          "output_type": "stream",
          "name": "stdout",
          "text": [
            "주방장이 될꺼야!\n",
            "CTO가 될꺼야!\n",
            "열심히 일하자\n",
            "pizza를 만들자\n",
            "python 코드를 짜보자\n"
          ]
        }
      ]
    },
    {
      "cell_type": "markdown",
      "source": [
        "## Built-in Function"
      ],
      "metadata": {
        "id": "2YzACeoJ7Srv"
      }
    },
    {
      "cell_type": "markdown",
      "source": [
        "**수학적 통계**\n",
        "\n",
        "- abs, pow, max, min, sum, len, sorted, reversed\n",
        "- all : 내부가 모두 True일 때 True 반환\n",
        "- any : 내부에 하나라도 True일 때 True 반환"
      ],
      "metadata": {
        "id": "PqKQ9EeK8pUh"
      }
    },
    {
      "cell_type": "markdown",
      "source": [
        "**형변환 함수**\n",
        "\n",
        "- set, dict, bool, str, float, tuple, list, range\n",
        "- bin : 2진법\n",
        "- oct : 8진법\n",
        "- hex : 16진법\n",
        "- ord : 문자 -> ascii\n",
        "- chr : ascii -> 문자"
      ],
      "metadata": {
        "id": "m8Wn--4O9E8_"
      }
    },
    {
      "cell_type": "markdown",
      "source": [
        "**도움말, object 함수**\n",
        "- dir, id, type"
      ],
      "metadata": {
        "id": "bAkbGBiU-fQE"
      }
    },
    {
      "cell_type": "markdown",
      "source": [
        "**순회 가능 객체**\n",
        "- enumerate, filter, zip, map"
      ],
      "metadata": {
        "id": "pzwsmV1G-l0q"
      }
    },
    {
      "cell_type": "code",
      "source": [
        "list(filter(None, [1, 1, 0, 0])) # 값이 들어 있는 것만 찾을 경우"
      ],
      "metadata": {
        "colab": {
          "base_uri": "https://localhost:8080/"
        },
        "id": "mHiHwpQK9kbh",
        "outputId": "d6d322d9-55cf-445d-d0f3-34bfb1fd4bd7"
      },
      "execution_count": null,
      "outputs": [
        {
          "output_type": "execute_result",
          "data": {
            "text/plain": [
              "[1, 1]"
            ]
          },
          "metadata": {},
          "execution_count": 147
        }
      ]
    },
    {
      "cell_type": "markdown",
      "source": [
        "## args, kargs\n",
        "- 가변 arguement        \n",
        "- 가변 keyword arguement"
      ],
      "metadata": {
        "id": "yQufJPhdIWRr"
      }
    },
    {
      "cell_type": "code",
      "source": [
        "def print_args(*args):\n",
        "    print(args)\n",
        "    for x in args:\n",
        "        print(x)\n",
        "\n",
        "print_args(100, True, 'leehojun')"
      ],
      "metadata": {
        "colab": {
          "base_uri": "https://localhost:8080/"
        },
        "id": "5uVvFXC28DN6",
        "outputId": "26d26baa-654f-4119-ed74-a0a0905ce2ac"
      },
      "execution_count": null,
      "outputs": [
        {
          "output_type": "stream",
          "name": "stdout",
          "text": [
            "(100, True, 'leehojun')\n",
            "100\n",
            "True\n",
            "leehojun\n"
          ]
        }
      ]
    },
    {
      "cell_type": "code",
      "source": [
        "def print_args(a, **args):\n",
        "    print(args)\n",
        "    for x in args:\n",
        "        print(x)\n",
        "\n",
        "print_args(100, b = True, name = 'leehojun')"
      ],
      "metadata": {
        "colab": {
          "base_uri": "https://localhost:8080/"
        },
        "id": "cwSGwIyKIzYo",
        "outputId": "09068299-460d-4928-e43e-8dd2a0291a2a"
      },
      "execution_count": null,
      "outputs": [
        {
          "output_type": "stream",
          "name": "stdout",
          "text": [
            "{'b': True, 'name': 'leehojun'}\n",
            "b\n",
            "name\n"
          ]
        }
      ]
    },
    {
      "cell_type": "markdown",
      "source": [
        "## lambda\n",
        "- 익명 함수, 이름이 없는 함수\n",
        "- 부여할 수는 있음"
      ],
      "metadata": {
        "id": "jpWMqOM3KXQO"
      }
    },
    {
      "cell_type": "code",
      "source": [
        "# 실전 문제 of lambda\n",
        "\n",
        "n = [1,2,3,4,5]\n",
        "e = [2,2,2,3,3]\n",
        "\n",
        "# Q1.\n",
        "zip(n, e)\n",
        "\n",
        "# Q2.\n",
        "list(map(lambda x:x[0]**x[1], zip(n,e)))\n",
        "\n",
        "# Q3.\n",
        "list(filter(lambda x:x >= 100, [x**y for x, y in zip(n,e)]))\n",
        "\n",
        "# Q4.\n",
        "sum([x**y for x, y in zip(n,e)])\n"
      ],
      "metadata": {
        "colab": {
          "base_uri": "https://localhost:8080/"
        },
        "id": "vWvn_v83KYtd",
        "outputId": "d125dfe0-eccc-4e57-80fe-40407682fbe7"
      },
      "execution_count": null,
      "outputs": [
        {
          "output_type": "execute_result",
          "data": {
            "text/plain": [
              "203"
            ]
          },
          "metadata": {},
          "execution_count": 174
        }
      ]
    },
    {
      "cell_type": "markdown",
      "source": [
        "## Class (클래스)\n",
        "- data(member)와 function(methond)를 가지는 instance object를 생성하기 위한 역할\n",
        "\n",
        "```\n",
        "    현실           코드\n",
        "    차  ------> class Car()\n",
        "    정수 -----> class int()\n",
        "    실수 -----> class float()\n",
        "```"
      ],
      "metadata": {
        "id": "SCuzb5kNBIE3"
      }
    },
    {
      "cell_type": "code",
      "source": [
        "class Car(object): # 첫 문자는 대문자\n",
        "    max_speed = 300\n",
        "    max_people = 5\n",
        "    def __init__(self, name): # instance 생성 시 실행되는 method\n",
        "        self.name = name\n",
        "    def move(self): # self는 인스턴스를 가리킴\n",
        "        print(f'The {self.name} is moving')\n",
        "    def stop(self):\n",
        "        print(f'The {self.name} stops')\n",
        "\n",
        "k5 = Car('케이파이브') # 붕어빵(인스턴스, k5) <-> 붕어빵틀(클래스, Car())\n",
        "k3 = Car('케이쓰리')\n",
        "\n",
        "k5.move()\n",
        "k5.stop()\n",
        "k5.max_speed\n",
        "k3.name"
      ],
      "metadata": {
        "colab": {
          "base_uri": "https://localhost:8080/",
          "height": 69
        },
        "id": "Zd-SMFfL9PVt",
        "outputId": "df3b3bf0-51df-4632-e263-aec8fe13b1e4"
      },
      "execution_count": null,
      "outputs": [
        {
          "output_type": "stream",
          "name": "stdout",
          "text": [
            "The 케이파이브 is moving\n",
            "The 케이파이브 stops\n"
          ]
        },
        {
          "output_type": "execute_result",
          "data": {
            "text/plain": [
              "'케이쓰리'"
            ],
            "application/vnd.google.colaboratory.intrinsic+json": {
              "type": "string"
            }
          },
          "metadata": {},
          "execution_count": 7
        }
      ]
    },
    {
      "cell_type": "code",
      "source": [
        "print(type(k5))\n",
        "print(dir(k5))"
      ],
      "metadata": {
        "colab": {
          "base_uri": "https://localhost:8080/"
        },
        "id": "9QkG5F1OHOFG",
        "outputId": "f95cae8b-af8c-470a-b875-24d723221709"
      },
      "execution_count": null,
      "outputs": [
        {
          "output_type": "stream",
          "name": "stdout",
          "text": [
            "<class '__main__.Car'>\n",
            "['__class__', '__delattr__', '__dict__', '__dir__', '__doc__', '__eq__', '__format__', '__ge__', '__getattribute__', '__gt__', '__hash__', '__init__', '__init_subclass__', '__le__', '__lt__', '__module__', '__ne__', '__new__', '__reduce__', '__reduce_ex__', '__repr__', '__setattr__', '__sizeof__', '__str__', '__subclasshook__', '__weakref__', 'max_people', 'max_speed', 'move', 'name', 'stop']\n"
          ]
        }
      ]
    },
    {
      "cell_type": "code",
      "source": [
        "class Car(object):\n",
        "    kinds = []\n",
        "    speed = 300\n",
        "    def add_kinds(self, name):\n",
        "        self.kinds.append(name)\n",
        "    def change_speed(self, speed):\n",
        "        self.speed = speed\n",
        "\n",
        "k5 = Car()\n",
        "k3 = Car()\n",
        "k5.add_kinds('k5')\n",
        "k3.add_kinds('k3')\n",
        "k5.change_speed(500)\n",
        "k3.change_speed(250)\n",
        "\n",
        "print('k5.kinds:', k5.kinds)\n",
        "print('k3.kinds:', k3.kinds)\n",
        "print('k5.speed:', k5.speed)\n",
        "print('k3.speed:', k3.speed)"
      ],
      "metadata": {
        "colab": {
          "base_uri": "https://localhost:8080/"
        },
        "id": "ZHWKVi9xVHhm",
        "outputId": "9095d7d7-d481-4f20-bc3a-4843aa76bb04"
      },
      "execution_count": null,
      "outputs": [
        {
          "output_type": "stream",
          "name": "stdout",
          "text": [
            "k5.kinds: ['k5', 'k3']\n",
            "k3.kinds: ['k5', 'k3']\n",
            "k5.speed: 500\n",
            "k3.speed: 250\n"
          ]
        }
      ]
    },
    {
      "cell_type": "code",
      "source": [
        "me = ['naaameeee', 10000]\n",
        "\n",
        "class MobFactory():\n",
        "    def __init__(self, name, power, hp, mp, size_a, size_h, item_p, pos_x, pos_y):\n",
        "        self.name = name\n",
        "        self.power = power\n",
        "        self.hp = hp\n",
        "        self.mp = mp\n",
        "        self.size_a = size_a\n",
        "        self.size_h = size_h\n",
        "        self.item_p = item_p\n",
        "    \n",
        "    def attack(self):\n",
        "        me[1] -= self.power\n",
        "        print(f'{self.name}이 {self.power}의 데미지로 공격했습니다.')\n",
        "        print(f'주인공의 체력이 {me[1]}가 되었습니다')\n",
        "\n",
        "\n",
        "slime = MobFactory('slime', 1, 10, 10, 2, 2, 100, 1, 1)\n",
        "orc = MobFactory('orc', 10, 10, 10, 2, 2, 80, 1, 1)\n",
        "goblin = MobFactory('goblin', 100, 10, 10, 2, 2, 60, 1, 1)\n",
        "dragon = MobFactory('dragon', 1000, 10, 10, 2, 2, 40, 1, 1)\n",
        "skull = MobFactory('skull', 10000, 10, 10, 2, 2, 1, 1, 1)\n",
        "\n",
        "slime.attack()\n",
        "dragon.attack()"
      ],
      "metadata": {
        "colab": {
          "base_uri": "https://localhost:8080/"
        },
        "id": "AILgk09BVIJs",
        "outputId": "c92195db-b4fa-4f04-cfe7-29132e24848d"
      },
      "execution_count": null,
      "outputs": [
        {
          "output_type": "stream",
          "name": "stdout",
          "text": [
            "slime이 1의 데미지로 공격했습니다.\n",
            "주인공의 체력이 9999가 되었습니다\n",
            "dragon이 1000의 데미지로 공격했습니다.\n",
            "주인공의 체력이 8999가 되었습니다\n"
          ]
        }
      ]
    },
    {
      "cell_type": "code",
      "source": [
        "class Character():\n",
        "    def __init__(self, name, hp, mp, size_a, size_h, pos_x, pos_y, imoji):\n",
        "        self.name = name\n",
        "        self.hp = hp\n",
        "        self.mp = mp\n",
        "        self.size_a = size_a\n",
        "        self.size_h = size_h\n",
        "        self.pos_x = pos_x\n",
        "        self.pos_y = pos_y\n",
        "        self.imoji = imoji\n",
        "    \n",
        "    def show_imoji(self):\n",
        "        print(f'{self.name:<10}: I\\'m {self.imoji} now')\n",
        "    \n",
        "    def chat(self, msg):\n",
        "        print(f'{self.name:<10}: {msg}')\n",
        "\n",
        "licat = Character('licat', 1, 1, 10, 10, 100, 100, 'happy')\n",
        "mura = Character('mura', 10, 10, 1, 1, 1, 1, 'sad')\n",
        "\n",
        "licat.show_imoji()\n",
        "mura.show_imoji()\n",
        "licat.chat('hi mura?')\n",
        "mura.chat('why did you attack me??')"
      ],
      "metadata": {
        "colab": {
          "base_uri": "https://localhost:8080/"
        },
        "id": "jNy9ZeCuekNk",
        "outputId": "9733b9f6-bcba-4232-e274-cfb952dfe566"
      },
      "execution_count": null,
      "outputs": [
        {
          "output_type": "stream",
          "name": "stdout",
          "text": [
            "licat     : I'm happy now\n",
            "mura      : I'm sad now\n",
            "licat     : hi mura?\n",
            "mura      : why did you attack me??\n"
          ]
        }
      ]
    },
    {
      "cell_type": "code",
      "source": [
        "주인공 = ['licat', 10000]\n",
        "\n",
        "class MobFactory(object):\n",
        "    def __init__(self, 이름, 공격력, 체력, 마력, 크기_넓이, 크기_높이, 아이템확률, x, y):\n",
        "        self.name = 이름\n",
        "        self.power = 공격력\n",
        "        self.hp = 체력\n",
        "        self.mp = 마력\n",
        "        self.width = 크기_넓이\n",
        "        self.height = 크기_높이\n",
        "        self.dropRate = 아이템확률\n",
        "\n",
        "    def __add__(self, next):\n",
        "        if self.name == '슬라임':\n",
        "            return MobFactory(f'왕{self.name + next.name}', \n",
        "                              self.power + next.power, \n",
        "                              10, 10, 2, 2, 100, 1, 1)\n",
        "        return None\n",
        "\n",
        "    def attack(self):\n",
        "        주인공[1] -= self.power\n",
        "        print(f'{self.name}이 {self.power}데미지로 공격했습니다.')\n",
        "        print(f'주인공의 체력이 {주인공[1]}가 되었습니다.')\n",
        "    \n",
        "\n",
        "슬라임 = MobFactory('슬라임', 1, 10, 10, 2, 2, 100, 1, 1)\n",
        "해골 = MobFactory('해골', 1, 10, 10, 2, 2, 100, 1, 1)\n",
        "왕슬라임 = 슬라임 + 슬라임\n",
        "왕슬해 = 슬라임+해골\n",
        "왕슬해.name"
      ],
      "metadata": {
        "colab": {
          "base_uri": "https://localhost:8080/",
          "height": 35
        },
        "id": "3at3Kaw-jwM7",
        "outputId": "c73524b5-1d52-4f60-af39-5555bf6355f4"
      },
      "execution_count": null,
      "outputs": [
        {
          "output_type": "execute_result",
          "data": {
            "text/plain": [
              "'왕슬라임해골'"
            ],
            "application/vnd.google.colaboratory.intrinsic+json": {
              "type": "string"
            }
          },
          "metadata": {},
          "execution_count": 46
        }
      ]
    },
    {
      "cell_type": "code",
      "source": [
        "class BlogFactory(object):\n",
        "    def __init__(self, 제목, 내용, 조회수, 글쓴이, 생성날짜):\n",
        "        self.title = 제목\n",
        "        self.content = 내용\n",
        "        self.count = 조회수\n",
        "        self.writer = 글쓴이\n",
        "        self.create_date = 생성날짜\n",
        "\n",
        "게시글1 = BlogFactory(\n",
        "    '오늘 제주의 날씨',\n",
        "    '오늘 제주의 날씨는 참 좋네요! 블라블라',\n",
        "    '0',\n",
        "    '이호준',\n",
        "    '2023/05/10',\n",
        "    )\n",
        "    \n",
        "게시글2 = BlogFactory(\n",
        "    '오늘 부산의 날씨',\n",
        "    '오늘 부산의 날씨는 참 좋네요! 블라블라',\n",
        "    '0',\n",
        "    'aaa',\n",
        "    '2023/05/10',\n",
        "    )\n",
        "\n",
        "게시글3 = BlogFactory(\n",
        "    '오늘 강원도의 날씨',\n",
        "    '오늘 강원도의 날씨는 참 좋네요! 블라블라',\n",
        "    '0',\n",
        "    'bbb',\n",
        "    '2023/05/10',\n",
        "    )\n",
        "\n",
        "\n",
        "data = [게시글1, 게시글2, 게시글3]\n",
        "for i in data:\n",
        "    if i.writer == 'aaa':\n",
        "        print(i.title)"
      ],
      "metadata": {
        "colab": {
          "base_uri": "https://localhost:8080/"
        },
        "id": "B_6tc_jc2mJq",
        "outputId": "422d1324-7856-4144-cae1-7370bf2f7f8c"
      },
      "execution_count": null,
      "outputs": [
        {
          "output_type": "stream",
          "name": "stdout",
          "text": [
            "오늘 부산의 날씨\n"
          ]
        }
      ]
    },
    {
      "cell_type": "code",
      "source": [
        "# 쉽고 중요한 예제!\n",
        "# 이 코드는 가능하면 손으로 2 ~ 3번 써보시길 권해드립니다.\n",
        "\n",
        "class BlogFactory(object):\n",
        "    def __init__(self, 제목, 내용, 조회수, 글쓴이, 생성날짜):\n",
        "        self.title = 제목\n",
        "        self.content = 내용\n",
        "        self.count = 조회수\n",
        "        self.writer = 글쓴이\n",
        "        self.create_date = 생성날짜\n",
        "\n",
        "게시글1 = BlogFactory(\n",
        "        '오늘 제주의 날씨',\n",
        "        '오늘 제주의 날씨는 참 좋네요! 블라블라',\n",
        "        '0',\n",
        "        '이호준',\n",
        "        '2023/05/10',\n",
        "    )\n",
        "\n",
        "게시글2 = BlogFactory(\n",
        "        '오늘 부산의 날씨',\n",
        "        '오늘 부산의 날씨는 참 좋네요! 블라블라',\n",
        "        '1000000',\n",
        "        '김재현',\n",
        "        '2023/05/10',\n",
        "    )\n",
        "\n",
        "게시글3 = BlogFactory(\n",
        "        '오늘 강원의 날씨',\n",
        "        '오늘 강원의 날씨는 참 좋네요! 블라블라',\n",
        "        '10000',\n",
        "        '범남궁',\n",
        "        '2023/05/10',\n",
        "    )\n",
        "\n",
        "data = [게시글1, 게시글2, 게시글3]\n",
        "for i in data:\n",
        "    if i.writer == '이호준':\n",
        "        print(i.title)\n",
        "        print(i.content)\n",
        "        print(i.count)\n",
        "        print(i.create_date)\n",
        "\n",
        "data = [게시글1, 게시글2, 게시글3]\n",
        "for i in data:\n",
        "    print(f'<h2>{i.title}</h2>')\n",
        "    print(f'<p>{i.content}</p>')\n",
        "    print(f'<p>{i.writer}</p>')\n",
        "    print(f'<p>{i.count}</p>')\n",
        "    print(f'<p>{i.create_date}</p>')"
      ],
      "metadata": {
        "colab": {
          "base_uri": "https://localhost:8080/"
        },
        "id": "7lmtiUcL440S",
        "outputId": "114852df-5d3c-42e3-93ff-eb9ab680c448"
      },
      "execution_count": null,
      "outputs": [
        {
          "output_type": "stream",
          "name": "stdout",
          "text": [
            "오늘 제주의 날씨\n",
            "오늘 제주의 날씨는 참 좋네요! 블라블라\n",
            "0\n",
            "2023/05/10\n",
            "<h2>오늘 제주의 날씨</h2>\n",
            "<p>오늘 제주의 날씨는 참 좋네요! 블라블라</p>\n",
            "<p>이호준</p>\n",
            "<p>0</p>\n",
            "<p>2023/05/10</p>\n",
            "<h2>오늘 부산의 날씨</h2>\n",
            "<p>오늘 부산의 날씨는 참 좋네요! 블라블라</p>\n",
            "<p>김재현</p>\n",
            "<p>1000000</p>\n",
            "<p>2023/05/10</p>\n",
            "<h2>오늘 강원의 날씨</h2>\n",
            "<p>오늘 강원의 날씨는 참 좋네요! 블라블라</p>\n",
            "<p>범남궁</p>\n",
            "<p>10000</p>\n",
            "<p>2023/05/10</p>\n"
          ]
        }
      ]
    },
    {
      "cell_type": "code",
      "source": [
        "class BlogFactory(object):\n",
        "    dataset = []\n",
        "    def __init__(self, 제목, 내용, 조회수, 글쓴이, 생성날짜):\n",
        "        self.title = 제목\n",
        "        self.content = 내용\n",
        "        self.count = 조회수\n",
        "        self.writer = 글쓴이\n",
        "        self.create_date = 생성날짜\n",
        "        self.dataset.append(self)\n",
        "\n",
        "게시글1 = BlogFactory(\n",
        "        '오늘 제주의 날씨',\n",
        "        '오늘 제주의 날씨는 참 좋네요! 블라블라',\n",
        "        '0',\n",
        "        '이호준',\n",
        "        '2023/05/10',\n",
        "    )\n",
        "\n",
        "게시글2 = BlogFactory(\n",
        "        '오늘 부산의 날씨',\n",
        "        '오늘 부산의 날씨는 참 좋네요! 블라블라',\n",
        "        '1000000',\n",
        "        '김재현',\n",
        "        '2023/05/10',\n",
        "    )\n",
        "\n",
        "게시글3 = BlogFactory(\n",
        "        '오늘 강원의 날씨',\n",
        "        '오늘 강원의 날씨는 참 좋네요! 블라블라',\n",
        "        '10000',\n",
        "        '범남궁',\n",
        "        '2023/05/10',\n",
        "    )\n",
        "\n",
        "for i in 게시글1.dataset:\n",
        "    print(i.title)"
      ],
      "metadata": {
        "colab": {
          "base_uri": "https://localhost:8080/"
        },
        "id": "GNjsEUpa5GHE",
        "outputId": "e784e170-d29d-4aa4-e292-0376b1d7f048"
      },
      "execution_count": null,
      "outputs": [
        {
          "output_type": "stream",
          "name": "stdout",
          "text": [
            "오늘 제주의 날씨\n",
            "오늘 부산의 날씨\n",
            "오늘 강원의 날씨\n"
          ]
        }
      ]
    },
    {
      "cell_type": "code",
      "source": [
        "class BlogFactory(object):\n",
        "    dataset = []\n",
        "\n",
        "    def __init__(self, 제목, 내용, 조회수, 글쓴이, 생성날짜):\n",
        "        self.title = 제목\n",
        "        self.content = 내용\n",
        "        self.count = 조회수\n",
        "        self.writer = 글쓴이\n",
        "        self.create_date = 생성날짜\n",
        "        self.dataset.append(self)\n",
        "\n",
        "    def __str__(self):\n",
        "        return f'title : {self.title}, content : {self.content[:5]} ... , writer : {self.writer}'\n",
        "\n",
        "게시글1 = BlogFactory(\n",
        "        '오늘 제주의 날씨',\n",
        "        '오늘 제주의 날씨는 참 좋네요! 블라블라',\n",
        "        '0',\n",
        "        '이호준',\n",
        "        '2023/05/10',\n",
        "    )\n",
        "\n",
        "게시글2 = BlogFactory(\n",
        "        '오늘 부산의 날씨',\n",
        "        '오늘 부산의 날씨는 참 좋네요! 블라블라',\n",
        "        '1000000',\n",
        "        '김재현',\n",
        "        '2023/05/10',\n",
        "    )\n",
        "\n",
        "print(게시글1)\n",
        "print(게시글2)"
      ],
      "metadata": {
        "colab": {
          "base_uri": "https://localhost:8080/"
        },
        "id": "lZfiJWSh9iln",
        "outputId": "b7862e73-ac6a-4d78-9aa6-64310c1bc029"
      },
      "execution_count": null,
      "outputs": [
        {
          "output_type": "stream",
          "name": "stdout",
          "text": [
            "title : 오늘 제주의 날씨, content : 오늘 제주 ... , writer : 이호준\n",
            "title : 오늘 부산의 날씨, content : 오늘 부산 ... , writer : 김재현\n"
          ]
        }
      ]
    },
    {
      "cell_type": "code",
      "source": [
        "# 중요한 예제입니다.\n",
        "class BlogFactory(object):\n",
        "    dataset = []\n",
        "\n",
        "    def __init__(self, 제목, 내용, 조회수, 글쓴이, 생성날짜):\n",
        "        self.title = 제목\n",
        "        self.content = 내용\n",
        "        self.count = 조회수\n",
        "        self.writer = 글쓴이\n",
        "        self.create_date = 생성날짜\n",
        "        self.dataset.append(self)\n",
        "\n",
        "    def __str__(self):\n",
        "        return f'{len(self.dataset)}. 제목 : {self.title}, 내용 : {self.content[:5]}, 글쓴이 : {self.writer}'\n",
        "\n",
        "게시글1 = BlogFactory(\n",
        "        '오늘 제주의 날씨',\n",
        "        '오늘 제주의 날씨는 참 좋네요! 블라블라',\n",
        "        '0',\n",
        "        '이호준',\n",
        "        '2023/05/10',\n",
        "    )\n",
        "print(게시글1)\n",
        "\n",
        "게시글2 = BlogFactory(\n",
        "        '오늘 부산의 날씨',\n",
        "        '오늘 부산의 날씨는 참 좋네요! 블라블라',\n",
        "        '1000000',\n",
        "        '김재현',\n",
        "        '2023/05/10',\n",
        "    )\n",
        "print(게시글2)"
      ],
      "metadata": {
        "colab": {
          "base_uri": "https://localhost:8080/"
        },
        "id": "ceG8-zT0C34x",
        "outputId": "da442ad2-c152-4bbd-fcc5-6be6d8c78b85"
      },
      "execution_count": null,
      "outputs": [
        {
          "output_type": "stream",
          "name": "stdout",
          "text": [
            "1. 제목 : 오늘 제주의 날씨, 내용 : 오늘 제주, 글쓴이 : 이호준\n",
            "2. 제목 : 오늘 부산의 날씨, 내용 : 오늘 부산, 글쓴이 : 김재현\n"
          ]
        }
      ]
    },
    {
      "cell_type": "code",
      "source": [
        "import matplotlib.pyplot as plt\n",
        "\n",
        "class UserInfo(object):  # user of soccer community\n",
        "    def __init__(self, name, lv, num_write, num_reported, num_like):\n",
        "        self.name = name\n",
        "        self.lv = lv\n",
        "        self.num_write = num_write\n",
        "        self.num_reported = num_reported\n",
        "        self.num_like = num_like\n",
        "    \n",
        "    def report(self, name):\n",
        "        print(f' ({self.name:^10})\\'s REPORT to {name} is received. ')\n",
        "        name.num_report += 1\n",
        "    \n",
        "    def like(self, name):\n",
        "        print(f' ({self.name:^10})\\'s LIKE to {name} is received. ')\n",
        "        name.num_like += 1\n",
        "    \n",
        "    def show_like_report(self):\n",
        "        total = self.num_reported + self.num_like\n",
        "        ratio = [self.num_reported/total, self.num_like/total]\n",
        "        label = ['REPORT', 'LIKE']\n",
        "        plt.pie(ratio, labels=label, autopct='%.2f%%')\n",
        "        plt.show()\n",
        "        print(f'{self.name}\\n\\n')\n",
        "\n",
        "    def __str__(self):\n",
        "        return f'User {self.name}(Lv.{self.lv}) has {self.num_like} LIKEs and {self.num_reported} REPORT'\n",
        "\n",
        "cheolsu = UserInfo('cheolsu', 12, 2, 123, 144)\n",
        "yeonghee = UserInfo('yeonghee', 147, 1882, 110, 11772)\n",
        "\n",
        "\n",
        "\n",
        "print(yeonghee)\n",
        "print(cheolsu)\n",
        "\n",
        "cheolsu.show_like_report()\n",
        "yeonghee.show_like_report()"
      ],
      "metadata": {
        "id": "j65ahVAKDEi1"
      },
      "execution_count": null,
      "outputs": []
    },
    {
      "cell_type": "code",
      "source": [],
      "metadata": {
        "id": "8f-cdCAxJVrN"
      },
      "execution_count": null,
      "outputs": []
    },
    {
      "cell_type": "code",
      "source": [
        "class Bookinfo(object):\n",
        "    def __init__(self, name, reviews, ISBN, price, dc):\n",
        "        self.name = name\n",
        "        self.reviews = reviews\n",
        "        self.ISBN = ISBN\n",
        "        self.price = price\n",
        "        self.dc = dc\n",
        "    \n",
        "    def ch_price(self, percentage):\n",
        "        self.dc = percentage\n",
        "        print(f'{self.name}의 가격이 {self.price}원에서 {int(self.price*self.dc)}원으로 조정됩니다')\n",
        "        self.price = int(self.price*self.dc)\n",
        "    \n",
        "    def __str__(self):\n",
        "        return f'name : {self.name:<10}  price : {self.price:<10}'\n",
        "\n",
        "book1 = Bookinfo('book1', 12, 'aa', 13000, 1)\n",
        "book2 = Bookinfo('book2', 424, 'bb', 15000, 0.8)\n",
        "\n",
        "book1.ch_price(0.9)\n",
        "book2.ch_price(1.5)\n",
        "\n",
        "print(book1)\n",
        "print(book2)\n"
      ],
      "metadata": {
        "colab": {
          "base_uri": "https://localhost:8080/"
        },
        "id": "coewPc-RDerT",
        "outputId": "e9a96424-2019-4772-be2d-babc1ce0f298"
      },
      "execution_count": null,
      "outputs": [
        {
          "output_type": "stream",
          "name": "stdout",
          "text": [
            "book1의 가격이 13000원에서 11700원으로 조정됩니다\n",
            "book2의 가격이 15000원에서 22500원으로 조정됩니다\n",
            "name : book1       price : 11700     \n",
            "name : book2       price : 22500     \n"
          ]
        }
      ]
    },
    {
      "cell_type": "code",
      "source": [
        "import hashlib\n",
        "\n",
        "pw = hashlib.sha256()\n",
        "pw.update('helloworld!'.encode('utf-8'))\n",
        "pw.hexdigest()"
      ],
      "metadata": {
        "colab": {
          "base_uri": "https://localhost:8080/",
          "height": 35
        },
        "id": "kH8EcJpXP83D",
        "outputId": "fad5007d-8755-472d-bf38-d021ed16f083"
      },
      "execution_count": null,
      "outputs": [
        {
          "output_type": "execute_result",
          "data": {
            "text/plain": [
              "'5c6e9ce66cd85898720fcc906a5ccd2e8447deea99e81ac3c46a6563b29200bf'"
            ],
            "application/vnd.google.colaboratory.intrinsic+json": {
              "type": "string"
            }
          },
          "metadata": {},
          "execution_count": 111
        }
      ]
    },
    {
      "cell_type": "code",
      "source": [
        "# 1번째 스탭\n",
        "# 공개되는 정보, 공개되지 않는 정보\n",
        "# 멤버(정적 수치, 문자열)와 메서드(기능)\n",
        "class Product(object):\n",
        "    def __init__(self, 품명, 가격):\n",
        "        self.product_name = 품명\n",
        "        self.price = 가격\n",
        "        \n",
        "자전거 = Product(\n",
        "    '자전거',\n",
        "    100000,\n",
        ")\n",
        "\n",
        "class UserInfo(object):\n",
        "    def __init__(self, \n",
        "                 이름, \n",
        "                 이메일,\n",
        "                 비밀번호, \n",
        "                 주요접속기기, \n",
        "                 주요접속국가, \n",
        "                 주요접속지역, \n",
        "                 마지막접속일자, \n",
        "                 회원가입날짜, \n",
        "                 별명, \n",
        "                 적립금, \n",
        "                 생일, \n",
        "                 휴대폰번호, \n",
        "                 휴대폰인증여부, \n",
        "                 고객등급, \n",
        "                 휴면계정여부):\n",
        "        self.이름 = 이름\n",
        "        self.고객등급 = 고객등급\n",
        "        self.적립금 = 적립금\n",
        "    \n",
        "    def 물품구매(self, product):\n",
        "        self.적립금 -= product.price\n",
        "\n",
        "    def 회원탈퇴(self):\n",
        "        pass\n",
        "\n",
        "    def 장바구니등록(self):\n",
        "        pass\n",
        "\n",
        "이호준 = UserInfo(\n",
        "    이름 = '이호준',\n",
        "    이메일 = 'hojun@gmail.com',\n",
        "    비밀번호 = '98d234db7e91f5ba026a25d0d6f17bc5ee0a347ea2216b0c9de06d43536d49f4',\n",
        "    주요접속기기 = 'Android',\n",
        "    주요접속국가 = 'Korea',\n",
        "    주요접속지역 = 'Jeju',\n",
        "    마지막접속일자 = '23/05/10',\n",
        "    회원가입날짜 = '23/05/10',\n",
        "    별명 = '준',\n",
        "    적립금 = 1000000000,\n",
        "    생일 = '13/13',\n",
        "    휴대폰번호 = '010-0000-0000',\n",
        "    휴대폰인증여부 = True,\n",
        "    고객등급 = 'VIP',\n",
        "    휴면계정여부 = False,\n",
        ")\n",
        "\n",
        "이호준.물품구매(자전거)\n",
        "이호준.적립금"
      ],
      "metadata": {
        "colab": {
          "base_uri": "https://localhost:8080/"
        },
        "id": "v8AoTD3IU5TQ",
        "outputId": "2e404643-fdaa-452c-ac5f-82031b7d12c4"
      },
      "execution_count": null,
      "outputs": [
        {
          "output_type": "execute_result",
          "data": {
            "text/plain": [
              "999900000"
            ]
          },
          "metadata": {},
          "execution_count": 112
        }
      ]
    },
    {
      "cell_type": "code",
      "source": [
        "class Car(object):\n",
        "    MaxSpeed = 300\n",
        "    MaxPeoeple = 5\n",
        "    def __init__(self):\n",
        "        pass\n",
        "    def move(self, x):\n",
        "        pass\n",
        "    def stop(self):\n",
        "        print('멈췄습니다.')\n",
        "    @staticmethod #decorator\n",
        "    def 스피드배속(현재스피드, 배속할스피드):\n",
        "        print(f'현재 {현재스피드 * 배속할스피드}의 스피드로 달리고 있습니다.')\n",
        "\n",
        "Car.스피드배속(100, 2)"
      ],
      "metadata": {
        "colab": {
          "base_uri": "https://localhost:8080/"
        },
        "id": "cBBnd4XgVAan",
        "outputId": "86946419-7000-4f6b-c961-3a9ef1f933f5"
      },
      "execution_count": null,
      "outputs": [
        {
          "output_type": "stream",
          "name": "stdout",
          "text": [
            "현재 200의 스피드로 달리고 있습니다.\n"
          ]
        }
      ]
    },
    {
      "cell_type": "markdown",
      "source": [
        "### 상속"
      ],
      "metadata": {
        "id": "szD9Mh2oYreD"
      }
    },
    {
      "cell_type": "code",
      "source": [
        "class Car(object):\n",
        "    maxSpeed = 300\n",
        "    maxPeople = 5\n",
        "    def move(self, x):\n",
        "        print(x, '의 스피드로 달리고 있습니다.')\n",
        "    def stop(self):\n",
        "        print('멈췄습니다.')\n",
        "\n",
        "class HybridCar(Car):\n",
        "    battery = 1000\n",
        "    batteryKM = 300\n",
        "\n",
        "class ElectricCar(HybridCar):\n",
        "    battery = 2000\n",
        "    batteryKM = 600\n",
        "\n",
        "\n",
        "hybe = HybridCar()\n",
        "hybe.move(10)\n",
        "hybe.stop()\n",
        "hybe.battery\n"
      ],
      "metadata": {
        "colab": {
          "base_uri": "https://localhost:8080/"
        },
        "id": "SE0Hz82cYtuR",
        "outputId": "155b8997-aa66-4357-8e6a-748b55695bf3"
      },
      "execution_count": null,
      "outputs": [
        {
          "output_type": "stream",
          "name": "stdout",
          "text": [
            "10 의 스피드로 달리고 있습니다.\n",
            "멈췄습니다.\n"
          ]
        },
        {
          "output_type": "execute_result",
          "data": {
            "text/plain": [
              "1000"
            ]
          },
          "metadata": {},
          "execution_count": 120
        }
      ]
    },
    {
      "cell_type": "markdown",
      "source": [
        "### Linked List 구현 in Python"
      ],
      "metadata": {
        "id": "9cr1Xh3MN20H"
      }
    },
    {
      "cell_type": "code",
      "source": [
        "class Node:\n",
        "    def __init__(self, data):\n",
        "        self.data = data\n",
        "        self.next = None\n",
        "\n",
        "node1 = Node(10)\n",
        "node2 = Node(20)\n",
        "node3 = Node(30)\n",
        "\n",
        "node1.next = node2\n",
        "node2.next = node3\n",
        "node3.next = node1\n",
        "\n",
        "cnt = 0\n",
        "tmp = node1\n",
        "while cnt<20:\n",
        "    cnt += 1\n",
        "    print(tmp.data)\n",
        "    tmp = tmp.next"
      ],
      "metadata": {
        "id": "CuGGNMnTIzdq"
      },
      "execution_count": null,
      "outputs": []
    },
    {
      "cell_type": "code",
      "source": [
        "class Node2:\n",
        "    def __init__(self, name, d1, d2):\n",
        "        self.name = name\n",
        "        self.data1 = d1\n",
        "        self.data2 = d2\n",
        "        self.next = None\n",
        "\n",
        "n1 = Node2('n1', 11, 'aa')\n",
        "n2 = Node2('n2', 22, 'bb')\n",
        "n3 = Node2('n3', 33, 'cc')\n",
        "\n",
        "n1.next = n2\n",
        "n2.next = n3\n",
        "\n",
        "tmp = n1\n",
        "while tmp!=None:\n",
        "    print(tmp.name, tmp.data1, tmp.data2)\n",
        "    tmp = tmp.next"
      ],
      "metadata": {
        "colab": {
          "base_uri": "https://localhost:8080/"
        },
        "id": "6UHscrk_O3OQ",
        "outputId": "61ad873c-ada3-4abf-eacd-837813b9ebc8"
      },
      "execution_count": null,
      "outputs": [
        {
          "output_type": "stream",
          "name": "stdout",
          "text": [
            "n1 11 aa\n",
            "n2 22 bb\n",
            "n3 33 cc\n"
          ]
        }
      ]
    },
    {
      "cell_type": "markdown",
      "source": [
        "### Method Overriding"
      ],
      "metadata": {
        "id": "Qs-xxCI0Q1Ep"
      }
    },
    {
      "cell_type": "code",
      "source": [
        "class Car(object):\n",
        "    maxSpeed = 300\n",
        "    maxPeople = 5\n",
        "    def move(self, x):\n",
        "        print(x, '의 스피드로 달리고 있습니다.')\n",
        "    def stop(self):\n",
        "        print('멈췄습니다.')\n",
        "\n",
        "class HybridCar(Car):\n",
        "    battery = 1000\n",
        "    batteryKM = 300\n",
        "\n",
        "class ElectricCar(HybridCar):\n",
        "    battery = 2000\n",
        "    batteryKM = 600\n",
        "\n",
        "    def move(self, x):\n",
        "        print(self.batteryKM, '만큼 달릴 수 있습니다.')\n",
        "        print(x, '스피드로 달리고 있습니다.')\n",
        "\n",
        "\n",
        "# 고유 영역에서 선언된 attribute가 우선\n",
        "\n",
        "k5 = HybridCar()\n",
        "electricCarK5 = ElectricCar()\n",
        "k5.maxspeed\n",
        "electricCarK5.maxspeed\n",
        "electricCarK5.battery\n",
        "electricCarK5.move(10)"
      ],
      "metadata": {
        "id": "WRzVNWQ0QsR4"
      },
      "execution_count": null,
      "outputs": []
    },
    {
      "cell_type": "markdown",
      "source": [
        "### 다중상속"
      ],
      "metadata": {
        "id": "gWu9pq56RyMO"
      }
    },
    {
      "cell_type": "code",
      "source": [
        "class A(object):\n",
        "    maxSpeed = 300\n",
        "\n",
        "class B(A):\n",
        "    battery = 1000\n",
        "\n",
        "class C(A):\n",
        "    battery = 2000\n",
        "\n",
        "class D(B, C):\n",
        "    pass\n",
        "\n",
        "class E(C, B):\n",
        "    pass\n",
        "    \n",
        "D.mro()\n",
        "print(D.battery, E.battery)\n",
        "# D.battery"
      ],
      "metadata": {
        "colab": {
          "base_uri": "https://localhost:8080/"
        },
        "id": "BgmJe8OBR-1Y",
        "outputId": "7bd52839-776f-4d1a-fe98-f77e2cd5c019"
      },
      "execution_count": null,
      "outputs": [
        {
          "output_type": "stream",
          "name": "stdout",
          "text": [
            "1000 2000\n"
          ]
        }
      ]
    },
    {
      "cell_type": "code",
      "source": [
        "# '__'는 문법적으로 접근이 안됨\n",
        "# method를 통한 접근은 ㄱㄴ\n",
        "class Car(object):\n",
        "    __maxSpeed = 300\n",
        "    maxPeople = 5\n",
        "    def move(self, x):\n",
        "        print(x, '의 스피드로 움직이고 있습니다.')\n",
        "        print(self.__maxSpeed, '가 최고 속도입니다.')\n",
        "    def stop(self):\n",
        "        print('멈췄습니다.')\n",
        "\n",
        "k5 = Car()\n",
        "k5.move(10)\n",
        "# k5.__maxSpeed #error\n",
        "k5.maxPeople"
      ],
      "metadata": {
        "colab": {
          "base_uri": "https://localhost:8080/"
        },
        "id": "yiO_gtkzXBwG",
        "outputId": "e4c63ce4-49aa-4b0f-826c-0c4085de7b7d"
      },
      "execution_count": null,
      "outputs": [
        {
          "output_type": "stream",
          "name": "stdout",
          "text": [
            "10 의 스피드로 움직이고 있습니다.\n",
            "300 가 최고 속도입니다.\n"
          ]
        },
        {
          "output_type": "execute_result",
          "data": {
            "text/plain": [
              "5"
            ]
          },
          "metadata": {},
          "execution_count": 14
        }
      ]
    },
    {
      "cell_type": "markdown",
      "source": [
        "## Iterator"
      ],
      "metadata": {
        "id": "reN_fMaxYlvn"
      }
    },
    {
      "cell_type": "code",
      "source": [
        "class MyIter:\n",
        "    def __init__(self, stop):\n",
        "        self.currentValue = 0\n",
        "        self.stop = stop\n",
        "\n",
        "    def __iter__(self):\n",
        "        return self\n",
        "\n",
        "    def __next__(self):\n",
        "        if self.currentValue >= self.stop:\n",
        "            raise StopIteration\n",
        "        self.currentValue += 1\n",
        "        return self.currentValue\n",
        "\n",
        "li = MyIter(5)\n",
        "\n",
        "next(li)\n",
        "\n",
        "for i in li:\n",
        "    print(i)"
      ],
      "metadata": {
        "colab": {
          "base_uri": "https://localhost:8080/"
        },
        "id": "E-Q_SA6QYdGQ",
        "outputId": "152d7eb3-25af-4f87-b628-0d0ac4106357"
      },
      "execution_count": null,
      "outputs": [
        {
          "output_type": "stream",
          "name": "stdout",
          "text": [
            "2\n",
            "3\n",
            "4\n",
            "5\n"
          ]
        }
      ]
    },
    {
      "cell_type": "code",
      "source": [
        "class MyIter:\n",
        "    def __init__(self, stop):\n",
        "        self.currentValue = 0\n",
        "        self.stop = stop\n",
        "\n",
        "    def __iter__(self):\n",
        "        return self\n",
        "\n",
        "    def __next__(self):\n",
        "        if self.currentValue >= self.stop:\n",
        "            raise StopIteration\n",
        "        result = self.currentValue\n",
        "        self.currentValue += 1\n",
        "        return result\n",
        "\n",
        "li = MyIter(5)\n",
        "\n",
        "for i in li:\n",
        "    print(i)"
      ],
      "metadata": {
        "colab": {
          "base_uri": "https://localhost:8080/"
        },
        "id": "3nzthSgWaEOP",
        "outputId": "3c10985a-449b-434c-b1e7-9cdd7f1424b0"
      },
      "execution_count": null,
      "outputs": [
        {
          "output_type": "stream",
          "name": "stdout",
          "text": [
            "0\n",
            "1\n",
            "2\n",
            "3\n",
            "4\n"
          ]
        }
      ]
    },
    {
      "cell_type": "code",
      "source": [
        "class MyIter:\n",
        "    def __init__(self, stop):\n",
        "        self.stop = stop\n",
        "\n",
        "    def __iter__(self):\n",
        "        self.currentValue = 0\n",
        "        return self\n",
        "\n",
        "    def __next__(self):\n",
        "        if self.currentValue >= self.stop:\n",
        "            raise StopIteration\n",
        "        result = self.currentValue\n",
        "        self.currentValue += 1\n",
        "        return result\n",
        "\n",
        "li = MyIter(5)\n",
        "# for 는 iter 실행 후 next로 stopiteration까지 실행\n",
        "for i in li:\n",
        "    print(i)\n",
        "\n",
        "for i in li:\n",
        "    print(i)"
      ],
      "metadata": {
        "colab": {
          "base_uri": "https://localhost:8080/"
        },
        "id": "dHmYwxhSa80R",
        "outputId": "24aebb46-60eb-46d5-e22c-d9ac42bb95be"
      },
      "execution_count": null,
      "outputs": [
        {
          "output_type": "stream",
          "name": "stdout",
          "text": [
            "0\n",
            "1\n",
            "2\n",
            "3\n",
            "4\n",
            "0\n",
            "1\n",
            "2\n",
            "3\n",
            "4\n"
          ]
        }
      ]
    },
    {
      "cell_type": "code",
      "source": [
        "class MyIter:\n",
        "    def __init__(self, stop):\n",
        "        self.stop = stop\n",
        "\n",
        "    def __iter__(self):\n",
        "        self.currentValue = 0\n",
        "        return self\n",
        "\n",
        "    def __next__(self):\n",
        "        if self.currentValue >= self.stop:\n",
        "            raise StopIteration\n",
        "        result = self.currentValue\n",
        "        self.currentValue += 1\n",
        "        return result\n",
        "\n",
        "li = MyIter(5)\n",
        "\n",
        "i = iter(li)\n",
        "next(i)\n",
        "# next(i)\n",
        "# next(i)\n",
        "# next(i)\n",
        "# next(i)"
      ],
      "metadata": {
        "colab": {
          "base_uri": "https://localhost:8080/"
        },
        "id": "_xIOVCLBbpMA",
        "outputId": "0a8253c1-5ce1-44fb-f194-1ce71c903e48"
      },
      "execution_count": null,
      "outputs": [
        {
          "output_type": "execute_result",
          "data": {
            "text/plain": [
              "0"
            ]
          },
          "metadata": {},
          "execution_count": 25
        }
      ]
    },
    {
      "cell_type": "code",
      "source": [
        "# iterator의 unpacking\n",
        "a,b,c,d = MyIter(4)\n",
        "print(a,b,c,d)"
      ],
      "metadata": {
        "colab": {
          "base_uri": "https://localhost:8080/"
        },
        "id": "2OhBcpsrcMQU",
        "outputId": "1bcee76b-671c-4f2f-860a-16149e967f9b"
      },
      "execution_count": null,
      "outputs": [
        {
          "output_type": "stream",
          "name": "stdout",
          "text": [
            "0 1 2 3\n"
          ]
        }
      ]
    },
    {
      "cell_type": "markdown",
      "source": [
        "## Generator\n",
        "- Iterable object를 만드는 function"
      ],
      "metadata": {
        "id": "Kj_dvOW5cYYe"
      }
    },
    {
      "cell_type": "code",
      "source": [
        "def gen():\n",
        "    count = 0\n",
        "    while True:\n",
        "        yield count\n",
        "        count += 1\n",
        "\n",
        "for i in gen():\n",
        "    print(i)\n",
        "    if i == 10:\n",
        "        break"
      ],
      "metadata": {
        "id": "-B85Zo6tcaV5"
      },
      "execution_count": null,
      "outputs": []
    },
    {
      "cell_type": "code",
      "source": [
        "def gen():\n",
        "    count = 0\n",
        "    while True:\n",
        "        yield f'{count}주차'\n",
        "        count += 2\n",
        "과목 = ['HTML', 'CSS', 'JavaScript', 'Python']\n",
        "\n",
        "list(zip(과목, gen()))"
      ],
      "metadata": {
        "colab": {
          "base_uri": "https://localhost:8080/"
        },
        "id": "TrXNwiZLe7eK",
        "outputId": "5a0771c1-0170-4810-fdc4-38faf6434f0b"
      },
      "execution_count": null,
      "outputs": [
        {
          "output_type": "execute_result",
          "data": {
            "text/plain": [
              "[('HTML', '0주차'), ('CSS', '2주차'), ('JavaScript', '4주차'), ('Python', '6주차')]"
            ]
          },
          "metadata": {},
          "execution_count": 43
        }
      ]
    },
    {
      "cell_type": "code",
      "source": [
        "def gen():\n",
        "    count = 0\n",
        "    day = ['Mon','Tue','Wed','Thu', 'Fri']\n",
        "    while True:\n",
        "        yield day[count]\n",
        "        count += 1\n",
        "        if count == 5:\n",
        "            count = 0\n",
        "과목 = ['A', 'B', 'C', 'D', 'E', 'F', 'G', 'H', 'I', 'J', 'K']\n",
        "\n",
        "list(zip(과목, gen()))"
      ],
      "metadata": {
        "colab": {
          "base_uri": "https://localhost:8080/"
        },
        "id": "I-xE7fjSfjCU",
        "outputId": "2ae09487-64d0-47c4-a34e-995e11eab555"
      },
      "execution_count": null,
      "outputs": [
        {
          "output_type": "execute_result",
          "data": {
            "text/plain": [
              "[('A', 'Mon'),\n",
              " ('B', 'Tue'),\n",
              " ('C', 'Wed'),\n",
              " ('D', 'Thu'),\n",
              " ('E', 'Fri'),\n",
              " ('F', 'Mon'),\n",
              " ('G', 'Tue'),\n",
              " ('H', 'Wed'),\n",
              " ('I', 'Thu'),\n",
              " ('J', 'Fri'),\n",
              " ('K', 'Mon')]"
            ]
          },
          "metadata": {},
          "execution_count": 44
        }
      ]
    },
    {
      "cell_type": "markdown",
      "source": [
        "## Decorator"
      ],
      "metadata": {
        "id": "xK0U6mxFgCf_"
      }
    },
    {
      "cell_type": "code",
      "source": [
        "def func1():\n",
        "    return sum\n",
        "\n",
        "func1()([1,2])"
      ],
      "metadata": {
        "colab": {
          "base_uri": "https://localhost:8080/"
        },
        "id": "wAG1fg3u2qSA",
        "outputId": "c0bcd740-eb42-4683-a973-b8e920f69ec8"
      },
      "execution_count": null,
      "outputs": [
        {
          "output_type": "execute_result",
          "data": {
            "text/plain": [
              "3"
            ]
          },
          "metadata": {},
          "execution_count": 35
        }
      ]
    },
    {
      "cell_type": "code",
      "source": [
        "# 데이터 전처리 -> 이상치, 결측치 (빈값) 등을 처리\n",
        "'''\n",
        "@데이터전처리\n",
        "sum(data)\n",
        "'''"
      ],
      "metadata": {
        "id": "jjXpAG_TgEVW"
      },
      "execution_count": null,
      "outputs": []
    },
    {
      "cell_type": "code",
      "source": [
        "def one():\n",
        "    return lambda x,y:x+y\n",
        "add_ = one()\n",
        "add_(10,10)"
      ],
      "metadata": {
        "colab": {
          "base_uri": "https://localhost:8080/"
        },
        "id": "CRrei9H1jrrm",
        "outputId": "a734abb8-1a05-4174-ea1e-c68ceacae824"
      },
      "execution_count": null,
      "outputs": [
        {
          "output_type": "execute_result",
          "data": {
            "text/plain": [
              "20"
            ]
          },
          "metadata": {},
          "execution_count": 48
        }
      ]
    },
    {
      "cell_type": "code",
      "source": [
        "def one():\n",
        "    def two(x,y):\n",
        "        return x+y\n",
        "    return two\n",
        "\n",
        "add__ = one()\n",
        "add__(10,10)"
      ],
      "metadata": {
        "colab": {
          "base_uri": "https://localhost:8080/"
        },
        "id": "4qzbTpUCkns1",
        "outputId": "b2d061e3-0445-4347-b9b5-a71a1219723a"
      },
      "execution_count": null,
      "outputs": [
        {
          "output_type": "execute_result",
          "data": {
            "text/plain": [
              "20"
            ]
          },
          "metadata": {},
          "execution_count": 50
        }
      ]
    },
    {
      "cell_type": "code",
      "source": [
        "def print_hello(func):\n",
        "    def wrap_func():\n",
        "        print('hello')\n",
        "        func()\n",
        "    return wrap_func\n",
        "\n",
        "@print_hello        # print_hello(func1) 실행\n",
        "def func1():\n",
        "    print('func1 zz')\n",
        "\n",
        "func1()"
      ],
      "metadata": {
        "colab": {
          "base_uri": "https://localhost:8080/"
        },
        "id": "c2EHNiaqk896",
        "outputId": "1841d455-7c76-4e95-d97a-8b7bebed8728"
      },
      "execution_count": null,
      "outputs": [
        {
          "output_type": "stream",
          "name": "stdout",
          "text": [
            "hello\n",
            "func1 zz\n"
          ]
        }
      ]
    },
    {
      "cell_type": "code",
      "source": [
        "def greeting(func):\n",
        "    def wrap_func():\n",
        "        print('hello')\n",
        "        func()\n",
        "    return wrap_func\n",
        "\n",
        "@greeting\n",
        "def intro():\n",
        "    print('my name is ~~')\n",
        "\n",
        "intro()"
      ],
      "metadata": {
        "colab": {
          "base_uri": "https://localhost:8080/"
        },
        "id": "mXQ1OnLdl-CJ",
        "outputId": "b4c4cec5-7d72-42da-a012-4a26d7ae6f18"
      },
      "execution_count": null,
      "outputs": [
        {
          "output_type": "stream",
          "name": "stdout",
          "text": [
            "hello\n",
            "my name is ~~\n"
          ]
        }
      ]
    },
    {
      "cell_type": "code",
      "source": [
        "def 인사말(func):\n",
        "    def wrap_func():\n",
        "        print('안녕하세요.')\n",
        "        func()\n",
        "    return wrap_func\n",
        "\n",
        "@인사말\n",
        "def 자기소개1():\n",
        "    print('이호준입니다.')\n",
        "\n",
        "@인사말\n",
        "def 자기소개2():\n",
        "    print('홍길동입니다.')\n",
        "\n",
        "def 작별인사():\n",
        "    print('안녕히계세요.')\n",
        "\n",
        "자기소개1()\n",
        "자기소개2()\n",
        "작별인사()"
      ],
      "metadata": {
        "colab": {
          "base_uri": "https://localhost:8080/"
        },
        "id": "86Pwr9cvmiOg",
        "outputId": "9fec0353-5119-4607-f171-d455b919db66"
      },
      "execution_count": null,
      "outputs": [
        {
          "output_type": "stream",
          "name": "stdout",
          "text": [
            "안녕하세요.\n",
            "이호준입니다.\n",
            "안녕하세요.\n",
            "홍길동입니다.\n",
            "안녕히계세요.\n"
          ]
        }
      ]
    },
    {
      "cell_type": "code",
      "source": [
        "def 인사말(func):\n",
        "    def wrap_func(이름):\n",
        "        print('안녕하세요.')\n",
        "        func(이름)\n",
        "    return wrap_func\n",
        "\n",
        "@인사말\n",
        "def 자기소개1(name):\n",
        "    print(f'{name}입니다.')\n",
        "\n",
        "@인사말\n",
        "def 자기소개2(name):\n",
        "    print(f'{name}입니다.')\n",
        "\n",
        "def 작별인사():\n",
        "    print('안녕히계세요.')\n",
        "\n",
        "자기소개1('이호준')\n",
        "자기소개2('홍길동')\n",
        "\n",
        "# 인사말(자기소개1)('이호준')\n",
        "# 인사말(자기소개2)('홍길동')\n",
        "\n",
        "작별인사()"
      ],
      "metadata": {
        "colab": {
          "base_uri": "https://localhost:8080/"
        },
        "id": "jxJuwEZ_mikh",
        "outputId": "0c293c39-40b7-49be-98ec-821f7f7dc059"
      },
      "execution_count": null,
      "outputs": [
        {
          "output_type": "stream",
          "name": "stdout",
          "text": [
            "안녕하세요.\n",
            "이호준입니다.\n",
            "안녕하세요.\n",
            "홍길동입니다.\n",
            "안녕히계세요.\n"
          ]
        }
      ]
    },
    {
      "cell_type": "code",
      "source": [
        "def 전처리(func):\n",
        "    def wrap_func(iterable):\n",
        "        iterable = list(map(int, iterable))\n",
        "    return wrap_func\n",
        "\n",
        "@전처리\n",
        "def 평균(l):\n",
        "    return sum(l) / len(l)\n",
        "\n",
        "평균(['1', 2, 3, '4'])"
      ],
      "metadata": {
        "colab": {
          "base_uri": "https://localhost:8080/"
        },
        "id": "P8yjQ6EBn7Gx",
        "outputId": "62b81043-2ba9-43ab-af15-c91fee5d9c6d"
      },
      "execution_count": null,
      "outputs": [
        {
          "output_type": "stream",
          "name": "stdout",
          "text": [
            "2.5\n"
          ]
        }
      ]
    },
    {
      "cell_type": "code",
      "source": [
        "def 전처리(func):\n",
        "    def wrap_func(iterable):\n",
        "        i = list(map(int, iterable))\n",
        "        calculate = func(i)\n",
        "        result = str(calculate) + '%'\n",
        "        return result\n",
        "    return wrap_func\n",
        "\n",
        "@전처리\n",
        "def 평균(l):\n",
        "    return sum(l) / len(l)\n",
        "\n",
        "평균(['1', 2, 3, '4'])"
      ],
      "metadata": {
        "colab": {
          "base_uri": "https://localhost:8080/",
          "height": 35
        },
        "id": "oG0SjfX1qTQ6",
        "outputId": "be9d8516-4652-468d-a0f0-c5a9a537c728"
      },
      "execution_count": null,
      "outputs": [
        {
          "output_type": "execute_result",
          "data": {
            "text/plain": [
              "'2.5%'"
            ],
            "application/vnd.google.colaboratory.intrinsic+json": {
              "type": "string"
            }
          },
          "metadata": {},
          "execution_count": 62
        }
      ]
    },
    {
      "cell_type": "code",
      "source": [
        "# 데코레이터 실습 문제\n",
        "# 다음 값이 들어갔을 때, 숫자만 모두 더하는 코드를 완성하세요.\n",
        "input_ = ['10', True, False, '21', 0, 10, 20]\n",
        "\n",
        "def 전처리(f):\n",
        "    def wrap(a):\n",
        "        b = [int(i) for i in list(map(str, a)) if i.isdigit()]\n",
        "        result = f(b)\n",
        "        return result\n",
        "    return wrap\n",
        "\n",
        "\n",
        "\n",
        "@전처리\n",
        "def custom_sum(x):\n",
        "    return sum(x)\n",
        "    \n",
        "custom_sum(input_)"
      ],
      "metadata": {
        "colab": {
          "base_uri": "https://localhost:8080/"
        },
        "id": "8yxLgWbnqT7c",
        "outputId": "fe25b9c0-68f9-4998-a692-33c680137fa0"
      },
      "execution_count": null,
      "outputs": [
        {
          "output_type": "execute_result",
          "data": {
            "text/plain": [
              "61"
            ]
          },
          "metadata": {},
          "execution_count": 73
        }
      ]
    },
    {
      "cell_type": "code",
      "source": [
        "def decorator1(func):\n",
        "    def wrapper():\n",
        "        print('decorator1')\n",
        "        func()\n",
        "    return wrapper\n",
        " \n",
        "def decorator2(func):\n",
        "    def wrapper():\n",
        "        print('decorator2')\n",
        "        func()\n",
        "    return wrapper\n",
        " \n",
        "# 데코레이터를 여러 개 지정\n",
        "@decorator1\n",
        "@decorator2\n",
        "def hello():\n",
        "    print('hello')\n",
        " \n",
        "hello()"
      ],
      "metadata": {
        "colab": {
          "base_uri": "https://localhost:8080/"
        },
        "id": "5hcUdivntMDH",
        "outputId": "3b2e124e-6b6b-406a-e44a-f0d445b0784a"
      },
      "execution_count": null,
      "outputs": [
        {
          "output_type": "stream",
          "name": "stdout",
          "text": [
            "decorator1\n",
            "decorator2\n",
            "hello\n"
          ]
        }
      ]
    },
    {
      "cell_type": "markdown",
      "source": [
        "## Module & Package"
      ],
      "metadata": {
        "id": "pGv7dNUyC6D1"
      }
    },
    {
      "cell_type": "code",
      "source": [
        "# test1.py in current directory\n",
        "import test1\n",
        "\n",
        "print(name, age)"
      ],
      "metadata": {
        "colab": {
          "base_uri": "https://localhost:8080/"
        },
        "id": "Warc2WyNA_d5",
        "outputId": "a90fb746-8864-484b-e27b-5ea6e8b2270a"
      },
      "execution_count": null,
      "outputs": [
        {
          "output_type": "stream",
          "name": "stdout",
          "text": [
            "hahaha 10\n"
          ]
        }
      ]
    },
    {
      "cell_type": "code",
      "source": [
        "# 주의!! 같은 이름이 있었을 경우\n",
        "# 마지막에 추가된 추가된 변수명으로 할당\n",
        "# import * 는 더더욱 포함시키는 변수, 메서드, 클래스 명을 알 수 없기에\n",
        "# 주의해서 사용해야 합니다.\n",
        "from test1 import name\n",
        "from test2 import name\n",
        "\n",
        "print(name)"
      ],
      "metadata": {
        "colab": {
          "base_uri": "https://localhost:8080/"
        },
        "id": "bSu7tTptFIZ8",
        "outputId": "815a0484-e0a7-4bb2-fc46-34efba32fedf"
      },
      "execution_count": null,
      "outputs": [
        {
          "output_type": "stream",
          "name": "stdout",
          "text": [
            "haha22\n"
          ]
        }
      ]
    },
    {
      "cell_type": "code",
      "source": [
        "from one.two import three\n",
        "\n",
        "print(three.name)"
      ],
      "metadata": {
        "colab": {
          "base_uri": "https://localhost:8080/"
        },
        "id": "jBRFH5wIFQah",
        "outputId": "9d9cdb9a-c028-463a-8cc1-c334f2291d45"
      },
      "execution_count": null,
      "outputs": [
        {
          "output_type": "stream",
          "name": "stdout",
          "text": [
            "this is three\n"
          ]
        }
      ]
    },
    {
      "cell_type": "code",
      "source": [
        "import test1 as t\n",
        "t.hello()"
      ],
      "metadata": {
        "colab": {
          "base_uri": "https://localhost:8080/"
        },
        "id": "Eh0BEX-wHYae",
        "outputId": "f7bd39db-9e27-411b-f865-ade9a8b11e67"
      },
      "execution_count": null,
      "outputs": [
        {
          "output_type": "stream",
          "name": "stdout",
          "text": [
            "hello world\n"
          ]
        }
      ]
    },
    {
      "cell_type": "code",
      "source": [
        "# Module of Python\n",
        "import pandas as pd\n",
        "import numpy as np"
      ],
      "metadata": {
        "id": "qMYJ8AOWHd6C"
      },
      "execution_count": null,
      "outputs": []
    },
    {
      "cell_type": "code",
      "source": [
        "!pip install # package name\n",
        "!pip list    # show package list"
      ],
      "metadata": {
        "id": "uycNal5HH63Y"
      },
      "execution_count": null,
      "outputs": []
    },
    {
      "cell_type": "markdown",
      "source": [
        "## 파일 입출력"
      ],
      "metadata": {
        "id": "sASAexgvNXNE"
      }
    },
    {
      "cell_type": "code",
      "source": [
        "f = open('python.txt', 'w') # 파일 모드 : r(read), w(write, 덮어쓰기), a(append)\n",
        "f.close()"
      ],
      "metadata": {
        "id": "fkVuUSQ2ISxD"
      },
      "execution_count": null,
      "outputs": []
    },
    {
      "cell_type": "code",
      "source": [
        "f = open('python.txt', 'w')\n",
        "s = 'hello\\nworld'\n",
        "f.write(s)\n",
        "f.close()"
      ],
      "metadata": {
        "id": "t_HYHhbBN5hC"
      },
      "execution_count": null,
      "outputs": []
    },
    {
      "cell_type": "code",
      "source": [
        "data1 = ['one', 'two', 'three']\n",
        "data2 = [10, 20, 30]\n",
        "\n",
        "'''\n",
        "{\n",
        "    \"one\" : 10,\n",
        "    \"two\" : 20,\n",
        "    \"three\" : 30\n",
        "}\n",
        "'''\n",
        "f = open('data.json', 'w')\n",
        "f.write('{\\n')\n",
        "for elem in [f'\\\"{d1}\\\" : {d2}' for d1, d2 in zip(data1, data2)]:\n",
        "    f.write('    ')\n",
        "    f.write(elem)\n",
        "    f.write('\\n')\n",
        "f.write('}')\n",
        "f.close()"
      ],
      "metadata": {
        "id": "ZtPOYlY2OjRR"
      },
      "execution_count": null,
      "outputs": []
    },
    {
      "cell_type": "code",
      "source": [
        "import json\n",
        "\n",
        "data1 = ['one', 'two', 'three']\n",
        "data2 = [10, 20, 30]\n",
        "\n",
        "'''\n",
        "{\n",
        "    \"one\" : 10,\n",
        "    \"two\" : 20,\n",
        "    \"three\" : 30\n",
        "}\n",
        "'''\n",
        "\n",
        "with open(\"data.json2\", \"w\") as file:\n",
        "    json.dump(dict(zip(data1, data2)), file, indent=4)"
      ],
      "metadata": {
        "id": "YlnEFIcHN6xr"
      },
      "execution_count": null,
      "outputs": []
    },
    {
      "cell_type": "code",
      "source": [
        "import json\n",
        "text = f'/////////////// 업데이트 방법 //////////////\\n\\\n",
        "// 1. 아래 데이터는 민감데이터로 크롤링에 의존하지 않는 데이터입니다.\\n\\\n",
        "//    긴급할 경우 아래 데이터만 수정하여 push 해주세요.\\n\\\n",
        "// 2. 크롤러_통합.py를 실행시키시고, 모두 push해주시면 됩니다.\\n\\\n",
        "//    크롤러_세계확진자.js, koreaRegionalData.js가 뽑힙니다.\\n\\\n",
        "// 3. 크롤러가 동작하지 않을 경우 수동업데이트해야 합니다.\\n\\\n",
        "////////////////////////////////////////////\\n\\\n",
        "// 존스홉킨스 : https://gisanddata.maps.arcgis.com/a\\n\\\n",
        "// https://www.worldometers.info/coronavirus/\\n\\\n",
        "// 질본 : http://ncov.mohw.go.kr/bdBoardLis\\n\\\n",
        "// 선차트용 데이터 - 제주도청 제공\\n\\\n",
        "var 입도객현황 = '\n",
        "\n",
        "data1 = ['one', 'two', 'three']\n",
        "data2 = [10, 20, 30]\n",
        "\n",
        "\n",
        "f = open('data.js', 'w')\n",
        "s = json.dumps(dict(zip(data1,data2)), indent=4)\n",
        "s = text + s\n",
        "f.write(s)\n",
        "f.close()"
      ],
      "metadata": {
        "id": "RbDbeY61VQl6"
      },
      "execution_count": null,
      "outputs": []
    },
    {
      "cell_type": "code",
      "source": [
        "import json\n",
        "\n",
        "text = f'안내문구\\nvar 입도객현황 = '\n",
        "\n",
        "data1 = ['one', 'two', 'three']\n",
        "data2 = [10, 20, 30]\n",
        "\n",
        "f = open('data.js', 'w')\n",
        "s = json.dumps(dict(zip(data1,data2)), indent=4)\n",
        "s = text + s\n",
        "f.write(s)\n",
        "f.close()"
      ],
      "metadata": {
        "id": "usmrL-vCVVcF"
      },
      "execution_count": null,
      "outputs": []
    },
    {
      "cell_type": "markdown",
      "source": [
        "### 파일 읽기\n",
        "- readline()    -> 한줄씩"
      ],
      "metadata": {
        "id": "krevzuGNV8vj"
      }
    },
    {
      "cell_type": "code",
      "source": [
        "f = open('python.txt', 'r')\n",
        "while True:\n",
        "    line = f.readline()\n",
        "    if not line:\n",
        "        break\n",
        "    print(line)\n",
        "f.close()"
      ],
      "metadata": {
        "id": "Mq75We98WB2k"
      },
      "execution_count": null,
      "outputs": []
    },
    {
      "cell_type": "markdown",
      "source": [
        "- readlines()   -> 전체 텍스트"
      ],
      "metadata": {
        "id": "OrtRd7ibWolw"
      }
    },
    {
      "cell_type": "code",
      "source": [
        "f = open('python.txt', 'r')\n",
        "lines = f.readlines()\n",
        "for line in lines:\n",
        "    print(line)\n",
        "f.close()"
      ],
      "metadata": {
        "id": "OX7ZR96dWP_s"
      },
      "execution_count": null,
      "outputs": []
    },
    {
      "cell_type": "code",
      "source": [
        "f = open('python.txt', 'r')\n",
        "lines = f.readlines()\n",
        "for line in lines:\n",
        "    print(line, end='')\n",
        "f.close()"
      ],
      "metadata": {
        "id": "aZqXG3-dW20L"
      },
      "execution_count": null,
      "outputs": []
    },
    {
      "cell_type": "markdown",
      "source": [
        "- read() -> 파일 전체 내용"
      ],
      "metadata": {
        "id": "eBVgJKmHWpOY"
      }
    },
    {
      "cell_type": "code",
      "source": [
        "f = open('python.txt', 'r')\n",
        "data = f.read()\n",
        "print(data)\n",
        "f.close()"
      ],
      "metadata": {
        "colab": {
          "base_uri": "https://localhost:8080/"
        },
        "id": "XxLGHP0HWtgp",
        "outputId": "80e38dac-5d14-4581-cd1a-83daf37bf605"
      },
      "execution_count": null,
      "outputs": [
        {
          "output_type": "stream",
          "name": "stdout",
          "text": [
            "hello\n",
            "world\n"
          ]
        }
      ]
    },
    {
      "cell_type": "markdown",
      "source": [
        "### 파일 내용 추가"
      ],
      "metadata": {
        "id": "EjcHvmIhXAe6"
      }
    },
    {
      "cell_type": "code",
      "source": [
        "f = open('python.txt','w')\n",
        "s = ''\n",
        "for i in range(5):\n",
        "    s += f'{i}명 참여 중입니다. \\n'\n",
        "f.write(s)\n",
        "f.close()"
      ],
      "metadata": {
        "id": "ItdRigPgUaQd"
      },
      "execution_count": 1,
      "outputs": []
    },
    {
      "cell_type": "code",
      "source": [
        "f = open('python.txt', 'a')\n",
        "s = ''\n",
        "for i in range(5, 11):\n",
        "    s += f'{i}명 참여 중입니다. \\n'\n",
        "f.write(s)\n",
        "f.close()"
      ],
      "metadata": {
        "id": "uxoauhH7VE8R"
      },
      "execution_count": 2,
      "outputs": []
    },
    {
      "cell_type": "markdown",
      "source": [
        "### 파일 열기와 닫기를 동시에"
      ],
      "metadata": {
        "id": "6FLaTNykV30v"
      }
    },
    {
      "cell_type": "code",
      "source": [
        "with open('test.txt', 'w') as f:\n",
        "    f.write('Life is too short, you need python')"
      ],
      "metadata": {
        "id": "X3WYhoRXV9tD"
      },
      "execution_count": null,
      "outputs": []
    },
    {
      "cell_type": "markdown",
      "source": [
        "### 파일 입출력 심화 (엑셀)"
      ],
      "metadata": {
        "id": "ahwua3FnZ0Lw"
      }
    },
    {
      "cell_type": "code",
      "source": [
        "!pip3 install xlsxwriter"
      ],
      "metadata": {
        "colab": {
          "base_uri": "https://localhost:8080/"
        },
        "id": "R8ZQBTaVZ9EO",
        "outputId": "6b4b1915-194f-42a2-f5f9-8184ff142913"
      },
      "execution_count": null,
      "outputs": [
        {
          "output_type": "stream",
          "name": "stdout",
          "text": [
            "Looking in indexes: https://pypi.org/simple, https://us-python.pkg.dev/colab-wheels/public/simple/\n",
            "Collecting xlsxwriter\n",
            "  Downloading XlsxWriter-3.1.0-py3-none-any.whl (152 kB)\n",
            "\u001b[2K     \u001b[90m━━━━━━━━━━━━━━━━━━━━━━━━━━━━━━━━━━━━━━━\u001b[0m \u001b[32m152.7/152.7 kB\u001b[0m \u001b[31m3.9 MB/s\u001b[0m eta \u001b[36m0:00:00\u001b[0m\n",
            "\u001b[?25hInstalling collected packages: xlsxwriter\n",
            "Successfully installed xlsxwriter-3.1.0\n"
          ]
        }
      ]
    },
    {
      "cell_type": "code",
      "source": [
        "import xlsxwriter"
      ],
      "metadata": {
        "id": "r2EnkLB9ajBG"
      },
      "execution_count": null,
      "outputs": []
    },
    {
      "cell_type": "code",
      "source": [
        "# 엑셀 파일 생성하기\n",
        "workbook = xlsxwriter.Workbook('test.xlsx')\n",
        "\n",
        "# 파일 안에 워크 시트 생성하기\n",
        "worksheet = workbook.add_worksheet('test')\n",
        "\n",
        "data = ['AA', 'BB', 'CC', 'DD']\n",
        "worksheet.write('A1', data[0])\n",
        "worksheet.write('B1', data[1])\n",
        "worksheet.write('C1', data[2])\n",
        "worksheet.write('D1', data[3])\n",
        "\n",
        "worksheet.write('A2', 1)\n",
        "worksheet.write('B2', 2)\n",
        "worksheet.write('C2', 3)\n",
        "worksheet.write('D2', 4)\n",
        "            #(행, 열, 데이터)\n",
        "worksheet.write(2, 0, 10)\n",
        "worksheet.write(2, 1, 20)\n",
        "worksheet.write(2, 2, 30)\n",
        "worksheet.write(2, 3, 40)\n",
        "\n",
        "\n",
        "\n",
        "홍길동 = [33, 88, 24]\n",
        "이호준 = [34, 66, 77]\n",
        "김철수 = [78, 82, 36]\n",
        "\n",
        "worksheet.write(2, 0, '홍길동')\n",
        "worksheet.write(3, 0, '이호준')\n",
        "worksheet.write(4, 0, '김철수')\n",
        "for i in range(1, 4):\n",
        "    for j in 홍길동:\n",
        "        worksheet.write(2, i, j)\n",
        "    for j in 이호준:\n",
        "        worksheet.write(3, i, j)\n",
        "    for j in 김철수:\n",
        "        worksheet.write(4, i, j)\n",
        "\n",
        "\n",
        "workbook.close()"
      ],
      "metadata": {
        "id": "wy5devrea2oW"
      },
      "execution_count": null,
      "outputs": []
    },
    {
      "cell_type": "markdown",
      "source": [
        "## OS Module"
      ],
      "metadata": {
        "id": "M-FEKhQ4hOAq"
      }
    },
    {
      "cell_type": "code",
      "source": [
        "import os\n",
        "os.getcwd() # 현재 작업중인 directory 출력"
      ],
      "metadata": {
        "colab": {
          "base_uri": "https://localhost:8080/",
          "height": 35
        },
        "id": "0GdS_Ir1hQIT",
        "outputId": "608e5a14-9f01-480e-8b14-e5e6ae24ff9c"
      },
      "execution_count": null,
      "outputs": [
        {
          "output_type": "execute_result",
          "data": {
            "text/plain": [
              "'/content'"
            ],
            "application/vnd.google.colaboratory.intrinsic+json": {
              "type": "string"
            }
          },
          "metadata": {},
          "execution_count": 13
        }
      ]
    },
    {
      "cell_type": "code",
      "source": [
        "os.listdir() # 경로에 존재하는 파일과 directory를 리스트로 반환"
      ],
      "metadata": {
        "id": "AJOfoMcMhyg2"
      },
      "execution_count": null,
      "outputs": []
    },
    {
      "cell_type": "code",
      "source": [
        "for i in os.listdir():\n",
        "    if '.' in i:\n",
        "        if i.split('.')[1] in ['txt', 'py']:\n",
        "            print(i)"
      ],
      "metadata": {
        "colab": {
          "base_uri": "https://localhost:8080/"
        },
        "id": "BKs1wBrpikNn",
        "outputId": "d4fa587d-d3dc-4201-d4ca-b95a19648f58"
      },
      "execution_count": null,
      "outputs": [
        {
          "output_type": "stream",
          "name": "stdout",
          "text": [
            "python.txt\n",
            "test1.py\n",
            "test2.py\n"
          ]
        }
      ]
    },
    {
      "cell_type": "code",
      "source": [
        "os.mkdir('hello') # 현재 작업 directory에 arguement를 이름으로 폴더 생성"
      ],
      "metadata": {
        "id": "MvoQEk5NiurI"
      },
      "execution_count": null,
      "outputs": []
    },
    {
      "cell_type": "code",
      "source": [
        "import glob\n",
        "\n",
        "glob.glob(\"*.py\")"
      ],
      "metadata": {
        "id": "GCZIpnWUjPvX"
      },
      "execution_count": null,
      "outputs": []
    },
    {
      "cell_type": "markdown",
      "source": [
        "## Advanced Problem\n",
        "\n",
        "```python\n",
        "@writefile\n",
        "def add(a,b):\n",
        "    return a+b\n",
        "\n",
        "# writefile는 result.txt에 저장됨\n",
        "# {\n",
        "#     \"a\": 10,\n",
        "#     \"b\": 20,\n",
        "#     \"a+b\": 30\n",
        "# }\n",
        "```\n"
      ],
      "metadata": {
        "id": "ynFV42RCkVO8"
      }
    },
    {
      "cell_type": "code",
      "source": [
        "import json\n",
        "\n",
        "def writefile(func):\n",
        "    def wrap(a,b):\n",
        "        result = dict()\n",
        "        result[\"a\"] = a\n",
        "        result[\"b\"] = b\n",
        "        result[\"a+b\"] = func(a,b)\n",
        "\n",
        "        f = open(\"result.txt\", 'w')\n",
        "        json.dump(result, f, indent = 4)\n",
        "        f.close()\n",
        "    return wrap\n",
        "\n",
        "@writefile\n",
        "def add(a,b):\n",
        "    return a+b\n",
        "\n",
        "add(10,20)"
      ],
      "metadata": {
        "id": "-_0Eqx4qXDLm",
        "colab": {
          "base_uri": "https://localhost:8080/"
        },
        "outputId": "2db64960-2588-4513-fb3b-12f6d382ba47"
      },
      "execution_count": null,
      "outputs": [
        {
          "output_type": "stream",
          "name": "stdout",
          "text": [
            "{'a': 10, 'b': 20, 'a+b': 30}\n"
          ]
        }
      ]
    },
    {
      "cell_type": "markdown",
      "source": [
        "## Python ERROR 처리\n",
        "- Python에서는 ERROR를 만나면 service가 멈춤"
      ],
      "metadata": {
        "id": "LxVLeJAVWlXc"
      }
    },
    {
      "cell_type": "code",
      "source": [
        "# Syntax Error\n",
        "for i in range(10)\n",
        "    print(i)"
      ],
      "metadata": {
        "id": "fmTyIURlWzH4"
      },
      "execution_count": null,
      "outputs": []
    },
    {
      "cell_type": "code",
      "source": [
        "# Name Error\n",
        "print(x)"
      ],
      "metadata": {
        "id": "t7BM0vTCYdaD"
      },
      "execution_count": null,
      "outputs": []
    },
    {
      "cell_type": "code",
      "source": [
        "# Type Error\n",
        "x = 10\n",
        "y = '20'\n",
        "print(x + y)"
      ],
      "metadata": {
        "id": "9q-3t6HaYey0"
      },
      "execution_count": null,
      "outputs": []
    },
    {
      "cell_type": "code",
      "source": [
        "# Value Error\n",
        "int('a')"
      ],
      "metadata": {
        "id": "QCg89kaBY9-O"
      },
      "execution_count": null,
      "outputs": []
    },
    {
      "cell_type": "code",
      "source": [
        "# Key Error\n",
        "my_dict = {'a': 1, 'b': 2}\n",
        "print(my_dict['c'])"
      ],
      "metadata": {
        "id": "zm-AIG4kZT30"
      },
      "execution_count": null,
      "outputs": []
    },
    {
      "cell_type": "code",
      "source": [
        "# Index Error\n",
        "my_list = [1, 2, 3]\n",
        "print(my_list[3])"
      ],
      "metadata": {
        "id": "afQ2_hBpZWZb"
      },
      "execution_count": null,
      "outputs": []
    },
    {
      "cell_type": "code",
      "source": [
        "# Attribute Error\n",
        "my_list = [1, 2, 3]\n",
        "print(my_list.appeend(4))"
      ],
      "metadata": {
        "id": "H6arQztKZYe9"
      },
      "execution_count": null,
      "outputs": []
    },
    {
      "cell_type": "code",
      "source": [
        "# Type Error\n",
        "def add(x, y):\n",
        "    return x + y\n",
        "\n",
        "add(1, 2, 3)"
      ],
      "metadata": {
        "id": "pcyC5zspZfS-"
      },
      "execution_count": null,
      "outputs": []
    },
    {
      "cell_type": "markdown",
      "source": [
        "## 예외 처리"
      ],
      "metadata": {
        "id": "1Z2CMVTwaI5Q"
      }
    },
    {
      "cell_type": "code",
      "source": [
        "try:\n",
        "    # 예외가 발생할 가능성이 있는 코드\n",
        "except:\n",
        "    # 예외 처리 코드"
      ],
      "metadata": {
        "id": "Mdbpg8DWZqxb"
      },
      "execution_count": null,
      "outputs": []
    },
    {
      "cell_type": "code",
      "source": [
        "def div(a, b):\n",
        "    return a / b\n",
        "\n",
        "def f():\n",
        "    try:\n",
        "        return div(1, 0)\n",
        "    except:\n",
        "        return float('inf')\n",
        "        # return None\n",
        "\n",
        "result = f() + f()  # result는 float를 기대\n",
        "print(result)"
      ],
      "metadata": {
        "colab": {
          "base_uri": "https://localhost:8080/"
        },
        "id": "mtcfJAxXadPF",
        "outputId": "c736660c-3a2b-4c1c-947a-1bfccbb8f8e1"
      },
      "execution_count": 24,
      "outputs": [
        {
          "output_type": "stream",
          "name": "stdout",
          "text": [
            "inf\n"
          ]
        }
      ]
    },
    {
      "cell_type": "code",
      "source": [
        "try:\n",
        "    1/0\n",
        "except:\n",
        "    print('ERROR')\n",
        "else:\n",
        "    print('Successfully END')"
      ],
      "metadata": {
        "colab": {
          "base_uri": "https://localhost:8080/"
        },
        "id": "bf-tuKyccHPm",
        "outputId": "eb748071-5091-47b2-aa9e-937266d16b3c"
      },
      "execution_count": 1,
      "outputs": [
        {
          "output_type": "stream",
          "name": "stdout",
          "text": [
            "ERROR\n"
          ]
        }
      ]
    },
    {
      "cell_type": "code",
      "source": [
        "try:\n",
        "    1/0\n",
        "finally:    # 예외 여부와 상관없이 실행\n",
        "    print('finally')\n",
        "\n",
        "print('hello world')"
      ],
      "metadata": {
        "id": "oJKcXh5YfP7M"
      },
      "execution_count": null,
      "outputs": []
    },
    {
      "cell_type": "code",
      "source": [
        "try:\n",
        "    # 예외가 발생할 가능성이 있는 코드\n",
        "except:\n",
        "    # 예외 처리 코드\n",
        "else:\n",
        "    # 예외가 발생하지 않을 때 실행되는 코드\n",
        "finally:\n",
        "    # 예외 발생 여부와 상관없이 항상 실행되는 코드"
      ],
      "metadata": {
        "id": "-9wwJq3ufQTV"
      },
      "execution_count": null,
      "outputs": []
    },
    {
      "cell_type": "code",
      "source": [
        "raise KeyError('코드를 그지같이 짜셨네요?')"
      ],
      "metadata": {
        "id": "qjm84sergEtc"
      },
      "execution_count": null,
      "outputs": []
    },
    {
      "cell_type": "code",
      "source": [
        "class my_error(Exception):\n",
        "    def __init__(self):\n",
        "        super().__init__('papapap')\n",
        "\n",
        "raise my_error"
      ],
      "metadata": {
        "id": "qCt8jSdDpdU1"
      },
      "execution_count": null,
      "outputs": []
    },
    {
      "cell_type": "markdown",
      "source": [
        "## 클로저, 팩토리 함수\n",
        "- 접근 통제, 제한, 변수 보호 등으로 사용됨"
      ],
      "metadata": {
        "id": "60fyyxXv2MQC"
      }
    },
    {
      "cell_type": "code",
      "source": [
        "def one():\n",
        "    def two():\n",
        "        return\n",
        "    return two\n",
        "\n",
        "hello = one()       # hello == two"
      ],
      "metadata": {
        "id": "1rzzezHRqGsv"
      },
      "execution_count": 36,
      "outputs": []
    },
    {
      "cell_type": "code",
      "source": [
        "def one(x):\n",
        "    def two():\n",
        "        return\n",
        "    return two\n",
        "\n",
        "hello = one(10)"
      ],
      "metadata": {
        "id": "e20QeJuj2rCb"
      },
      "execution_count": null,
      "outputs": []
    },
    {
      "cell_type": "code",
      "source": [
        "def user(username, usermoney):\n",
        "    def userbuy(productname, productprice):\n",
        "        leftmoney = usermoney - productprice\n",
        "        return f'{productname}를 {username}님이 구매하셔서 계좌에 {leftmoney}가 남아있습니다.'\n",
        "    return userbuy\n",
        "\n",
        "buy = user('leehojun', 1000000)\n",
        "buy('자전거', 100000)"
      ],
      "metadata": {
        "colab": {
          "base_uri": "https://localhost:8080/",
          "height": 35
        },
        "id": "j_YYuvq9JQR9",
        "outputId": "e3a2fe5d-3a7d-4945-c24d-4e836db15798"
      },
      "execution_count": 40,
      "outputs": [
        {
          "output_type": "execute_result",
          "data": {
            "text/plain": [
              "'자전거를 leehojun님이 구매하셔서 계좌에 900000가 남아있습니다.'"
            ],
            "application/vnd.google.colaboratory.intrinsic+json": {
              "type": "string"
            }
          },
          "metadata": {},
          "execution_count": 40
        }
      ]
    },
    {
      "cell_type": "code",
      "source": [
        "def user(username, usermoney):\n",
        "    def userbuy(productname, productprice):\n",
        "        leftmoney = usermoney - productprice\n",
        "        return f'{productname}를 {username}님이 구매하셔서 계좌에 {leftmoney}가 남아있습니다.'\n",
        "    return userbuy\n",
        "\n",
        "이호준구매 = user('leehojun', 1000000)\n",
        "이호준구매('자전거', 100000)\n",
        "\n",
        "홍길동구매 = user('hongildong', 1000000)\n",
        "홍길동구매('킥보드', 50000)\n",
        "\n",
        "# 구매 함수를 통해 계좌 잔액에 직접 접근 X"
      ],
      "metadata": {
        "colab": {
          "base_uri": "https://localhost:8080/",
          "height": 35
        },
        "id": "plWWW7QtKJLW",
        "outputId": "23528dbf-e276-45c5-f4ce-d7295cebe5ef"
      },
      "execution_count": 43,
      "outputs": [
        {
          "output_type": "execute_result",
          "data": {
            "text/plain": [
              "'킥보드를 hongildong님이 구매하셔서 계좌에 950000가 남아있습니다.'"
            ],
            "application/vnd.google.colaboratory.intrinsic+json": {
              "type": "string"
            }
          },
          "metadata": {},
          "execution_count": 43
        }
      ]
    }
  ]
}